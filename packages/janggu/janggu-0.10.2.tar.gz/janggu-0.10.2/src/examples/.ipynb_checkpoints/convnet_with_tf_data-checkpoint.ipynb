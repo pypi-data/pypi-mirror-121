{
 "cells": [
  {
   "cell_type": "markdown",
   "metadata": {},
   "source": [
    "# Predict regulatory regions from the DNA sequence using keras"
   ]
  },
  {
   "cell_type": "markdown",
   "metadata": {},
   "source": [
    "In this notebook we illustrate several variants how to predict regulatory regions (of a toy example) from the DNA sequence.\n",
    "The reference genome is made up of a concatenation of Oct4 and Mafk binding sites and we shall use all regions on chromosome 'pseudo1' as training\n",
    "and 'pseudo2' as test chromosomes."
   ]
  },
  {
   "cell_type": "code",
   "execution_count": 1,
   "metadata": {},
   "outputs": [],
   "source": [
    "import os\n",
    "\n",
    "import numpy as np\n",
    "import tensorflow as tf\n",
    "from tensorflow.keras import Model\n",
    "from tensorflow.keras import backend as K\n",
    "from tensorflow.keras.layers import Conv2D\n",
    "\n",
    "from tensorflow.keras.layers import Dense\n",
    "from tensorflow.keras.layers import GlobalAveragePooling2D\n",
    "from tensorflow.keras.layers import Input\n",
    "\n",
    "from pkg_resources import resource_filename\n",
    "\n",
    "from janggu.data import Bioseq\n",
    "from janggu.data import Cover\n",
    "from janggu.data import ReduceDim\n",
    "from janggu.layers import DnaConv2D\n",
    "\n",
    "from sklearn.metrics import roc_auc_score"
   ]
  },
  {
   "cell_type": "code",
   "execution_count": 2,
   "metadata": {},
   "outputs": [],
   "source": [
    "from IPython.display import Image\n",
    "\n",
    "np.random.seed(1234)"
   ]
  },
  {
   "cell_type": "markdown",
   "metadata": {},
   "source": [
    "First, we need to specify the output directory in which the results are stored."
   ]
  },
  {
   "cell_type": "code",
   "execution_count": 3,
   "metadata": {},
   "outputs": [],
   "source": [
    "os.environ['JANGGU_OUTPUT'] = '/home/wkopp/janggu_examples'"
   ]
  },
  {
   "cell_type": "markdown",
   "metadata": {},
   "source": [
    "Specify the DNA sequence feature order. Order 1, 2 and 3 correspond to mono-, di- and tri-nucleotide based features (see Tutorial)."
   ]
  },
  {
   "cell_type": "code",
   "execution_count": 4,
   "metadata": {},
   "outputs": [],
   "source": [
    "order = 3"
   ]
  },
  {
   "cell_type": "code",
   "execution_count": 5,
   "metadata": {},
   "outputs": [],
   "source": [
    "# load the dataset\n",
    "# The pseudo genome represents just a concatenation of all sequences\n",
    "# in sample.fa and sample2.fa. Therefore, the results should be almost\n",
    "# identically to the models obtained from classify_fasta.py.\n",
    "REFGENOME = resource_filename('janggu', 'resources/pseudo_genome.fa')\n",
    "# ROI contains regions spanning positive and negative examples\n",
    "ROI_TRAIN_FILE = resource_filename('janggu', 'resources/roi_train.bed')\n",
    "ROI_TEST_FILE = resource_filename('janggu', 'resources/roi_test.bed')\n",
    "# PEAK_FILE only contains positive examples\n",
    "PEAK_FILE = resource_filename('janggu', 'resources/scores.bed')"
   ]
  },
  {
   "cell_type": "markdown",
   "metadata": {},
   "source": [
    "Load the datasets for training and testing"
   ]
  },
  {
   "cell_type": "code",
   "execution_count": 6,
   "metadata": {},
   "outputs": [],
   "source": [
    "# Training input and labels are purely defined genomic coordinates\n",
    "DNA = Bioseq.create_from_refgenome('dna', refgenome=REFGENOME,\n",
    "                                   roi=ROI_TRAIN_FILE,\n",
    "                                   binsize=200,\n",
    "                                   order=order,\n",
    "                                   cache=True)\n",
    "\n",
    "# The ReduceDim wrapper transforms the dataset from a 4D object to a 2D table-like representation\n",
    "LABELS = ReduceDim(Cover.create_from_bed('peaks', roi=ROI_TRAIN_FILE,\n",
    "                               bedfiles=PEAK_FILE,\n",
    "                               binsize=200,\n",
    "                               resolution=200,\n",
    "                               cache=True,\n",
    "                               storage='sparse'))\n",
    "\n",
    "\n",
    "DNA_TEST = Bioseq.create_from_refgenome('dna', refgenome=REFGENOME,\n",
    "                                        roi=ROI_TEST_FILE,\n",
    "                                        binsize=200,\n",
    "                                        order=order)\n",
    "\n",
    "LABELS_TEST = ReduceDim(Cover.create_from_bed('peaks',\n",
    "                                    bedfiles=PEAK_FILE,\n",
    "                                    roi=ROI_TEST_FILE,\n",
    "                                    binsize=200,\n",
    "                                    resolution=200,\n",
    "                                    storage='sparse'))\n"
   ]
  },
  {
   "cell_type": "code",
   "execution_count": 7,
   "metadata": {},
   "outputs": [
    {
     "name": "stdout",
     "output_type": "stream",
     "text": [
      "training set: (7797, 198, 1, 64) (7797, 1)\n",
      "test set: (200, 198, 1, 64) (200, 1)\n"
     ]
    }
   ],
   "source": [
    "print('training set:', DNA.shape, LABELS.shape)\n",
    "print('test set:', DNA_TEST.shape, LABELS_TEST.shape)"
   ]
  },
  {
   "cell_type": "code",
   "execution_count": 25,
   "metadata": {},
   "outputs": [],
   "source": [
    "dna_ds = DNA.to_tf_dataset().map(lambda x: tf.sparse.to_dense(x))"
   ]
  },
  {
   "cell_type": "code",
   "execution_count": 15,
   "metadata": {},
   "outputs": [],
   "source": [
    "label_ds = LABELS.data.to_tf_dataset(as_sparse=False).map(lambda x: tf.reduce_sum(x, axis=(0,1)))"
   ]
  },
  {
   "cell_type": "code",
   "execution_count": 26,
   "metadata": {},
   "outputs": [
    {
     "data": {
      "text/plain": [
       "<MapDataset shapes: (198, 1, 64), types: tf.int32>"
      ]
     },
     "execution_count": 26,
     "metadata": {},
     "output_type": "execute_result"
    }
   ],
   "source": [
    "dna_ds"
   ]
  },
  {
   "cell_type": "code",
   "execution_count": 16,
   "metadata": {},
   "outputs": [
    {
     "data": {
      "text/plain": [
       "<MapDataset shapes: (1,), types: tf.float32>"
      ]
     },
     "execution_count": 16,
     "metadata": {},
     "output_type": "execute_result"
    }
   ],
   "source": [
    "label_ds"
   ]
  },
  {
   "cell_type": "code",
   "execution_count": 17,
   "metadata": {},
   "outputs": [],
   "source": [
    "ds=tf.data.Dataset.zip((dna_ds, label_ds)).shuffle(buffer_size=10000).batch(32)"
   ]
  },
  {
   "cell_type": "code",
   "execution_count": 27,
   "metadata": {},
   "outputs": [
    {
     "data": {
      "text/plain": [
       "<MapDataset shapes: (198, 1, 64), types: tf.int32>"
      ]
     },
     "execution_count": 27,
     "metadata": {},
     "output_type": "execute_result"
    }
   ],
   "source": [
    "dna_ds\n"
   ]
  },
  {
   "cell_type": "code",
   "execution_count": 30,
   "metadata": {},
   "outputs": [
    {
     "data": {
      "text/plain": [
       "<MapDataset shapes: (1,), types: tf.float32>"
      ]
     },
     "execution_count": 30,
     "metadata": {},
     "output_type": "execute_result"
    }
   ],
   "source": [
    "label_ds"
   ]
  },
  {
   "cell_type": "code",
   "execution_count": 29,
   "metadata": {},
   "outputs": [
    {
     "data": {
      "text/plain": [
       "<ZipDataset shapes: (198, 1, 64), types: tf.int32>"
      ]
     },
     "execution_count": 29,
     "metadata": {},
     "output_type": "execute_result"
    }
   ],
   "source": [
    "tf.data.Dataset.zip((dna_ds))"
   ]
  },
  {
   "cell_type": "markdown",
   "metadata": {},
   "source": [
    "Specify a keras model with compatible dimesions input and output dimensions for the example."
   ]
  },
  {
   "cell_type": "code",
   "execution_count": 19,
   "metadata": {},
   "outputs": [
    {
     "name": "stdout",
     "output_type": "stream",
     "text": [
      "Model: \"functional_3\"\n",
      "_________________________________________________________________\n",
      "Layer (type)                 Output Shape              Param #   \n",
      "=================================================================\n",
      "input_2 (InputLayer)         [(None, 198, 1, 64)]      0         \n",
      "_________________________________________________________________\n",
      "dna_conv2d_1 (DnaConv2D)     (None, 178, 1, 30)        40350     \n",
      "_________________________________________________________________\n",
      "global_average_pooling2d_1 ( (None, 30)                0         \n",
      "_________________________________________________________________\n",
      "dense_1 (Dense)              (None, 1)                 31        \n",
      "=================================================================\n",
      "Total params: 40,381\n",
      "Trainable params: 40,381\n",
      "Non-trainable params: 0\n",
      "_________________________________________________________________\n"
     ]
    }
   ],
   "source": [
    "xin = Input((200 - order + 1, 1, pow(4, order)))\n",
    "layer = DnaConv2D(Conv2D(30, (21, 1),\n",
    "                         activation='relu'))(xin)\n",
    "layer = GlobalAveragePooling2D()(layer)\n",
    "output = Dense(1, activation='sigmoid')(layer)\n",
    "\n",
    "\n",
    "\n",
    "model = Model(xin, output)\n",
    "\n",
    "model.compile(optimizer='adadelta', loss='binary_crossentropy',\n",
    "              metrics=['acc'])\n",
    "model.summary()\n",
    "\n"
   ]
  },
  {
   "cell_type": "code",
   "execution_count": 20,
   "metadata": {
    "scrolled": false
   },
   "outputs": [
    {
     "name": "stdout",
     "output_type": "stream",
     "text": [
      "Epoch 1/100\n",
      "244/244 [==============================] - 5s 19ms/step - loss: 0.6933 - acc: 0.4998\n",
      "Epoch 2/100\n",
      "244/244 [==============================] - 5s 19ms/step - loss: 0.6932 - acc: 0.4998\n",
      "Epoch 3/100\n",
      "244/244 [==============================] - 5s 19ms/step - loss: 0.6930 - acc: 0.4998\n",
      "Epoch 4/100\n",
      "244/244 [==============================] - 5s 19ms/step - loss: 0.6929 - acc: 0.4998\n",
      "Epoch 5/100\n",
      "244/244 [==============================] - 5s 19ms/step - loss: 0.6928 - acc: 0.4998\n",
      "Epoch 6/100\n",
      "244/244 [==============================] - 5s 20ms/step - loss: 0.6926 - acc: 0.4998\n",
      "Epoch 7/100\n",
      "244/244 [==============================] - 5s 19ms/step - loss: 0.6925 - acc: 0.4998\n",
      "Epoch 8/100\n",
      "244/244 [==============================] - 5s 19ms/step - loss: 0.6924 - acc: 0.4998\n",
      "Epoch 9/100\n",
      "244/244 [==============================] - 5s 20ms/step - loss: 0.6922 - acc: 0.4998\n",
      "Epoch 10/100\n",
      "244/244 [==============================] - 5s 21ms/step - loss: 0.6921 - acc: 0.4998\n",
      "Epoch 11/100\n",
      "244/244 [==============================] - 5s 19ms/step - loss: 0.6920 - acc: 0.4998\n",
      "Epoch 12/100\n",
      "244/244 [==============================] - 5s 20ms/step - loss: 0.6918 - acc: 0.4999\n",
      "Epoch 13/100\n",
      "244/244 [==============================] - 5s 20ms/step - loss: 0.6917 - acc: 0.5002\n",
      "Epoch 14/100\n",
      "244/244 [==============================] - 5s 20ms/step - loss: 0.6916 - acc: 0.5004\n",
      "Epoch 15/100\n",
      "244/244 [==============================] - 5s 20ms/step - loss: 0.6914 - acc: 0.5003\n",
      "Epoch 16/100\n",
      "244/244 [==============================] - 5s 20ms/step - loss: 0.6913 - acc: 0.5011\n",
      "Epoch 17/100\n",
      "244/244 [==============================] - 5s 19ms/step - loss: 0.6912 - acc: 0.5016\n",
      "Epoch 18/100\n",
      "244/244 [==============================] - 5s 20ms/step - loss: 0.6911 - acc: 0.5020\n",
      "Epoch 19/100\n",
      "244/244 [==============================] - 5s 19ms/step - loss: 0.6909 - acc: 0.5030\n",
      "Epoch 20/100\n",
      "244/244 [==============================] - 5s 20ms/step - loss: 0.6908 - acc: 0.5049\n",
      "Epoch 21/100\n",
      "244/244 [==============================] - 5s 20ms/step - loss: 0.6907 - acc: 0.5062\n",
      "Epoch 22/100\n",
      "244/244 [==============================] - 5s 20ms/step - loss: 0.6905 - acc: 0.5085\n",
      "Epoch 23/100\n",
      "244/244 [==============================] - 5s 21ms/step - loss: 0.6904 - acc: 0.5102\n",
      "Epoch 24/100\n",
      "244/244 [==============================] - 5s 20ms/step - loss: 0.6903 - acc: 0.5129\n",
      "Epoch 25/100\n",
      "244/244 [==============================] - 5s 21ms/step - loss: 0.6902 - acc: 0.5176\n",
      "Epoch 26/100\n",
      "244/244 [==============================] - 5s 22ms/step - loss: 0.6900 - acc: 0.5212\n",
      "Epoch 27/100\n",
      "244/244 [==============================] - 5s 20ms/step - loss: 0.6899 - acc: 0.5267\n",
      "Epoch 28/100\n",
      "244/244 [==============================] - 5s 21ms/step - loss: 0.6898 - acc: 0.5301\n",
      "Epoch 29/100\n",
      "244/244 [==============================] - 5s 21ms/step - loss: 0.6896 - acc: 0.5353\n",
      "Epoch 30/100\n",
      "244/244 [==============================] - 5s 20ms/step - loss: 0.6895 - acc: 0.5403\n",
      "Epoch 31/100\n",
      "244/244 [==============================] - 5s 21ms/step - loss: 0.6894 - acc: 0.5457\n",
      "Epoch 32/100\n",
      "244/244 [==============================] - 5s 20ms/step - loss: 0.6892 - acc: 0.5525\n",
      "Epoch 33/100\n",
      "244/244 [==============================] - 5s 20ms/step - loss: 0.6891 - acc: 0.5601\n",
      "Epoch 34/100\n",
      "244/244 [==============================] - 5s 20ms/step - loss: 0.6890 - acc: 0.5656\n",
      "Epoch 35/100\n",
      "244/244 [==============================] - 5s 22ms/step - loss: 0.6889 - acc: 0.5748\n",
      "Epoch 36/100\n",
      "244/244 [==============================] - 5s 20ms/step - loss: 0.6887 - acc: 0.5827\n",
      "Epoch 37/100\n",
      "244/244 [==============================] - 5s 21ms/step - loss: 0.6886 - acc: 0.5887\n",
      "Epoch 38/100\n",
      "244/244 [==============================] - 6s 23ms/step - loss: 0.6885 - acc: 0.5957\n",
      "Epoch 39/100\n",
      "244/244 [==============================] - 5s 21ms/step - loss: 0.6883 - acc: 0.6006\n",
      "Epoch 40/100\n",
      "244/244 [==============================] - 5s 20ms/step - loss: 0.6882 - acc: 0.6096\n",
      "Epoch 41/100\n",
      "244/244 [==============================] - 5s 22ms/step - loss: 0.6881 - acc: 0.6154\n",
      "Epoch 42/100\n",
      "244/244 [==============================] - 5s 22ms/step - loss: 0.6880 - acc: 0.6254\n",
      "Epoch 43/100\n",
      "244/244 [==============================] - 5s 20ms/step - loss: 0.6878 - acc: 0.6309\n",
      "Epoch 44/100\n",
      "244/244 [==============================] - 5s 20ms/step - loss: 0.6877 - acc: 0.6372\n",
      "Epoch 45/100\n",
      "244/244 [==============================] - 5s 20ms/step - loss: 0.6876 - acc: 0.6419\n",
      "Epoch 46/100\n",
      "244/244 [==============================] - 5s 22ms/step - loss: 0.6874 - acc: 0.6473\n",
      "Epoch 47/100\n",
      "244/244 [==============================] - 5s 22ms/step - loss: 0.6873 - acc: 0.6529\n",
      "Epoch 48/100\n",
      "244/244 [==============================] - 5s 21ms/step - loss: 0.6872 - acc: 0.6596\n",
      "Epoch 49/100\n",
      "244/244 [==============================] - 5s 22ms/step - loss: 0.6871 - acc: 0.6664\n",
      "Epoch 50/100\n",
      "244/244 [==============================] - 5s 20ms/step - loss: 0.6869 - acc: 0.6731\n",
      "Epoch 51/100\n",
      "244/244 [==============================] - 5s 20ms/step - loss: 0.6868 - acc: 0.6768\n",
      "Epoch 52/100\n",
      "244/244 [==============================] - 5s 21ms/step - loss: 0.6867 - acc: 0.6817\n",
      "Epoch 53/100\n",
      "244/244 [==============================] - 6s 23ms/step - loss: 0.6865 - acc: 0.6844\n",
      "Epoch 54/100\n",
      "244/244 [==============================] - 5s 22ms/step - loss: 0.6864 - acc: 0.6892\n",
      "Epoch 55/100\n",
      "244/244 [==============================] - 5s 21ms/step - loss: 0.6863 - acc: 0.6922\n",
      "Epoch 56/100\n",
      "244/244 [==============================] - 5s 21ms/step - loss: 0.6861 - acc: 0.6969\n",
      "Epoch 57/100\n",
      "244/244 [==============================] - 5s 20ms/step - loss: 0.6860 - acc: 0.6991\n",
      "Epoch 58/100\n",
      "244/244 [==============================] - 5s 20ms/step - loss: 0.6859 - acc: 0.7010\n",
      "Epoch 59/100\n",
      "244/244 [==============================] - 5s 21ms/step - loss: 0.6857 - acc: 0.7030\n",
      "Epoch 60/100\n",
      "244/244 [==============================] - 5s 20ms/step - loss: 0.6856 - acc: 0.7063\n",
      "Epoch 61/100\n",
      "244/244 [==============================] - 5s 21ms/step - loss: 0.6855 - acc: 0.7100\n",
      "Epoch 62/100\n",
      "244/244 [==============================] - 5s 20ms/step - loss: 0.6853 - acc: 0.7126\n",
      "Epoch 63/100\n",
      "244/244 [==============================] - 5s 21ms/step - loss: 0.6852 - acc: 0.7125\n",
      "Epoch 64/100\n",
      "244/244 [==============================] - 5s 21ms/step - loss: 0.6851 - acc: 0.7135\n",
      "Epoch 65/100\n",
      "244/244 [==============================] - 5s 20ms/step - loss: 0.6849 - acc: 0.7154\n",
      "Epoch 66/100\n",
      "244/244 [==============================] - 5s 21ms/step - loss: 0.6848 - acc: 0.7167\n",
      "Epoch 67/100\n",
      "244/244 [==============================] - 5s 21ms/step - loss: 0.6846 - acc: 0.7191\n",
      "Epoch 68/100\n",
      "244/244 [==============================] - 5s 20ms/step - loss: 0.6845 - acc: 0.7191\n",
      "Epoch 69/100\n",
      "244/244 [==============================] - 5s 20ms/step - loss: 0.6844 - acc: 0.7203\n",
      "Epoch 70/100\n",
      "244/244 [==============================] - 5s 20ms/step - loss: 0.6842 - acc: 0.7216\n",
      "Epoch 71/100\n",
      "244/244 [==============================] - 5s 21ms/step - loss: 0.6841 - acc: 0.7226\n",
      "Epoch 72/100\n",
      "244/244 [==============================] - 5s 21ms/step - loss: 0.6840 - acc: 0.7223\n",
      "Epoch 73/100\n",
      "244/244 [==============================] - 5s 20ms/step - loss: 0.6838 - acc: 0.7227\n",
      "Epoch 74/100\n",
      "244/244 [==============================] - 5s 21ms/step - loss: 0.6837 - acc: 0.7232\n",
      "Epoch 75/100\n",
      "244/244 [==============================] - 5s 21ms/step - loss: 0.6835 - acc: 0.7232\n",
      "Epoch 76/100\n",
      "244/244 [==============================] - 5s 21ms/step - loss: 0.6834 - acc: 0.7250\n",
      "Epoch 77/100\n",
      "244/244 [==============================] - 5s 21ms/step - loss: 0.6833 - acc: 0.7259\n",
      "Epoch 78/100\n",
      "244/244 [==============================] - 5s 21ms/step - loss: 0.6831 - acc: 0.7257\n",
      "Epoch 79/100\n",
      "244/244 [==============================] - 5s 21ms/step - loss: 0.6830 - acc: 0.7250\n",
      "Epoch 80/100\n",
      "244/244 [==============================] - 5s 21ms/step - loss: 0.6828 - acc: 0.7253\n",
      "Epoch 81/100\n",
      "244/244 [==============================] - 5s 21ms/step - loss: 0.6827 - acc: 0.7257\n",
      "Epoch 82/100\n",
      "244/244 [==============================] - 5s 21ms/step - loss: 0.6825 - acc: 0.7254\n",
      "Epoch 83/100\n",
      "244/244 [==============================] - 5s 22ms/step - loss: 0.6824 - acc: 0.7253\n",
      "Epoch 84/100\n"
     ]
    },
    {
     "name": "stdout",
     "output_type": "stream",
     "text": [
      "244/244 [==============================] - 5s 19ms/step - loss: 0.6823 - acc: 0.7248\n",
      "Epoch 85/100\n",
      "244/244 [==============================] - 5s 19ms/step - loss: 0.6821 - acc: 0.7252\n",
      "Epoch 86/100\n",
      "244/244 [==============================] - 5s 19ms/step - loss: 0.6820 - acc: 0.7249\n",
      "Epoch 87/100\n",
      "244/244 [==============================] - 5s 19ms/step - loss: 0.6818 - acc: 0.7244\n",
      "Epoch 88/100\n",
      "244/244 [==============================] - 5s 20ms/step - loss: 0.6817 - acc: 0.7240\n",
      "Epoch 89/100\n",
      "244/244 [==============================] - 5s 19ms/step - loss: 0.6815 - acc: 0.7237\n",
      "Epoch 90/100\n",
      "244/244 [==============================] - 5s 19ms/step - loss: 0.6814 - acc: 0.7228\n",
      "Epoch 91/100\n",
      "244/244 [==============================] - 5s 19ms/step - loss: 0.6812 - acc: 0.7234\n",
      "Epoch 92/100\n",
      "244/244 [==============================] - 5s 19ms/step - loss: 0.6811 - acc: 0.7236\n",
      "Epoch 93/100\n",
      "244/244 [==============================] - 5s 20ms/step - loss: 0.6809 - acc: 0.7234\n",
      "Epoch 94/100\n",
      "244/244 [==============================] - 5s 20ms/step - loss: 0.6808 - acc: 0.7237\n",
      "Epoch 95/100\n",
      "244/244 [==============================] - 5s 19ms/step - loss: 0.6806 - acc: 0.7237\n",
      "Epoch 96/100\n",
      "244/244 [==============================] - 5s 20ms/step - loss: 0.6805 - acc: 0.7218\n",
      "Epoch 97/100\n",
      "244/244 [==============================] - 5s 20ms/step - loss: 0.6803 - acc: 0.7214\n",
      "Epoch 98/100\n",
      "244/244 [==============================] - 5s 21ms/step - loss: 0.6802 - acc: 0.7210\n",
      "Epoch 99/100\n",
      "244/244 [==============================] - 5s 20ms/step - loss: 0.6800 - acc: 0.7201\n",
      "Epoch 100/100\n",
      "244/244 [==============================] - 5s 20ms/step - loss: 0.6799 - acc: 0.7190\n",
      "########################################\n",
      "loss: 0.6798668503761292, acc: 0.7189944982528687\n",
      "########################################\n"
     ]
    }
   ],
   "source": [
    "hist = model.fit(ds, epochs=100)\n",
    "\n",
    "print('#' * 40)\n",
    "print('loss: {}, acc: {}'.format(hist.history['loss'][-1],\n",
    "                                 hist.history['acc'][-1]))\n",
    "print('#' * 40)"
   ]
  },
  {
   "cell_type": "markdown",
   "metadata": {},
   "source": [
    "The predictions may be converted back to Cover object and subsequently exported as bigwig in order to inspect the plausibility of the results in the genome browser."
   ]
  },
  {
   "cell_type": "code",
   "execution_count": 31,
   "metadata": {},
   "outputs": [],
   "source": [
    "\n",
    "# convert the prediction to a cover object\n",
    "pred = model.predict(dna_ds.batch(32))\n",
    "#cov_pred = Cover.create_from_array('BindingProba', pred, LABELS_TEST.gindexer)\n",
    "\n",
    "# predictions (or feature activities) can finally be exported to bigwig\n",
    "#cov_pred.export_to_bigwig(output_dir=os.environ['JANGGU_OUTPUT'])\n"
   ]
  },
  {
   "cell_type": "code",
   "execution_count": 33,
   "metadata": {},
   "outputs": [
    {
     "data": {
      "text/plain": [
       "array([[0.5130596 ],\n",
       "       [0.5012243 ],\n",
       "       [0.49653465],\n",
       "       ...,\n",
       "       [0.50696474],\n",
       "       [0.5104325 ],\n",
       "       [0.48528764]], dtype=float32)"
      ]
     },
     "execution_count": 33,
     "metadata": {},
     "output_type": "execute_result"
    }
   ],
   "source": [
    "pred"
   ]
  },
  {
   "cell_type": "code",
   "execution_count": 32,
   "metadata": {},
   "outputs": [
    {
     "ename": "ValueError",
     "evalue": "Found input variables with inconsistent numbers of samples: [200, 7797]",
     "output_type": "error",
     "traceback": [
      "\u001b[0;31m---------------------------------------------------------------------------\u001b[0m",
      "\u001b[0;31mValueError\u001b[0m                                Traceback (most recent call last)",
      "\u001b[0;32m<ipython-input-32-9583c4bca46a>\u001b[0m in \u001b[0;36m<module>\u001b[0;34m\u001b[0m\n\u001b[0;32m----> 1\u001b[0;31m \u001b[0mprint\u001b[0m\u001b[0;34m(\u001b[0m\u001b[0;34m\"AUC:\"\u001b[0m\u001b[0;34m,\u001b[0m \u001b[0mroc_auc_score\u001b[0m\u001b[0;34m(\u001b[0m\u001b[0mLABELS_TEST\u001b[0m\u001b[0;34m[\u001b[0m\u001b[0;34m:\u001b[0m\u001b[0;34m]\u001b[0m\u001b[0;34m,\u001b[0m \u001b[0mpred\u001b[0m\u001b[0;34m)\u001b[0m\u001b[0;34m)\u001b[0m\u001b[0;34m\u001b[0m\u001b[0;34m\u001b[0m\u001b[0m\n\u001b[0m",
      "\u001b[0;32m~/.local/lib/python3.7/site-packages/sklearn/utils/validation.py\u001b[0m in \u001b[0;36minner_f\u001b[0;34m(*args, **kwargs)\u001b[0m\n\u001b[1;32m     71\u001b[0m                           FutureWarning)\n\u001b[1;32m     72\u001b[0m         \u001b[0mkwargs\u001b[0m\u001b[0;34m.\u001b[0m\u001b[0mupdate\u001b[0m\u001b[0;34m(\u001b[0m\u001b[0;34m{\u001b[0m\u001b[0mk\u001b[0m\u001b[0;34m:\u001b[0m \u001b[0marg\u001b[0m \u001b[0;32mfor\u001b[0m \u001b[0mk\u001b[0m\u001b[0;34m,\u001b[0m \u001b[0marg\u001b[0m \u001b[0;32min\u001b[0m \u001b[0mzip\u001b[0m\u001b[0;34m(\u001b[0m\u001b[0msig\u001b[0m\u001b[0;34m.\u001b[0m\u001b[0mparameters\u001b[0m\u001b[0;34m,\u001b[0m \u001b[0margs\u001b[0m\u001b[0;34m)\u001b[0m\u001b[0;34m}\u001b[0m\u001b[0;34m)\u001b[0m\u001b[0;34m\u001b[0m\u001b[0;34m\u001b[0m\u001b[0m\n\u001b[0;32m---> 73\u001b[0;31m         \u001b[0;32mreturn\u001b[0m \u001b[0mf\u001b[0m\u001b[0;34m(\u001b[0m\u001b[0;34m**\u001b[0m\u001b[0mkwargs\u001b[0m\u001b[0;34m)\u001b[0m\u001b[0;34m\u001b[0m\u001b[0;34m\u001b[0m\u001b[0m\n\u001b[0m\u001b[1;32m     74\u001b[0m     \u001b[0;32mreturn\u001b[0m \u001b[0minner_f\u001b[0m\u001b[0;34m\u001b[0m\u001b[0;34m\u001b[0m\u001b[0m\n\u001b[1;32m     75\u001b[0m \u001b[0;34m\u001b[0m\u001b[0m\n",
      "\u001b[0;32m~/.local/lib/python3.7/site-packages/sklearn/metrics/_ranking.py\u001b[0m in \u001b[0;36mroc_auc_score\u001b[0;34m(y_true, y_score, average, sample_weight, max_fpr, multi_class, labels)\u001b[0m\n\u001b[1;32m    391\u001b[0m                                              max_fpr=max_fpr),\n\u001b[1;32m    392\u001b[0m                                      \u001b[0my_true\u001b[0m\u001b[0;34m,\u001b[0m \u001b[0my_score\u001b[0m\u001b[0;34m,\u001b[0m \u001b[0maverage\u001b[0m\u001b[0;34m,\u001b[0m\u001b[0;34m\u001b[0m\u001b[0;34m\u001b[0m\u001b[0m\n\u001b[0;32m--> 393\u001b[0;31m                                      sample_weight=sample_weight)\n\u001b[0m\u001b[1;32m    394\u001b[0m     \u001b[0;32melse\u001b[0m\u001b[0;34m:\u001b[0m  \u001b[0;31m# multilabel-indicator\u001b[0m\u001b[0;34m\u001b[0m\u001b[0;34m\u001b[0m\u001b[0m\n\u001b[1;32m    395\u001b[0m         return _average_binary_score(partial(_binary_roc_auc_score,\n",
      "\u001b[0;32m~/.local/lib/python3.7/site-packages/sklearn/metrics/_base.py\u001b[0m in \u001b[0;36m_average_binary_score\u001b[0;34m(binary_metric, y_true, y_score, average, sample_weight)\u001b[0m\n\u001b[1;32m     75\u001b[0m \u001b[0;34m\u001b[0m\u001b[0m\n\u001b[1;32m     76\u001b[0m     \u001b[0;32mif\u001b[0m \u001b[0my_type\u001b[0m \u001b[0;34m==\u001b[0m \u001b[0;34m\"binary\"\u001b[0m\u001b[0;34m:\u001b[0m\u001b[0;34m\u001b[0m\u001b[0;34m\u001b[0m\u001b[0m\n\u001b[0;32m---> 77\u001b[0;31m         \u001b[0;32mreturn\u001b[0m \u001b[0mbinary_metric\u001b[0m\u001b[0;34m(\u001b[0m\u001b[0my_true\u001b[0m\u001b[0;34m,\u001b[0m \u001b[0my_score\u001b[0m\u001b[0;34m,\u001b[0m \u001b[0msample_weight\u001b[0m\u001b[0;34m=\u001b[0m\u001b[0msample_weight\u001b[0m\u001b[0;34m)\u001b[0m\u001b[0;34m\u001b[0m\u001b[0;34m\u001b[0m\u001b[0m\n\u001b[0m\u001b[1;32m     78\u001b[0m \u001b[0;34m\u001b[0m\u001b[0m\n\u001b[1;32m     79\u001b[0m     \u001b[0mcheck_consistent_length\u001b[0m\u001b[0;34m(\u001b[0m\u001b[0my_true\u001b[0m\u001b[0;34m,\u001b[0m \u001b[0my_score\u001b[0m\u001b[0;34m,\u001b[0m \u001b[0msample_weight\u001b[0m\u001b[0;34m)\u001b[0m\u001b[0;34m\u001b[0m\u001b[0;34m\u001b[0m\u001b[0m\n",
      "\u001b[0;32m~/.local/lib/python3.7/site-packages/sklearn/metrics/_ranking.py\u001b[0m in \u001b[0;36m_binary_roc_auc_score\u001b[0;34m(y_true, y_score, sample_weight, max_fpr)\u001b[0m\n\u001b[1;32m    225\u001b[0m \u001b[0;34m\u001b[0m\u001b[0m\n\u001b[1;32m    226\u001b[0m     fpr, tpr, _ = roc_curve(y_true, y_score,\n\u001b[0;32m--> 227\u001b[0;31m                             sample_weight=sample_weight)\n\u001b[0m\u001b[1;32m    228\u001b[0m     \u001b[0;32mif\u001b[0m \u001b[0mmax_fpr\u001b[0m \u001b[0;32mis\u001b[0m \u001b[0;32mNone\u001b[0m \u001b[0;32mor\u001b[0m \u001b[0mmax_fpr\u001b[0m \u001b[0;34m==\u001b[0m \u001b[0;36m1\u001b[0m\u001b[0;34m:\u001b[0m\u001b[0;34m\u001b[0m\u001b[0;34m\u001b[0m\u001b[0m\n\u001b[1;32m    229\u001b[0m         \u001b[0;32mreturn\u001b[0m \u001b[0mauc\u001b[0m\u001b[0;34m(\u001b[0m\u001b[0mfpr\u001b[0m\u001b[0;34m,\u001b[0m \u001b[0mtpr\u001b[0m\u001b[0;34m)\u001b[0m\u001b[0;34m\u001b[0m\u001b[0;34m\u001b[0m\u001b[0m\n",
      "\u001b[0;32m~/.local/lib/python3.7/site-packages/sklearn/utils/validation.py\u001b[0m in \u001b[0;36minner_f\u001b[0;34m(*args, **kwargs)\u001b[0m\n\u001b[1;32m     71\u001b[0m                           FutureWarning)\n\u001b[1;32m     72\u001b[0m         \u001b[0mkwargs\u001b[0m\u001b[0;34m.\u001b[0m\u001b[0mupdate\u001b[0m\u001b[0;34m(\u001b[0m\u001b[0;34m{\u001b[0m\u001b[0mk\u001b[0m\u001b[0;34m:\u001b[0m \u001b[0marg\u001b[0m \u001b[0;32mfor\u001b[0m \u001b[0mk\u001b[0m\u001b[0;34m,\u001b[0m \u001b[0marg\u001b[0m \u001b[0;32min\u001b[0m \u001b[0mzip\u001b[0m\u001b[0;34m(\u001b[0m\u001b[0msig\u001b[0m\u001b[0;34m.\u001b[0m\u001b[0mparameters\u001b[0m\u001b[0;34m,\u001b[0m \u001b[0margs\u001b[0m\u001b[0;34m)\u001b[0m\u001b[0;34m}\u001b[0m\u001b[0;34m)\u001b[0m\u001b[0;34m\u001b[0m\u001b[0;34m\u001b[0m\u001b[0m\n\u001b[0;32m---> 73\u001b[0;31m         \u001b[0;32mreturn\u001b[0m \u001b[0mf\u001b[0m\u001b[0;34m(\u001b[0m\u001b[0;34m**\u001b[0m\u001b[0mkwargs\u001b[0m\u001b[0;34m)\u001b[0m\u001b[0;34m\u001b[0m\u001b[0;34m\u001b[0m\u001b[0m\n\u001b[0m\u001b[1;32m     74\u001b[0m     \u001b[0;32mreturn\u001b[0m \u001b[0minner_f\u001b[0m\u001b[0;34m\u001b[0m\u001b[0;34m\u001b[0m\u001b[0m\n\u001b[1;32m     75\u001b[0m \u001b[0;34m\u001b[0m\u001b[0m\n",
      "\u001b[0;32m~/.local/lib/python3.7/site-packages/sklearn/metrics/_ranking.py\u001b[0m in \u001b[0;36mroc_curve\u001b[0;34m(y_true, y_score, pos_label, sample_weight, drop_intermediate)\u001b[0m\n\u001b[1;32m    774\u001b[0m     \"\"\"\n\u001b[1;32m    775\u001b[0m     fps, tps, thresholds = _binary_clf_curve(\n\u001b[0;32m--> 776\u001b[0;31m         y_true, y_score, pos_label=pos_label, sample_weight=sample_weight)\n\u001b[0m\u001b[1;32m    777\u001b[0m \u001b[0;34m\u001b[0m\u001b[0m\n\u001b[1;32m    778\u001b[0m     \u001b[0;31m# Attempt to drop thresholds corresponding to points in between and\u001b[0m\u001b[0;34m\u001b[0m\u001b[0;34m\u001b[0m\u001b[0;34m\u001b[0m\u001b[0m\n",
      "\u001b[0;32m~/.local/lib/python3.7/site-packages/sklearn/metrics/_ranking.py\u001b[0m in \u001b[0;36m_binary_clf_curve\u001b[0;34m(y_true, y_score, pos_label, sample_weight)\u001b[0m\n\u001b[1;32m    539\u001b[0m         \u001b[0;32mraise\u001b[0m \u001b[0mValueError\u001b[0m\u001b[0;34m(\u001b[0m\u001b[0;34m\"{0} format is not supported\"\u001b[0m\u001b[0;34m.\u001b[0m\u001b[0mformat\u001b[0m\u001b[0;34m(\u001b[0m\u001b[0my_type\u001b[0m\u001b[0;34m)\u001b[0m\u001b[0;34m)\u001b[0m\u001b[0;34m\u001b[0m\u001b[0;34m\u001b[0m\u001b[0m\n\u001b[1;32m    540\u001b[0m \u001b[0;34m\u001b[0m\u001b[0m\n\u001b[0;32m--> 541\u001b[0;31m     \u001b[0mcheck_consistent_length\u001b[0m\u001b[0;34m(\u001b[0m\u001b[0my_true\u001b[0m\u001b[0;34m,\u001b[0m \u001b[0my_score\u001b[0m\u001b[0;34m,\u001b[0m \u001b[0msample_weight\u001b[0m\u001b[0;34m)\u001b[0m\u001b[0;34m\u001b[0m\u001b[0;34m\u001b[0m\u001b[0m\n\u001b[0m\u001b[1;32m    542\u001b[0m     \u001b[0my_true\u001b[0m \u001b[0;34m=\u001b[0m \u001b[0mcolumn_or_1d\u001b[0m\u001b[0;34m(\u001b[0m\u001b[0my_true\u001b[0m\u001b[0;34m)\u001b[0m\u001b[0;34m\u001b[0m\u001b[0;34m\u001b[0m\u001b[0m\n\u001b[1;32m    543\u001b[0m     \u001b[0my_score\u001b[0m \u001b[0;34m=\u001b[0m \u001b[0mcolumn_or_1d\u001b[0m\u001b[0;34m(\u001b[0m\u001b[0my_score\u001b[0m\u001b[0;34m)\u001b[0m\u001b[0;34m\u001b[0m\u001b[0;34m\u001b[0m\u001b[0m\n",
      "\u001b[0;32m~/.local/lib/python3.7/site-packages/sklearn/utils/validation.py\u001b[0m in \u001b[0;36mcheck_consistent_length\u001b[0;34m(*arrays)\u001b[0m\n\u001b[1;32m    255\u001b[0m     \u001b[0;32mif\u001b[0m \u001b[0mlen\u001b[0m\u001b[0;34m(\u001b[0m\u001b[0muniques\u001b[0m\u001b[0;34m)\u001b[0m \u001b[0;34m>\u001b[0m \u001b[0;36m1\u001b[0m\u001b[0;34m:\u001b[0m\u001b[0;34m\u001b[0m\u001b[0;34m\u001b[0m\u001b[0m\n\u001b[1;32m    256\u001b[0m         raise ValueError(\"Found input variables with inconsistent numbers of\"\n\u001b[0;32m--> 257\u001b[0;31m                          \" samples: %r\" % [int(l) for l in lengths])\n\u001b[0m\u001b[1;32m    258\u001b[0m \u001b[0;34m\u001b[0m\u001b[0m\n\u001b[1;32m    259\u001b[0m \u001b[0;34m\u001b[0m\u001b[0m\n",
      "\u001b[0;31mValueError\u001b[0m: Found input variables with inconsistent numbers of samples: [200, 7797]"
     ]
    }
   ],
   "source": [
    "print(\"AUC:\", roc_auc_score(LABELS_TEST[:], pred))"
   ]
  }
 ],
 "metadata": {
  "kernelspec": {
   "display_name": "Python 3",
   "language": "python",
   "name": "python3"
  },
  "language_info": {
   "codemirror_mode": {
    "name": "ipython",
    "version": 3
   },
   "file_extension": ".py",
   "mimetype": "text/x-python",
   "name": "python",
   "nbconvert_exporter": "python",
   "pygments_lexer": "ipython3",
   "version": "3.7.7"
  }
 },
 "nbformat": 4,
 "nbformat_minor": 2
}
