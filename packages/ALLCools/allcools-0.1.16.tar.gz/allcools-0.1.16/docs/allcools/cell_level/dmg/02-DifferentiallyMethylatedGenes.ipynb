{
 "cells": [
  {
   "cell_type": "markdown",
   "metadata": {},
   "source": [
    "# Cluster Differentially Methylated Genes"
   ]
  },
  {
   "cell_type": "markdown",
   "metadata": {},
   "source": [
    "## Load"
   ]
  },
  {
   "cell_type": "code",
   "execution_count": 1,
   "metadata": {
    "ExecuteTime": {
     "end_time": "2021-03-12T03:34:10.386122Z",
     "start_time": "2021-03-12T03:33:59.767309Z"
    }
   },
   "outputs": [],
   "source": [
    "import numpy as np\n",
    "import pandas as pd\n",
    "import anndata\n",
    "import scanpy as sc\n",
    "from ALLCools.mcds import MCDS\n",
    "from ALLCools.clustering import one_vs_rest_dmg"
   ]
  },
  {
   "cell_type": "markdown",
   "metadata": {},
   "source": [
    "## Parameters"
   ]
  },
  {
   "cell_type": "code",
   "execution_count": 9,
   "metadata": {
    "ExecuteTime": {
     "end_time": "2021-03-12T03:39:55.409635Z",
     "start_time": "2021-03-12T03:39:55.406736Z"
    }
   },
   "outputs": [],
   "source": [
    "gene_frac_dir = 'gene_frac/'\n",
    "\n",
    "cell_meta_path = '../step_by_step/100kb/L1.ClusteringResults.csv.gz'\n",
    "cluster_col = 'L1'\n",
    "\n",
    "obs_dim = 'cell'\n",
    "var_dim = 'gene'\n",
    "mc_type = 'CHN'\n",
    "\n",
    "top_n = 1000\n",
    "auroc_cutoff = 0.8\n",
    "adj_p_cutoff = 0.001\n",
    "fc_cutoff = 0.8\n",
    "max_cluster_cells = 2000\n",
    "max_other_fold = 5"
   ]
  },
  {
   "cell_type": "markdown",
   "metadata": {},
   "source": [
    "## Load"
   ]
  },
  {
   "cell_type": "code",
   "execution_count": 3,
   "metadata": {
    "ExecuteTime": {
     "end_time": "2021-03-12T03:34:10.695554Z",
     "start_time": "2021-03-12T03:34:10.392383Z"
    }
   },
   "outputs": [],
   "source": [
    "mcds = MCDS.open(f'{gene_frac_dir}/*_da_frac.mcds')\n",
    "cell_meta = pd.read_csv(cell_meta_path, index_col=0)"
   ]
  },
  {
   "cell_type": "markdown",
   "metadata": {},
   "source": [
    "## Calculate DMG"
   ]
  },
  {
   "cell_type": "code",
   "execution_count": 4,
   "metadata": {
    "ExecuteTime": {
     "end_time": "2021-03-12T03:37:39.414129Z",
     "start_time": "2021-03-12T03:34:10.697009Z"
    }
   },
   "outputs": [],
   "source": [
    "dmg_table = one_vs_rest_dmg(cell_meta,\n",
    "                group=cluster_col,\n",
    "                mcds=mcds,\n",
    "                obs_dim=obs_dim,\n",
    "                var_dim=var_dim,\n",
    "                mc_type=mc_type,\n",
    "                top_n=top_n,\n",
    "                adj_p_cutoff=adj_p_cutoff,\n",
    "                fc_cutoff=fc_cutoff,\n",
    "                auroc_cutoff=auroc_cutoff,\n",
    "                max_cluster_cells=max_cluster_cells,\n",
    "                max_other_fold=max_other_fold)"
   ]
  },
  {
   "cell_type": "markdown",
   "metadata": {},
   "source": [
    "## Save"
   ]
  },
  {
   "cell_type": "code",
   "execution_count": 7,
   "metadata": {
    "ExecuteTime": {
     "end_time": "2021-03-12T03:38:43.882184Z",
     "start_time": "2021-03-12T03:38:43.858434Z"
    }
   },
   "outputs": [],
   "source": [
    "dmg_table.to_hdf(f'{cluster_col}.OneVsRestDMG.hdf', key='data')"
   ]
  },
  {
   "cell_type": "code",
   "execution_count": null,
   "metadata": {
    "scrolled": true
   },
   "outputs": [],
   "source": []
  },
  {
   "cell_type": "code",
   "execution_count": null,
   "metadata": {},
   "outputs": [],
   "source": []
  },
  {
   "cell_type": "code",
   "execution_count": null,
   "metadata": {},
   "outputs": [],
   "source": []
  },
  {
   "cell_type": "code",
   "execution_count": null,
   "metadata": {},
   "outputs": [],
   "source": []
  },
  {
   "cell_type": "code",
   "execution_count": null,
   "metadata": {},
   "outputs": [],
   "source": []
  },
  {
   "cell_type": "code",
   "execution_count": null,
   "metadata": {},
   "outputs": [],
   "source": []
  },
  {
   "cell_type": "code",
   "execution_count": null,
   "metadata": {},
   "outputs": [],
   "source": []
  },
  {
   "cell_type": "code",
   "execution_count": null,
   "metadata": {},
   "outputs": [],
   "source": []
  },
  {
   "cell_type": "code",
   "execution_count": null,
   "metadata": {},
   "outputs": [],
   "source": []
  },
  {
   "cell_type": "code",
   "execution_count": null,
   "metadata": {},
   "outputs": [],
   "source": []
  }
 ],
 "metadata": {
  "hide_input": false,
  "kernelspec": {
   "display_name": "Python 3",
   "language": "python",
   "name": "python3"
  },
  "language_info": {
   "codemirror_mode": {
    "name": "ipython",
    "version": 3
   },
   "file_extension": ".py",
   "mimetype": "text/x-python",
   "name": "python",
   "nbconvert_exporter": "python",
   "pygments_lexer": "ipython3",
   "version": "3.8.6"
  },
  "toc": {
   "base_numbering": 1,
   "nav_menu": {},
   "number_sections": true,
   "sideBar": true,
   "skip_h1_title": true,
   "title_cell": "Table of Contents",
   "title_sidebar": "Contents",
   "toc_cell": false,
   "toc_position": {},
   "toc_section_display": true,
   "toc_window_display": true
  }
 },
 "nbformat": 4,
 "nbformat_minor": 4
}
