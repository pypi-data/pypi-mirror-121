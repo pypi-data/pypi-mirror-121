{
 "cells": [
  {
   "cell_type": "markdown",
   "metadata": {},
   "source": [
    "# pycsamt User Guide \n",
    "\n",
    "## 1.  Introduction \n",
    "\n",
    "pyCSAMT is an open source toolkit for controlled source audio-frequency magnetotelluric (CSAMT) standard data processing, visualization and interpretation enhancement written in Python language. Indeed, CSAMT has been recognized as a well-suited geophysical method in a few kilometers’ exploration because of its better vertical resolution, wide range of exploration depth. Despite its application in diverse exploration problems such as detecting deep geological structures and groundwater exploration, there is no unified software as open source software for CSAMT data processing and interpretation within the academic community. For that reason, the software is designed to allows handling, processing and imaging of CSAMT far field data sets and also to improve the geophysical interpretation.  For more details, we recommend you to follow our wiki pages: \n",
    "https://github.com/WEgeophysics/pyCSAMT/wiki\n",
    "\n",
    "## 2.  Important tricks and tips before getting started \n",
    "\n",
    "This workbook is a set of implementing codes then before starting, we need to show three specials and useful details: \n",
    "1. \tpyCSAMT works with three(03) types of data format: \n",
    "    a.\t*.avg format from Zonge International Engineering company, see our wiki page for more details about zonge *.avg format.\n",
    "    b.\t*.edi or (Electrical Data Interchange (EDI)) format from Society of Exploration Geophysics (SEG), most recommended in geophysics community \n",
    "    c.\t. *. j or *.dat format of Alan G. Jones (A.G. Jones, October 1994) commonly used in Magnetotelluric domain. See mtnet.info/docs/jformat.txt for more details\n",
    "    Note: Although the software can read three files, it’s strongly recommended to convert both files (*.avg and *.j files) to SEG *.edi files to take advantage of full functionalities of the software. \n",
    "\n",
    "2.\tUser needs to make sure that pyCSAMT is already installed on his computer and is working perfectly. For installation guide please copy paste the link:\n",
    " https://github.com/WEgeophysics/pyCSAMT/wiki/pyCSAMT-installation-guide-for-Windows--and-Linux for further details.\n",
    "\n",
    "3.\tFor more details about specific input parameters and other functionalities, we recommend to looking at the software documentation, which can be found at: https://pycsamt.readthedocs.io/en/latest/\n",
    "\n",
    "Throughout this workbook, the savepath should be None which refer to the current work directory. Another reason to kept the output None, is to be familiar to output folder name created by the software when savepath is not given or wrong. However, user can create his own temp directory as (e.g. C:/tmp) to save all example outputs.\n",
    "\n",
    "3. PyCSAMT structure \n",
    "\n",
    "The toolkit is structured into three (03) main sub-packages with different roles: ff, geodrill and viewer sub-packages. ff sub-packages is mainly focused on CSAMT far-field data processing and inversion while the geodrill sub-package deals with geology data, boreholes and/or wells data. The viewer sub-package only deals with visualization (1D and 2D). Overall, the number of sub-packages is estimated at seven (7) which brings basic features in classes, methods and functions.  This workbook is structured according to some of main modules in pyCSAMT: Core, processing. modeling, and geodrill. Please refer to \n",
    "https://github.com/WEgeophysics/pyCSAMT/wiki/Synopsis-of-pyCSAMT-sub-packages   to have more ideas to how the package is arranged. \n",
    "\n",
    "## 3.  PyCSAMT structure \n",
    "\n",
    "The toolkit is structured into three (03) main sub-packages with different roles: ff, geodrill and viewer sub-packages. ff sub-packages is mainly focused on CSAMT far-field data processing and inversion while the geodrill sub-package deals with geology data, boreholes and/or wells data. The viewer sub-package only deals with visualization (1D and 2D). Overall, the number of sub-packages is estimated at seven (7) which brings basic features in classes, methods and functions.  This workbook is structured according to some of main modules in pyCSAMT: Core, processing. modeling, and geodrill. Please refer to \n",
    "https://github.com/WEgeophysics/pyCSAMT/wiki/Synopsis-of-pyCSAMT-sub-packages   to have more ideas to how the package is arranged. \n",
    "\n",
    "## 4. Core\n",
    "\n",
    "Core sub-package contains modules for basically handling structures within CSAMT data processing (analysis and imaging).  The sub-package is the file manager of *.edi, *avg and *j formats (reading, writing and rewriting files) and data provided in different formats are systematically converted into standard units of phase ∅, impedance Z, apparent resistivity (ρ), E and H fields magnitudes. The inputs data are stored into Python class object and the geolocation data are convoyed to the cs module to generate a specific site object that can easily be extracted with attributes. \n"
   ]
  },
  {
   "cell_type": "markdown",
   "metadata": {},
   "source": [
    "### 4.1.  Write Zonge *.avg astatic format(type 2)   to the plainly zonge file (type 1)\n",
    "\n",
    "Brevity, Zonge *.avg  file is a plain file which includes station number, frequency, apparent resistivity, impedance phase, error propagations, generated by the Zonge AMTAVG hardware. E- and H-fields channel magnitude measured, are calculated and averaged and normalized by current.  AMTAVG hardware generates and outputs of station profile (*.stn) format which contain the profile information such as location, easting, northing and elevation value at each offset.\n",
    "Sometimes the *.avg  file have been pre-processed in the field by applying frequency filters with Zonge ASTATIC software (we call this kind of file, file-type 2). Fortunately, the software could give a possibility to convert the preprocessed (type 2) back to raw plainly *.avg file (type1) including all errors propagations for data processing\n"
   ]
  },
  {
   "cell_type": "code",
   "execution_count": 53,
   "metadata": {},
   "outputs": [
    {
     "name": "stdout",
     "output_type": "stream",
     "text": [
      "C:\\Users\\Administrator\\OneDrive\\Python\\pyCSAMT\n"
     ]
    }
   ],
   "source": [
    "#set jupyter path \n",
    "#export JUPYTER_PATH=\"${JUPYTER_PATH}: Users/Administrator/OneDrive/Python/pyCSAMT\"\n",
    "#export JUPYTER_PATH=\"Users/Administrator/OneDrive/Python/pyCSAMT\"\n",
    "#export PYTHONPATH= Users/Administrator/OneDrive/Python/pyCSAMT'\n",
    "import os \n",
    "import sys\n",
    "sys.path.insert(0, os.path.abspath('..')) # go to parent dir\n",
    "os.chdir('C:/Users/Administrator/OneDrive/Python/pyCSAMT')\n",
    "print(os.getcwd())"
   ]
  },
  {
   "cell_type": "code",
   "execution_count": 128,
   "metadata": {},
   "outputs": [],
   "source": [
    " # import required modules\n",
    "import nbconvert\n",
    "import os \n",
    "from pycsamt.ff.core.avg import Avg \n",
    "#  Define the path to your avg file (type2)  \n",
    "avg_file_2 = os.path.join('data', 'avg','K2.AVG')\n",
    "# define your savepath\n",
    "savepath =None      # can be r'C:/temp\n",
    "\n",
    "# Create an AVG object\n",
    "avg_obj = Avg(avg_file_2)\n"
   ]
  },
  {
   "cell_type": "markdown",
   "metadata": {},
   "source": [
    "* to get file Header informations "
   ]
  },
  {
   "cell_type": "code",
   "execution_count": 55,
   "metadata": {},
   "outputs": [
    {
     "data": {
      "text/plain": [
       "'7.76:'"
      ]
     },
     "execution_count": 55,
     "metadata": {},
     "output_type": "execute_result"
    }
   ],
   "source": [
    "# to get version of software \n",
    "avg_obj.Header.HardwareInfos.version   "
   ]
  },
  {
   "cell_type": "code",
   "execution_count": 56,
   "metadata": {},
   "outputs": [
    {
     "data": {
      "text/plain": [
       "'2021-04-19 20:08:54.618453-UTC'"
      ]
     },
     "execution_count": 56,
     "metadata": {},
     "output_type": "execute_result"
    }
   ],
   "source": [
    "# to get acquisition date \n",
    "avg_obj.Header.SurveyAnnotation.acqdate "
   ]
  },
  {
   "cell_type": "code",
   "execution_count": 57,
   "metadata": {},
   "outputs": [
    {
     "data": {
      "text/plain": [
       "'\"LCS01\"'"
      ]
     },
     "execution_count": 57,
     "metadata": {},
     "output_type": "execute_result"
    }
   ],
   "source": [
    "# to get survey configuration line \n",
    "avg_obj.Header.SurveyConfiguration.lineName # name of line"
   ]
  },
  {
   "cell_type": "markdown",
   "metadata": {},
   "source": [
    "* To get Data_section information "
   ]
  },
  {
   "cell_type": "code",
   "execution_count": 58,
   "metadata": {},
   "outputs": [
    {
     "data": {
      "text/plain": [
       "27"
      ]
     },
     "execution_count": 58,
     "metadata": {},
     "output_type": "execute_result"
    }
   ],
   "source": [
    "# to get number of frequenncy \n",
    "avg_obj.Data_section.Amps.nfreq         "
   ]
  },
  {
   "cell_type": "code",
   "execution_count": 59,
   "metadata": {
    "collapsed": true
   },
   "outputs": [
    {
     "data": {
      "text/plain": [
       "['S00',\n",
       " 'S01',\n",
       " 'S02',\n",
       " 'S03',\n",
       " 'S04',\n",
       " 'S05',\n",
       " 'S06',\n",
       " 'S07',\n",
       " 'S08',\n",
       " 'S09',\n",
       " 'S10',\n",
       " 'S11',\n",
       " 'S12',\n",
       " 'S13',\n",
       " 'S14',\n",
       " 'S15',\n",
       " 'S16',\n",
       " 'S17',\n",
       " 'S18',\n",
       " 'S19',\n",
       " 'S20',\n",
       " 'S21',\n",
       " 'S22',\n",
       " 'S23',\n",
       " 'S24',\n",
       " 'S25',\n",
       " 'S26',\n",
       " 'S27']"
      ]
     },
     "execution_count": 59,
     "metadata": {},
     "output_type": "execute_result"
    }
   ],
   "source": [
    "# to get stations names \n",
    "avg_obj.Data_section.Station.names      "
   ]
  },
  {
   "cell_type": "code",
   "execution_count": 60,
   "metadata": {},
   "outputs": [
    {
     "data": {
      "text/plain": [
       "array([87910.  , 67536.  , 37303.  , 22357.  , 13947.  ,  9474.6 ,\n",
       "        5900.  ,  3350.8 ,  2463.  ,  1578.4 ,  1379.2 ,   958.53,\n",
       "        1161.4 ,  1178.9 ,  1205.6 ,  1625.8 ,  1682.9 ,  1605.8 ,\n",
       "        1454.  ,  1216.  ,  1220.7 ,  1229.1 ,   684.72,   580.51,\n",
       "         600.13,   320.92,   232.91])"
      ]
     },
     "execution_count": 60,
     "metadata": {},
     "output_type": "execute_result"
    }
   ],
   "source": [
    "#To get resistivity values at the first station locations name (S00)\n",
    "avg_obj.Data_section.Resistivity.loc['S00'] # resistivity at 1rst station "
   ]
  },
  {
   "cell_type": "code",
   "execution_count": 61,
   "metadata": {},
   "outputs": [
    {
     "data": {
      "text/plain": [
       "array([-353.4, -275.1, -246.8, -193.1, -148.3, -140.2,  -82.4,  -37.4,\n",
       "        112.1,  221.8,  365. ,  584.7,  636.8,  640.8,  690. ,  638.6,\n",
       "        558.5,  692.5,  651.1,  653.7,  618.3,  533.5,  348.4,  436.3,\n",
       "        -80.3, -258.5, -686.7])"
      ]
     },
     "execution_count": 61,
     "metadata": {},
     "output_type": "execute_result"
    }
   ],
   "source": [
    "#To get phase values at the first station locations name (S00)\n",
    "avg_obj.Data_section.Phase.loc['S00'] "
   ]
  },
  {
   "cell_type": "code",
   "execution_count": 62,
   "metadata": {},
   "outputs": [
    {
     "data": {
      "text/plain": [
       "array([1.582e+02, 1.479e+02, 4.310e+01, 1.039e+02, 3.320e+01, 2.500e+01,\n",
       "       3.060e+01, 2.210e+01, 4.460e+01, 7.340e+01, 4.840e+01, 4.037e+02,\n",
       "       1.871e+02, 1.034e+02, 5.619e+02, 9.670e+01, 2.487e+02, 1.962e+02,\n",
       "       8.030e+02, 1.090e+02, 1.610e+01, 1.489e+02, 4.450e+01, 1.690e+01,\n",
       "       2.000e-01, 9.560e+01, 3.570e+02])"
      ]
     },
     "execution_count": 62,
     "metadata": {},
     "output_type": "execute_result"
    }
   ],
   "source": [
    "# to get the error phase at the first station \n",
    "avg_obj.Data_section.sPhz.loc['S00'] "
   ]
  },
  {
   "cell_type": "code",
   "execution_count": 63,
   "metadata": {},
   "outputs": [
    {
     "data": {
      "text/plain": [
       "array([ 16. ,  31.7,   9. ,  17.1,   5.5,  11.5,  14.4,   7.9,   9.9,\n",
       "         6.6,   7.9,  46.5,  16.6,  12.8,   0.2,   8.1,  25.2,  19.4,\n",
       "       120.9,  10.5,   1.5,  15.3,   3.8,   0.2,   0.2,  13.6,  40.1])"
      ]
     },
     "execution_count": 63,
     "metadata": {},
     "output_type": "execute_result"
    }
   ],
   "source": [
    "# resistivity error propagation at `S00` in %\n",
    "avg_obj.Data_section.pcRho.loc['S00'] "
   ]
  },
  {
   "cell_type": "code",
   "execution_count": 64,
   "metadata": {},
   "outputs": [
    {
     "data": {
      "text/plain": [
       "array([1.000e+00, 1.410e+00, 2.000e+00, 2.810e+00, 4.000e+00, 5.630e+00,\n",
       "       8.000e+00, 1.130e+01, 1.600e+01, 2.250e+01, 3.200e+01, 4.500e+01,\n",
       "       6.400e+01, 9.000e+01, 1.280e+02, 1.800e+02, 2.560e+02, 3.600e+02,\n",
       "       5.120e+02, 7.210e+02, 1.024e+03, 1.441e+03, 2.048e+03, 2.882e+03,\n",
       "       4.096e+03, 5.765e+03, 8.192e+03])"
      ]
     },
     "execution_count": 64,
     "metadata": {},
     "output_type": "execute_result"
    }
   ],
   "source": [
    "# to get the frequency array of survey \n",
    "avg_obj.Data_section.Frequency.value   "
   ]
  },
  {
   "cell_type": "markdown",
   "metadata": {},
   "source": [
    "*  convert avg astatic file (type2) to Zonge plainly file (type 1)"
   ]
  },
  {
   "cell_type": "code",
   "execution_count": 65,
   "metadata": {},
   "outputs": [
    {
     "name": "stdout",
     "output_type": "stream",
     "text": [
      "--->  Your <K2.AVG> is rewritten to <K2_2_to_1.avg> successfully. <-----\n"
     ]
    }
   ],
   "source": [
    "# then run the function `avg_write_2_to_1()\n",
    "avg_obj.avg_write_2_to_1()"
   ]
  },
  {
   "cell_type": "markdown",
   "metadata": {},
   "source": [
    "### 4.2.  Write zonge *.avg plainly zonge file to *.j (*.dat) format \n",
    "To rewrite zonge *.avg, you need to add zonge station profile in *. stn format. For instance: "
   ]
  },
  {
   "cell_type": "code",
   "execution_count": 66,
   "metadata": {},
   "outputs": [
    {
     "name": "stdout",
     "output_type": "stream",
     "text": [
      "-----------------------------------------------------------------------------\n",
      "---> 47 J-files have been rewritten.\n",
      "---> see path:<C:\\Users\\Administrator\\OneDrive\\Python\\pyCSAMT\\_outputJ_> \n",
      "-----------------------------------------------------------------------------\n"
     ]
    },
    {
     "name": "stderr",
     "output_type": "stream",
     "text": [
      "..\\pycsamt\\ff\\core\\cs.py:950: UserWarning: Scaling stations positions : Usually Zonge Hardware provides stations locations at  each electrodes NOT in center of each dipoles. Station locations and EM component orientations are taken at each electrodes point.So , we will rescale stations   to dipolecenter position.Distance will stay the same along  profile but the number of points will be minus 1.\n",
      "  warnings.warn('Scaling stations positions : Usually Zonge'\n",
      "..\\pycsamt\\ff\\core\\cs.py:2074: UserWarning: You are not provided stations_names : We will defined stations names automatically starting by S-XX [S00,..,S46]so to zip data with latitude. If you dont want this station nomenclature please provide station names.\n",
      "  self.stn_name[0], self.stn_name[-1]))\n"
     ]
    }
   ],
   "source": [
    "# zonge plainly avg file \n",
    "avg_file = os.path.join('data/avg', 'K1.avg')\n",
    "# zonge station profile location \n",
    "station_profile_file = os.path.join('data/avg', 'K1.stn')\n",
    "#recreated new avg object with station profile \n",
    "avg_obj =Avg(data_fn = avg_file, \n",
    "            profile_fn = station_profile_file)\n",
    "# call function to write j files.\n",
    "# Note: several ways to outputs j-files is available but we use default outputs.\n",
    "avg_obj.avg_to_jfile(savepath =savepath)\n",
    "\n"
   ]
  },
  {
   "cell_type": "markdown",
   "metadata": {},
   "source": [
    "### 4.3. Quick analysis with *.avg file (E-H magnitude with errors propagations) \n",
    "\n",
    "Before converting raw data in *.edi format, user can do a quick analysis of E-H-magnitudes with errors propagation to see how raw data as well as error propagations, are arranged at different stations. We intend to visualize station `S00`, `S22` and `S46` for this example.\n"
   ]
  },
  {
   "cell_type": "code",
   "execution_count": 78,
   "metadata": {},
   "outputs": [
    {
     "ename": "ModuleNotFoundError",
     "evalue": "No module named 'pycsamt.viewer'",
     "output_type": "error",
     "traceback": [
      "\u001b[1;31m---------------------------------------------------------------------------\u001b[0m",
      "\u001b[1;31mModuleNotFoundError\u001b[0m                       Traceback (most recent call last)",
      "\u001b[1;32m<ipython-input-78-534660f99617>\u001b[0m in \u001b[0;36m<module>\u001b[1;34m\u001b[0m\n\u001b[1;32m----> 1\u001b[1;33m \u001b[1;32mfrom\u001b[0m \u001b[0mpycsamt\u001b[0m\u001b[1;33m.\u001b[0m\u001b[0mviewer\u001b[0m\u001b[1;33m.\u001b[0m\u001b[0mplot\u001b[0m \u001b[1;32mimport\u001b[0m \u001b[0mPlot1d\u001b[0m\u001b[1;33m\u001b[0m\u001b[1;33m\u001b[0m\u001b[0m\n\u001b[0m\u001b[0;32m      2\u001b[0m \u001b[0mprint\u001b[0m\u001b[1;33m(\u001b[0m\u001b[0mos\u001b[0m\u001b[1;33m.\u001b[0m\u001b[0mgetcwd\u001b[0m\u001b[1;33m(\u001b[0m\u001b[1;33m)\u001b[0m\u001b[1;33m)\u001b[0m\u001b[1;33m\u001b[0m\u001b[1;33m\u001b[0m\u001b[0m\n\u001b[0;32m      3\u001b[0m \u001b[1;31m# Plot1d().plot_curves(fn = avg_file,\u001b[0m\u001b[1;33m\u001b[0m\u001b[1;33m\u001b[0m\u001b[1;33m\u001b[0m\u001b[0m\n\u001b[0;32m      4\u001b[0m \u001b[1;31m#                       selected_stations=['S00', 'S22', 'S46']  # or [1,23,47]\u001b[0m\u001b[1;33m\u001b[0m\u001b[1;33m\u001b[0m\u001b[1;33m\u001b[0m\u001b[0m\n\u001b[0;32m      5\u001b[0m \u001b[1;31m#                      )\u001b[0m\u001b[1;33m\u001b[0m\u001b[1;33m\u001b[0m\u001b[1;33m\u001b[0m\u001b[0m\n",
      "\u001b[1;31mModuleNotFoundError\u001b[0m: No module named 'pycsamt.viewer'"
     ]
    }
   ],
   "source": [
    "from pycsamt.viewer.plot import Plot1d\n",
    "print(os.getcwd())\n",
    " Plot1d().plot_curves(fn = avg_file, \n",
    "                       selected_stations=['S00', 'S22', 'S46']  # or [1,23,47] \n",
    "                      ) \n"
   ]
  },
  {
   "cell_type": "markdown",
   "metadata": {},
   "source": [
    "### 4.4.   Convert raw *.avg file  to SEG *.edi file\n",
    "\n",
    "It’s possible to apply filters when converting raw *.avg file to SEG *.edi file, by adding the name of the available filter (e.g. ‘tma’ , ‘ama’ or ‘flma’ filter) through the argument apply_filter. (see https://github.com/WEgeophysics/pyCSAMT/wiki/How-pyCSAMT-works-%3F for details  about these filters).  The kind of data provided ( MT or EMAP data)  is detected automatically. The example below is to write plainly K1.AVG file with station profile K1.stn to EMAP *.edi format without apply any filter.\n",
    "**Note**: The reference_frequency is the frequency at clean data. If it’s not given (mean None), it will be automatically computed. \n"
   ]
  },
  {
   "cell_type": "code",
   "execution_count": 79,
   "metadata": {
    "collapsed": true
   },
   "outputs": [
    {
     "name": "stderr",
     "output_type": "stream",
     "text": [
      "..\\pycsamt\\ff\\core\\z.py:209: RuntimeWarning: invalid value encountered in double_scalars\n",
      "  self.resistivity[idx_f, ii, jj]\n",
      "..\\pycsamt\\ff\\processing\\mtcalculator.py:368: RuntimeWarning: invalid value encountered in double_scalars\n",
      "  z_rel_err = error/z_amp\n"
     ]
    },
    {
     "name": "stdout",
     "output_type": "stream",
     "text": [
      "-----------------------------------------------------------------------------\n",
      "---> Edifile <S00_emap.2021.edi> has be successfully written to your savepath.\n",
      "---> savepath : <C:\\Users\\Administrator\\OneDrive\\Python\\pyCSAMT\\_outputAVG2EDI_>\n",
      "-----------------------------------------------------------------------------\n",
      "---> Edifile <S01_emap.2021.edi> has be successfully written to your savepath.\n",
      "---> savepath : <C:\\Users\\Administrator\\OneDrive\\Python\\pyCSAMT\\_outputAVG2EDI_>\n",
      "-----------------------------------------------------------------------------\n",
      "---> Edifile <S02_emap.2021.edi> has be successfully written to your savepath.\n",
      "---> savepath : <C:\\Users\\Administrator\\OneDrive\\Python\\pyCSAMT\\_outputAVG2EDI_>\n",
      "-----------------------------------------------------------------------------\n",
      "---> Edifile <S03_emap.2021.edi> has be successfully written to your savepath.\n",
      "---> savepath : <C:\\Users\\Administrator\\OneDrive\\Python\\pyCSAMT\\_outputAVG2EDI_>\n",
      "-----------------------------------------------------------------------------\n",
      "---> Edifile <S04_emap.2021.edi> has be successfully written to your savepath.\n",
      "---> savepath : <C:\\Users\\Administrator\\OneDrive\\Python\\pyCSAMT\\_outputAVG2EDI_>\n",
      "-----------------------------------------------------------------------------\n",
      "---> Edifile <S05_emap.2021.edi> has be successfully written to your savepath.\n",
      "---> savepath : <C:\\Users\\Administrator\\OneDrive\\Python\\pyCSAMT\\_outputAVG2EDI_>\n",
      "-----------------------------------------------------------------------------\n",
      "---> Edifile <S06_emap.2021.edi> has be successfully written to your savepath.\n",
      "---> savepath : <C:\\Users\\Administrator\\OneDrive\\Python\\pyCSAMT\\_outputAVG2EDI_>\n",
      "-----------------------------------------------------------------------------\n",
      "---> Edifile <S07_emap.2021.edi> has be successfully written to your savepath.\n",
      "---> savepath : <C:\\Users\\Administrator\\OneDrive\\Python\\pyCSAMT\\_outputAVG2EDI_>\n",
      "-----------------------------------------------------------------------------\n",
      "---> Edifile <S08_emap.2021.edi> has be successfully written to your savepath.\n",
      "---> savepath : <C:\\Users\\Administrator\\OneDrive\\Python\\pyCSAMT\\_outputAVG2EDI_>\n",
      "-----------------------------------------------------------------------------\n",
      "---> Edifile <S09_emap.2021.edi> has be successfully written to your savepath.\n",
      "---> savepath : <C:\\Users\\Administrator\\OneDrive\\Python\\pyCSAMT\\_outputAVG2EDI_>\n",
      "-----------------------------------------------------------------------------\n",
      "---> Edifile <S10_emap.2021.edi> has be successfully written to your savepath.\n",
      "---> savepath : <C:\\Users\\Administrator\\OneDrive\\Python\\pyCSAMT\\_outputAVG2EDI_>\n",
      "-----------------------------------------------------------------------------\n",
      "---> Edifile <S11_emap.2021.edi> has be successfully written to your savepath.\n",
      "---> savepath : <C:\\Users\\Administrator\\OneDrive\\Python\\pyCSAMT\\_outputAVG2EDI_>\n",
      "-----------------------------------------------------------------------------\n",
      "---> Edifile <S12_emap.2021.edi> has be successfully written to your savepath.\n",
      "---> savepath : <C:\\Users\\Administrator\\OneDrive\\Python\\pyCSAMT\\_outputAVG2EDI_>\n",
      "-----------------------------------------------------------------------------\n",
      "---> Edifile <S13_emap.2021.edi> has be successfully written to your savepath.\n",
      "---> savepath : <C:\\Users\\Administrator\\OneDrive\\Python\\pyCSAMT\\_outputAVG2EDI_>\n",
      "-----------------------------------------------------------------------------\n",
      "---> Edifile <S14_emap.2021.edi> has be successfully written to your savepath.\n",
      "---> savepath : <C:\\Users\\Administrator\\OneDrive\\Python\\pyCSAMT\\_outputAVG2EDI_>\n",
      "-----------------------------------------------------------------------------\n",
      "---> Edifile <S15_emap.2021.edi> has be successfully written to your savepath.\n",
      "---> savepath : <C:\\Users\\Administrator\\OneDrive\\Python\\pyCSAMT\\_outputAVG2EDI_>\n",
      "-----------------------------------------------------------------------------\n",
      "---> Edifile <S16_emap.2021.edi> has be successfully written to your savepath.\n",
      "---> savepath : <C:\\Users\\Administrator\\OneDrive\\Python\\pyCSAMT\\_outputAVG2EDI_>\n",
      "-----------------------------------------------------------------------------\n",
      "---> Edifile <S17_emap.2021.edi> has be successfully written to your savepath.\n",
      "---> savepath : <C:\\Users\\Administrator\\OneDrive\\Python\\pyCSAMT\\_outputAVG2EDI_>\n",
      "-----------------------------------------------------------------------------\n",
      "---> Edifile <S18_emap.2021.edi> has be successfully written to your savepath.\n",
      "---> savepath : <C:\\Users\\Administrator\\OneDrive\\Python\\pyCSAMT\\_outputAVG2EDI_>\n",
      "-----------------------------------------------------------------------------\n",
      "---> Edifile <S19_emap.2021.edi> has be successfully written to your savepath.\n",
      "---> savepath : <C:\\Users\\Administrator\\OneDrive\\Python\\pyCSAMT\\_outputAVG2EDI_>\n",
      "-----------------------------------------------------------------------------\n",
      "---> Edifile <S20_emap.2021.edi> has be successfully written to your savepath.\n",
      "---> savepath : <C:\\Users\\Administrator\\OneDrive\\Python\\pyCSAMT\\_outputAVG2EDI_>\n",
      "-----------------------------------------------------------------------------\n",
      "---> Edifile <S21_emap.2021.edi> has be successfully written to your savepath.\n",
      "---> savepath : <C:\\Users\\Administrator\\OneDrive\\Python\\pyCSAMT\\_outputAVG2EDI_>\n",
      "-----------------------------------------------------------------------------\n",
      "---> Edifile <S22_emap.2021.edi> has be successfully written to your savepath.\n",
      "---> savepath : <C:\\Users\\Administrator\\OneDrive\\Python\\pyCSAMT\\_outputAVG2EDI_>\n",
      "-----------------------------------------------------------------------------\n",
      "---> Edifile <S23_emap.2021.edi> has be successfully written to your savepath.\n",
      "---> savepath : <C:\\Users\\Administrator\\OneDrive\\Python\\pyCSAMT\\_outputAVG2EDI_>\n",
      "-----------------------------------------------------------------------------\n",
      "---> Edifile <S24_emap.2021.edi> has be successfully written to your savepath.\n",
      "---> savepath : <C:\\Users\\Administrator\\OneDrive\\Python\\pyCSAMT\\_outputAVG2EDI_>\n",
      "-----------------------------------------------------------------------------\n",
      "---> Edifile <S25_emap.2021.edi> has be successfully written to your savepath.\n",
      "---> savepath : <C:\\Users\\Administrator\\OneDrive\\Python\\pyCSAMT\\_outputAVG2EDI_>\n",
      "-----------------------------------------------------------------------------\n",
      "---> Edifile <S26_emap.2021.edi> has be successfully written to your savepath.\n",
      "---> savepath : <C:\\Users\\Administrator\\OneDrive\\Python\\pyCSAMT\\_outputAVG2EDI_>\n",
      "-----------------------------------------------------------------------------\n",
      "---> Edifile <S27_emap.2021.edi> has be successfully written to your savepath.\n",
      "---> savepath : <C:\\Users\\Administrator\\OneDrive\\Python\\pyCSAMT\\_outputAVG2EDI_>\n",
      "-----------------------------------------------------------------------------\n",
      "---> Edifile <S28_emap.2021.edi> has be successfully written to your savepath.\n",
      "---> savepath : <C:\\Users\\Administrator\\OneDrive\\Python\\pyCSAMT\\_outputAVG2EDI_>\n",
      "-----------------------------------------------------------------------------\n",
      "---> Edifile <S29_emap.2021.edi> has be successfully written to your savepath.\n",
      "---> savepath : <C:\\Users\\Administrator\\OneDrive\\Python\\pyCSAMT\\_outputAVG2EDI_>\n",
      "-----------------------------------------------------------------------------\n",
      "---> Edifile <S30_emap.2021.edi> has be successfully written to your savepath.\n",
      "---> savepath : <C:\\Users\\Administrator\\OneDrive\\Python\\pyCSAMT\\_outputAVG2EDI_>\n",
      "-----------------------------------------------------------------------------\n",
      "---> Edifile <S31_emap.2021.edi> has be successfully written to your savepath.\n",
      "---> savepath : <C:\\Users\\Administrator\\OneDrive\\Python\\pyCSAMT\\_outputAVG2EDI_>\n",
      "-----------------------------------------------------------------------------\n",
      "---> Edifile <S32_emap.2021.edi> has be successfully written to your savepath.\n",
      "---> savepath : <C:\\Users\\Administrator\\OneDrive\\Python\\pyCSAMT\\_outputAVG2EDI_>\n",
      "-----------------------------------------------------------------------------\n",
      "---> Edifile <S33_emap.2021.edi> has be successfully written to your savepath.\n",
      "---> savepath : <C:\\Users\\Administrator\\OneDrive\\Python\\pyCSAMT\\_outputAVG2EDI_>\n",
      "-----------------------------------------------------------------------------\n",
      "---> Edifile <S34_emap.2021.edi> has be successfully written to your savepath.\n",
      "---> savepath : <C:\\Users\\Administrator\\OneDrive\\Python\\pyCSAMT\\_outputAVG2EDI_>\n",
      "-----------------------------------------------------------------------------\n",
      "---> Edifile <S35_emap.2021.edi> has be successfully written to your savepath.\n",
      "---> savepath : <C:\\Users\\Administrator\\OneDrive\\Python\\pyCSAMT\\_outputAVG2EDI_>\n",
      "-----------------------------------------------------------------------------\n",
      "---> Edifile <S36_emap.2021.edi> has be successfully written to your savepath.\n",
      "---> savepath : <C:\\Users\\Administrator\\OneDrive\\Python\\pyCSAMT\\_outputAVG2EDI_>\n",
      "-----------------------------------------------------------------------------\n",
      "---> Edifile <S37_emap.2021.edi> has be successfully written to your savepath.\n",
      "---> savepath : <C:\\Users\\Administrator\\OneDrive\\Python\\pyCSAMT\\_outputAVG2EDI_>\n",
      "-----------------------------------------------------------------------------\n",
      "---> Edifile <S38_emap.2021.edi> has be successfully written to your savepath.\n",
      "---> savepath : <C:\\Users\\Administrator\\OneDrive\\Python\\pyCSAMT\\_outputAVG2EDI_>\n",
      "-----------------------------------------------------------------------------\n",
      "---> Edifile <S39_emap.2021.edi> has be successfully written to your savepath.\n",
      "---> savepath : <C:\\Users\\Administrator\\OneDrive\\Python\\pyCSAMT\\_outputAVG2EDI_>\n"
     ]
    },
    {
     "name": "stdout",
     "output_type": "stream",
     "text": [
      "-----------------------------------------------------------------------------\n",
      "---> Edifile <S40_emap.2021.edi> has be successfully written to your savepath.\n",
      "---> savepath : <C:\\Users\\Administrator\\OneDrive\\Python\\pyCSAMT\\_outputAVG2EDI_>\n",
      "-----------------------------------------------------------------------------\n",
      "---> Edifile <S41_emap.2021.edi> has be successfully written to your savepath.\n",
      "---> savepath : <C:\\Users\\Administrator\\OneDrive\\Python\\pyCSAMT\\_outputAVG2EDI_>\n",
      "-----------------------------------------------------------------------------\n",
      "---> Edifile <S42_emap.2021.edi> has be successfully written to your savepath.\n",
      "---> savepath : <C:\\Users\\Administrator\\OneDrive\\Python\\pyCSAMT\\_outputAVG2EDI_>\n",
      "-----------------------------------------------------------------------------\n",
      "---> Edifile <S43_emap.2021.edi> has be successfully written to your savepath.\n",
      "---> savepath : <C:\\Users\\Administrator\\OneDrive\\Python\\pyCSAMT\\_outputAVG2EDI_>\n",
      "-----------------------------------------------------------------------------\n",
      "---> Edifile <S44_emap.2021.edi> has be successfully written to your savepath.\n",
      "---> savepath : <C:\\Users\\Administrator\\OneDrive\\Python\\pyCSAMT\\_outputAVG2EDI_>\n",
      "-----------------------------------------------------------------------------\n",
      "---> Edifile <S45_emap.2021.edi> has be successfully written to your savepath.\n",
      "---> savepath : <C:\\Users\\Administrator\\OneDrive\\Python\\pyCSAMT\\_outputAVG2EDI_>\n",
      "-----------------------------------------------------------------------------\n",
      "---> Edifile <S46_emap.2021.edi> has be successfully written to your savepath.\n",
      "---> savepath : <C:\\Users\\Administrator\\OneDrive\\Python\\pyCSAMT\\_outputAVG2EDI_>\n",
      "-----------------------------------------------------------------------------\n",
      "---> 47 Edi-files have been rewritten.\n",
      "---> see path:<C:\\Users\\Administrator\\OneDrive\\Python\\pyCSAMT\\_outputAVG2EDI_> \n",
      "-----------------------------------------------------------------------------\n"
     ]
    }
   ],
   "source": [
    "# write avg file to edifile \n",
    "avg_obj.avg_to_edifile(data_fn=avg_file,  # avg file \n",
    "profile_fn = station_profile_file, # profile file \n",
    "savepath =savepath, reference_frequency= None)\n"
   ]
  },
  {
   "cell_type": "markdown",
   "metadata": {},
   "source": [
    "### 4.6.  Penetration depths 1D & 2D\n",
    "\n",
    "Penetration depth (1D or 2D) can be visualized a for a better understanding of frequency variations in deep when the magnetic field passes through a conductive or resistive geological structure.\n",
    "From the penetration 1D plot, different frequencies are visualized on the same graphical. If the input frequency is not in the survey frequency range, the selected frequency will be interpolated. \n",
    "The example below is to visualize the penetration 1D at 1024Hz, 4096 Hz, and 8000 Hz around  _1km_ depth\n"
   ]
  },
  {
   "cell_type": "code",
   "execution_count": 80,
   "metadata": {
    "collapsed": true
   },
   "outputs": [
    {
     "ename": "ModuleNotFoundError",
     "evalue": "No module named 'pycsamt.viewer'",
     "output_type": "error",
     "traceback": [
      "\u001b[1;31m---------------------------------------------------------------------------\u001b[0m",
      "\u001b[1;31mModuleNotFoundError\u001b[0m                       Traceback (most recent call last)",
      "\u001b[1;32m<ipython-input-80-6d07cf73b79a>\u001b[0m in \u001b[0;36m<module>\u001b[1;34m\u001b[0m\n\u001b[1;32m----> 1\u001b[1;33m \u001b[1;32mfrom\u001b[0m \u001b[0mpycsamt\u001b[0m\u001b[1;33m.\u001b[0m\u001b[0mviewer\u001b[0m\u001b[1;33m.\u001b[0m\u001b[0mplot\u001b[0m \u001b[1;32mimport\u001b[0m \u001b[0mPlot1d\u001b[0m\u001b[1;33m\u001b[0m\u001b[1;33m\u001b[0m\u001b[0m\n\u001b[0m\u001b[0;32m      2\u001b[0m \u001b[0medipath\u001b[0m \u001b[1;33m=\u001b[0m\u001b[1;34m'data/edi'\u001b[0m \u001b[1;31m# path to edi-files\u001b[0m\u001b[1;33m\u001b[0m\u001b[1;33m\u001b[0m\u001b[0m\n\u001b[0;32m      3\u001b[0m \u001b[0mselected_frequencies\u001b[0m \u001b[1;33m=\u001b[0m\u001b[1;33m[\u001b[0m\u001b[1;36m1024\u001b[0m\u001b[1;33m,\u001b[0m \u001b[1;36m4096.\u001b[0m\u001b[1;33m,\u001b[0m \u001b[1;36m8000.\u001b[0m\u001b[1;33m]\u001b[0m \u001b[1;31m# selected frequencies to visualize\u001b[0m\u001b[1;33m\u001b[0m\u001b[1;33m\u001b[0m\u001b[0m\n\u001b[0;32m      4\u001b[0m Plot1d().penetration1D(fn =edipath ,\n\u001b[0;32m      5\u001b[0m selected_frequency =selected_frequencies)\n",
      "\u001b[1;31mModuleNotFoundError\u001b[0m: No module named 'pycsamt.viewer'"
     ]
    }
   ],
   "source": [
    "from pycsamt.viewer.plot import Plot1d\n",
    "edipath ='data/edi' # path to edi-files \n",
    "selected_frequencies =[1024, 4096., 8000.] # selected frequencies to visualize \n",
    "Plot1d().penetration1D(fn =edipath ,\n",
    "selected_frequency =selected_frequencies)\n"
   ]
  },
  {
   "cell_type": "markdown",
   "metadata": {},
   "source": [
    "We noticed input 8000Hz is not in frequency range then it has been interpolated to 8192 Hz .\n",
    "\n",
    "* To plot penetration 2D , user needs to specify  the value of imaging depth using  doi  parameter (depth of investigation). For instance, to expect to getting more representative frequencies at 1km depth for imaging, it is better to set the  doi  param to 2km  around 2 times the assuming  image depth(1km).\n"
   ]
  },
  {
   "cell_type": "code",
   "execution_count": 81,
   "metadata": {
    "collapsed": true
   },
   "outputs": [
    {
     "ename": "ModuleNotFoundError",
     "evalue": "No module named 'pycsamt.viewer'",
     "output_type": "error",
     "traceback": [
      "\u001b[1;31m---------------------------------------------------------------------------\u001b[0m",
      "\u001b[1;31mModuleNotFoundError\u001b[0m                       Traceback (most recent call last)",
      "\u001b[1;32m<ipython-input-81-b05d4db3ce20>\u001b[0m in \u001b[0;36m<module>\u001b[1;34m\u001b[0m\n\u001b[0;32m      1\u001b[0m \u001b[1;31m# import required Plot2d module\u001b[0m\u001b[1;33m\u001b[0m\u001b[1;33m\u001b[0m\u001b[1;33m\u001b[0m\u001b[0m\n\u001b[1;32m----> 2\u001b[1;33m \u001b[1;32mfrom\u001b[0m \u001b[0mpycsamt\u001b[0m\u001b[1;33m.\u001b[0m\u001b[0mviewer\u001b[0m\u001b[1;33m.\u001b[0m\u001b[0mplot\u001b[0m \u001b[1;32mimport\u001b[0m \u001b[0mPlot2d\u001b[0m\u001b[1;33m\u001b[0m\u001b[1;33m\u001b[0m\u001b[0m\n\u001b[0m\u001b[0;32m      3\u001b[0m \u001b[0mPlot2d\u001b[0m\u001b[1;33m(\u001b[0m\u001b[1;33m)\u001b[0m\u001b[1;33m.\u001b[0m\u001b[0mpenetration2D\u001b[0m\u001b[1;33m(\u001b[0m\u001b[0mfn\u001b[0m \u001b[1;33m=\u001b[0m \u001b[0medipath\u001b[0m\u001b[1;33m,\u001b[0m \u001b[0mdoi\u001b[0m \u001b[1;33m=\u001b[0m\u001b[1;34m'2km'\u001b[0m\u001b[1;33m)\u001b[0m \u001b[1;31m# can be doi=2000.\u001b[0m\u001b[1;33m\u001b[0m\u001b[1;33m\u001b[0m\u001b[0m\n",
      "\u001b[1;31mModuleNotFoundError\u001b[0m: No module named 'pycsamt.viewer'"
     ]
    }
   ],
   "source": [
    "# import required Plot2d module \n",
    "from pycsamt.viewer.plot import Plot2d\n",
    "Plot2d().penetration2D(fn = edipath, doi ='2km') # can be doi=2000.\n"
   ]
  },
  {
   "cell_type": "markdown",
   "metadata": {},
   "source": [
    "### 4.7  . Scaled profile\n",
    "#### 4.7.1. coordinates scaling \n",
    "\n",
    "Scaling profile is necessary especially when data are collected in hard environment like mountains or an area with many hills or for others reasons. Mathematically, it’s sometimes difficult on field to get the exact difference between dipole length at every site. To scale profile and to compute dipole length  or to readjust  coordinates values for others purposes, , it possible using cs.Profile module of Core sub-package by creating a profile object to hold all information of survey line . For instance:\n"
   ]
  },
  {
   "cell_type": "code",
   "execution_count": 83,
   "metadata": {},
   "outputs": [],
   "source": [
    "# import required Profile module \n",
    "from pycsamt.ff.core.cs import Profile \n",
    "# create profile_obj \n",
    "profile_obj = Profile(station_profile_file)"
   ]
  },
  {
   "cell_type": "markdown",
   "metadata": {},
   "source": [
    "When object profile is created, it is mere to get some relevant attributes like: "
   ]
  },
  {
   "cell_type": "code",
   "execution_count": 84,
   "metadata": {},
   "outputs": [
    {
     "data": {
      "text/plain": [
       "array([748870.0005, 748914.482 , 748947.394 , 748981.764 , 749020.6755,\n",
       "       749055.105 , 749098.152 , 749146.8875, 749190.4325, 749229.008 ,\n",
       "       749272.3335, 749313.822 , 749351.1785, 749392.56  , 749438.759 ,\n",
       "       749479.7635, 749517.678 , 749555.0935, 749593.2785, 749637.1715,\n",
       "       749684.45  , 749725.6445, 749765.864 , 749813.017 , 749856.189 ,\n",
       "       749896.675 , 749934.854 , 749974.625 , 750021.127 , 750066.5865,\n",
       "       750105.5645, 750145.242 , 750187.1645, 750227.522 , 750267.968 ,\n",
       "       750310.4695, 750352.838 , 750392.8045, 750428.4055, 750467.0305,\n",
       "       750509.9085, 750549.978 , 750589.9455, 750635.2805, 750679.1045,\n",
       "       750717.745 , 750756.372 ])"
      ]
     },
     "execution_count": 84,
     "metadata": {},
     "output_type": "execute_result"
    }
   ],
   "source": [
    "# get easting coordinates \n",
    "profile_obj.east # get easting coordinate"
   ]
  },
  {
   "cell_type": "code",
   "execution_count": 87,
   "metadata": {},
   "outputs": [
    {
     "data": {
      "text/plain": [
       "array([573.4 , 566.8 , 553.95, 544.35, 536.65, 530.65, 534.6 , 527.55,\n",
       "       517.25, 510.3 , 503.4 , 502.8 , 499.25, 493.8 , 491.65, 498.75,\n",
       "       503.45, 498.55, 492.85, 488.15, 481.75, 477.75, 473.5 , 479.  ,\n",
       "       494.55, 504.8 , 505.  , 497.45, 495.8 , 496.8 , 485.4 , 470.55,\n",
       "       462.85, 450.4 , 435.4 , 427.75, 415.05, 401.05, 401.4 , 404.  ,\n",
       "       401.55, 401.95, 403.25, 419.35, 424.35, 411.5 , 423.75])"
      ]
     },
     "execution_count": 87,
     "metadata": {},
     "output_type": "execute_result"
    }
   ],
   "source": [
    "# get elevation on the survey line \n",
    "profile_obj.elev # get elevation on the survey line"
   ]
  },
  {
   "cell_type": "code",
   "execution_count": 88,
   "metadata": {},
   "outputs": [
    {
     "data": {
      "text/plain": [
       "array([2883850.105 , 2883826.2705, 2883787.0605, 2883749.329 ,\n",
       "       2883717.3305, 2883680.035 , 2883653.993 , 2883636.0805,\n",
       "       2883611.4985, 2883580.9635, 2883553.495 , 2883526.481 ,\n",
       "       2883494.6755, 2883459.3245, 2883435.737 , 2883413.1315,\n",
       "       2883383.1575, 2883348.738 , 2883312.9475, 2883288.6235,\n",
       "       2883273.679 , 2883246.855 , 2883213.8485, 2883194.18  ,\n",
       "       2883170.083 , 2883136.6935, 2883103.029 , 2883075.624 ,\n",
       "       2883052.0445, 2883026.236 , 2882995.378 , 2882965.929 ,\n",
       "       2882938.6765, 2882912.503 , 2882884.806 , 2882856.5665,\n",
       "       2882830.469 , 2882800.814 , 2882771.112 , 2882743.917 ,\n",
       "       2882716.573 , 2882688.112 , 2882661.488 , 2882638.387 ,\n",
       "       2882611.3665, 2882576.918 , 2882544.9275])"
      ]
     },
     "execution_count": 88,
     "metadata": {},
     "output_type": "execute_result"
    }
   ],
   "source": [
    "# get northing coordinates \n",
    "profile_obj.north # get northing coordinates "
   ]
  },
  {
   "cell_type": "code",
   "execution_count": 89,
   "metadata": {},
   "outputs": [
    {
     "data": {
      "text/plain": [
       "array([113.48738802, 113.48782772, 113.48814895, 113.48848502,\n",
       "       113.48886753, 113.48920427, 113.48962922, 113.49011252,\n",
       "       113.49054272, 113.49092214, 113.49134959, 113.49175878,\n",
       "       113.49212579, 113.49253231, 113.49298919, 113.49339438,\n",
       "       113.4937673 , 113.49413438, 113.49450889, 113.49494259,\n",
       "       113.49541189, 113.49581816, 113.49621351, 113.49668065,\n",
       "       113.49710718, 113.49750511, 113.49787995, 113.49827188,\n",
       "       113.49873177, 113.49918081, 113.49956415, 113.49995475,\n",
       "       113.50036819, 113.5007662 , 113.50116481, 113.50158383,\n",
       "       113.50200194, 113.50239537, 113.5027452 , 113.50312571,\n",
       "       113.50354866, 113.50394334, 113.50433736, 113.50478565,\n",
       "       113.5052181 , 113.50559736, 113.50597695])"
      ]
     },
     "execution_count": 89,
     "metadata": {},
     "output_type": "execute_result"
    }
   ],
   "source": [
    "# get longitude coordinates \n",
    "profile_obj.lon # longitude value on survey\n"
   ]
  },
  {
   "cell_type": "code",
   "execution_count": 90,
   "metadata": {},
   "outputs": [
    {
     "data": {
      "text/plain": [
       "array([26.05230726, 26.05208458, 26.0517252 , 26.05137889, 26.05108353,\n",
       "       26.05074115, 26.0504988 , 26.05032881, 26.05009955, 26.04981744,\n",
       "       26.04956217, 26.04931132, 26.04901795, 26.04869191, 26.04847115,\n",
       "       26.04826015, 26.04798321, 26.04766625, 26.04733678, 26.04710978,\n",
       "       26.0469668 , 26.0467177 , 26.046413  , 26.04622742, 26.04600258,\n",
       "       26.04569437, 26.04538408, 26.04512998, 26.04490923, 26.04466855,\n",
       "       26.04438343, 26.04411091, 26.04385781, 26.04361471, 26.04335786,\n",
       "       26.04309575, 26.04285299, 26.04257855, 26.04230444, 26.04205242,\n",
       "       26.04179832, 26.04153463, 26.04128753, 26.04107128, 26.04081993,\n",
       "       26.04050247, 26.04020718])"
      ]
     },
     "execution_count": 90,
     "metadata": {},
     "output_type": "execute_result"
    }
   ],
   "source": [
    "# get latitude coordinates \n",
    "profile_obj.lat # latitude value on survey "
   ]
  },
  {
   "cell_type": "code",
   "execution_count": 91,
   "metadata": {},
   "outputs": [
    {
     "data": {
      "text/plain": [
       "50.0"
      ]
     },
     "execution_count": 91,
     "metadata": {},
     "output_type": "execute_result"
    }
   ],
   "source": [
    "# -\tTo also get the dipole length, user needs to easily type:\n",
    "profile_obj.dipole_length"
   ]
  },
  {
   "cell_type": "code",
   "execution_count": 92,
   "metadata": {},
   "outputs": [
    {
     "data": {
      "text/plain": [
       "array([50.46471275, 51.19202911, 51.03883808, 50.37865455, 50.75770671,\n",
       "       50.31133046, 51.92308366, 50.0044173 , 49.1981242 , 51.29929281,\n",
       "       49.50809861, 49.06218424, 54.42537775, 51.87212891, 46.82283258,\n",
       "       48.3316665 , 50.83917407, 52.33597343, 50.18219231, 49.58421768,\n",
       "       49.15804925, 52.02919587, 51.09065767, 49.44175354, 52.47832797,\n",
       "       50.90122397, 48.29872116, 52.13855411, 52.27470528, 49.7141896 ,\n",
       "       49.41201885, 50.00194759, 48.10176617, 49.02043171, 51.02790278,\n",
       "       49.76112236, 49.76685792, 46.36421039, 47.2383176 , 50.85486427,\n",
       "       49.14868616, 48.02331134, 50.88141533, 51.48446752, 51.76666295,\n",
       "       50.15413462, 48.54160629])"
      ]
     },
     "execution_count": 92,
     "metadata": {},
     "output_type": "execute_result"
    }
   ],
   "source": [
    "#-\tTo  get stations interval , station position and station azimuth \n",
    "profile_obj.stn_interval "
   ]
  },
  {
   "cell_type": "code",
   "execution_count": 93,
   "metadata": {},
   "outputs": [
    {
     "data": {
      "text/plain": [
       "array([ 175.,  225.,  275.,  325.,  375.,  425.,  475.,  525.,  575.,\n",
       "        625.,  675.,  725.,  775.,  825.,  875.,  925.,  975., 1025.,\n",
       "       1075., 1125., 1175., 1225., 1275., 1325., 1375., 1425., 1475.,\n",
       "       1525., 1575., 1625., 1675., 1725., 1775., 1825., 1875., 1925.,\n",
       "       1975., 2025., 2075., 2125., 2175., 2225., 2275., 2325., 2375.,\n",
       "       2425., 2475.])"
      ]
     },
     "execution_count": 93,
     "metadata": {},
     "output_type": "execute_result"
    }
   ],
   "source": [
    "# profile_obj.stn_position  position of station location \n",
    "profile_obj.stn_position "
   ]
  },
  {
   "cell_type": "code",
   "execution_count": 94,
   "metadata": {},
   "outputs": [
    {
     "data": {
      "text/plain": [
       "array([108.204, 129.869, 151.533, 149.503, 141.823, 149.146, 133.186,\n",
       "       120.059, 131.239, 140.719, 134.47 , 135.211, 142.707, 142.788,\n",
       "       128.419, 130.516, 140.619, 144.767, 145.258, 130.618, 116.524,\n",
       "       135.118, 141.601, 123.032, 130.778, 141.712, 143.539, 136.657,\n",
       "       128.107, 131.201, 140.53 , 138.713, 134.968, 134.893, 136.418,\n",
       "       135.557, 133.416, 138.651, 141.913, 137.155, 134.354, 137.384,\n",
       "       135.565, 128.107, 133.37 , 143.672, 141.637])"
      ]
     },
     "execution_count": 94,
     "metadata": {},
     "output_type": "execute_result"
    }
   ],
   "source": [
    "# get station azimuth location \n",
    "profile_obj.azimuth "
   ]
  },
  {
   "cell_type": "markdown",
   "metadata": {},
   "source": [
    "* To get a single value of specific site(station) of any kind of attribute from Profile object like latitude/ longitude,  easting/northing , azimuth  or elevation , user must import the required module  Site like : "
   ]
  },
  {
   "cell_type": "code",
   "execution_count": 97,
   "metadata": {},
   "outputs": [],
   "source": [
    "# import Site module from cs module  and create site object \n",
    "from pycsamt.ff.core.cs import Site\n",
    "site_obj= Site(station_profile_file)"
   ]
  },
  {
   "cell_type": "code",
   "execution_count": 98,
   "metadata": {},
   "outputs": [
    {
     "data": {
      "text/plain": [
       "748870.0005000001"
      ]
     },
     "execution_count": 98,
     "metadata": {},
     "output_type": "execute_result"
    }
   ],
   "source": [
    "# get easting value of station S00 \n",
    "site_obj.east['S00'] # station S00 easting \n"
   ]
  },
  {
   "cell_type": "code",
   "execution_count": 99,
   "metadata": {},
   "outputs": [
    {
     "data": {
      "text/plain": [
       "2883850.105"
      ]
     },
     "execution_count": 99,
     "metadata": {},
     "output_type": "execute_result"
    }
   ],
   "source": [
    "# get northing value of station S00\n",
    "site_obj.north['S00'] # station S00 longitude "
   ]
  },
  {
   "cell_type": "code",
   "execution_count": 100,
   "metadata": {},
   "outputs": [
    {
     "data": {
      "text/plain": [
       "573.4"
      ]
     },
     "execution_count": 100,
     "metadata": {},
     "output_type": "execute_result"
    }
   ],
   "source": [
    "# get elevation object from site \n",
    "site_obj.elev['S00'] # elevation of station S00"
   ]
  },
  {
   "cell_type": "code",
   "execution_count": 101,
   "metadata": {},
   "outputs": [
    {
     "data": {
      "text/plain": [
       "113.48738802077735"
      ]
     },
     "execution_count": 101,
     "metadata": {},
     "output_type": "execute_result"
    }
   ],
   "source": [
    "#get longitude object from  site S00 \n",
    "site_obj.lon['S00']\n"
   ]
  },
  {
   "cell_type": "code",
   "execution_count": 102,
   "metadata": {},
   "outputs": [
    {
     "data": {
      "text/plain": [
       "26.05230725828611"
      ]
     },
     "execution_count": 102,
     "metadata": {},
     "output_type": "execute_result"
    }
   ],
   "source": [
    "# get latitude from site S00\n",
    "site_obj.lat['S00']"
   ]
  },
  {
   "cell_type": "code",
   "execution_count": 103,
   "metadata": {},
   "outputs": [
    {
     "data": {
      "text/plain": [
       "108.204"
      ]
     },
     "execution_count": 103,
     "metadata": {},
     "output_type": "execute_result"
    }
   ],
   "source": [
    "# get azimuth object from site\n",
    "site_obj.azim['S00']\n"
   ]
  },
  {
   "cell_type": "markdown",
   "metadata": {},
   "source": [
    "**Note**: Whatever type of coordinates type is provided, coordinates are systematically converted to both types i.e  lat/lon specifying the UTM zone, and easting and northing coordinated values.\n",
    "Furthermore, to rescale station profile, three (03) modes are available: `classic(clas`’  or `natural/distortion(nat/dist)` and `equidistant(equ)` mode. User can either keeps the new scaling station profile (_.stn_) rewritten file or user could decide at the same time to plot the both station profiles (scaled and unscaled profile) and keeps the new scaling profile.  For this example, we selected the second option to do the both tasks. At the same time, user can also decide to readjust the coordinates if stations real coordinates must be hidden for safety or confidentiality. In that case, user can set the tuple X, Y values into reajust_coordinates parameter. If not given, X=0 and Y=0. \n",
    "\n",
    "Let’s do an example of scaling profile _K1.stn_:\n"
   ]
  },
  {
   "cell_type": "code",
   "execution_count": 106,
   "metadata": {
    "collapsed": true
   },
   "outputs": [
    {
     "ename": "ModuleNotFoundError",
     "evalue": "No module named 'pycsamt.viewer'",
     "output_type": "error",
     "traceback": [
      "\u001b[1;31m---------------------------------------------------------------------------\u001b[0m",
      "\u001b[1;31mModuleNotFoundError\u001b[0m                       Traceback (most recent call last)",
      "\u001b[1;32m<ipython-input-106-7b8945ccf26b>\u001b[0m in \u001b[0;36m<module>\u001b[1;34m\u001b[0m\n\u001b[0;32m      1\u001b[0m \u001b[1;31m# import required module\u001b[0m\u001b[1;33m\u001b[0m\u001b[1;33m\u001b[0m\u001b[1;33m\u001b[0m\u001b[0m\n\u001b[1;32m----> 2\u001b[1;33m \u001b[1;32mfrom\u001b[0m \u001b[0mpycsamt\u001b[0m\u001b[1;33m.\u001b[0m\u001b[0mviewer\u001b[0m\u001b[1;33m.\u001b[0m\u001b[0mplot\u001b[0m \u001b[1;32mimport\u001b[0m \u001b[0mPlot1d\u001b[0m\u001b[1;33m\u001b[0m\u001b[1;33m\u001b[0m\u001b[0m\n\u001b[0m\u001b[0;32m      3\u001b[0m \u001b[0mstraighten_out_mode\u001b[0m \u001b[1;33m=\u001b[0m\u001b[1;34m'classic'\u001b[0m \u001b[1;31m# can be 'natural/distord' or equidistant\u001b[0m\u001b[1;33m\u001b[0m\u001b[1;33m\u001b[0m\u001b[0m\n\u001b[0;32m      4\u001b[0m \u001b[1;31m# contrinute value for x,y coordinates hidden.\u001b[0m\u001b[1;33m\u001b[0m\u001b[1;33m\u001b[0m\u001b[1;33m\u001b[0m\u001b[0m\n\u001b[0;32m      5\u001b[0m \u001b[0madjust__x_utm_coordinates\u001b[0m \u001b[1;33m=\u001b[0m \u001b[1;33m-\u001b[0m\u001b[1;36m300238.702\u001b[0m\u001b[1;33m\u001b[0m\u001b[1;33m\u001b[0m\u001b[0m\n",
      "\u001b[1;31mModuleNotFoundError\u001b[0m: No module named 'pycsamt.viewer'"
     ]
    }
   ],
   "source": [
    "# import required module \n",
    "from pycsamt.viewer.plot import Plot1d\n",
    "straighten_out_mode ='classic' # can be 'natural/distord' or equidistant\n",
    "# contrinute value for x,y coordinates hidden. \n",
    "adjust__x_utm_coordinates = -300238.702 \n",
    "adjust__y_utm_coordinates = -2369.252\n",
    "get_new_station_profile =True \n",
    "Plot1d().plot_station_profile(fn = station_profile_file, \n",
    "reajust_coordinates=(adjust__x_utm_coordinates,\n",
    "                        adjust__y_utm_coordinates),\n",
    "                        straighten_type =straighten_out_mode , \n",
    "                        outputfile =get_new_station_profile, \n",
    "                        savefig=savepath\n",
    "                             )"
   ]
  },
  {
   "cell_type": "markdown",
   "metadata": {},
   "source": [
    "Setting `output-file` argument to `True`, assumes to rewrite a new station profile (.stn) . Many others arguments can be provided to control the output files. Refer to documentation for more explanation.\n",
    "\n",
    "**Note**: When object Profile is called, the program automatically scaled the raw station profile using default argument classic. If you don’t want to scale the coordinates values, add the word `_reaj` or` _sca` or `_cor`  to your profile name : For instance  , user  does not want to scale the station profile ‘K1.stn’ then its new profile name should be : `K1_reaj.stn` or `K1_cor.stn`  or `K1_sca.stn`. "
   ]
  },
  {
   "cell_type": "markdown",
   "metadata": {},
   "source": [
    "#### 4.7.2. Additional profile features \n",
    "With _*. edi_ files or  _*.j-file_  or _*.stn_ profile file ,  user can decide to visualize the topography, the station separation profile and azimuth of each survey line on the same graphical or individually using: \n"
   ]
  },
  {
   "cell_type": "code",
   "execution_count": 107,
   "metadata": {},
   "outputs": [
    {
     "ename": "ModuleNotFoundError",
     "evalue": "No module named 'pycsamt.viewer'",
     "output_type": "error",
     "traceback": [
      "\u001b[1;31m---------------------------------------------------------------------------\u001b[0m",
      "\u001b[1;31mModuleNotFoundError\u001b[0m                       Traceback (most recent call last)",
      "\u001b[1;32m<ipython-input-107-77eb5ffe34cb>\u001b[0m in \u001b[0;36m<module>\u001b[1;34m\u001b[0m\n\u001b[1;32m----> 1\u001b[1;33m \u001b[1;32mfrom\u001b[0m \u001b[0mpycsamt\u001b[0m\u001b[1;33m.\u001b[0m\u001b[0mviewer\u001b[0m\u001b[1;33m.\u001b[0m\u001b[0mplot\u001b[0m \u001b[1;32mimport\u001b[0m \u001b[0mPlot1d\u001b[0m\u001b[1;33m\u001b[0m\u001b[1;33m\u001b[0m\u001b[0m\n\u001b[0m\u001b[0;32m      2\u001b[0m \u001b[0mset_stnNames\u001b[0m \u001b[1;33m=\u001b[0m\u001b[1;32mTrue\u001b[0m \u001b[1;31m# show staion names labels\u001b[0m\u001b[1;33m\u001b[0m\u001b[1;33m\u001b[0m\u001b[0m\n\u001b[0;32m      3\u001b[0m \u001b[0mplot_type\u001b[0m \u001b[1;33m=\u001b[0m\u001b[1;34m'*'\u001b[0m \u001b[1;31m#or 123 or can be [Top|az|sep] or [1|2|3] for individually\u001b[0m\u001b[1;33m\u001b[0m\u001b[1;33m\u001b[0m\u001b[0m\n\u001b[0;32m      4\u001b[0m \u001b[0mpath_to_stn_profile_file\u001b[0m \u001b[1;33m=\u001b[0m \u001b[1;34m'data/avg/K1.stn'\u001b[0m\u001b[1;33m\u001b[0m\u001b[1;33m\u001b[0m\u001b[0m\n\u001b[0;32m      5\u001b[0m Plot1d().plot_topo_sep_azim(fn = None, # set edipath or jpath \n",
      "\u001b[1;31mModuleNotFoundError\u001b[0m: No module named 'pycsamt.viewer'"
     ]
    }
   ],
   "source": [
    "from pycsamt.viewer.plot import Plot1d \n",
    "set_stnNames =True # show staion names labels \n",
    "plot_type ='*' #or 123 or can be [Top|az|sep] or [1|2|3] for individually\n",
    "path_to_stn_profile_file = 'data/avg/K1.stn'\n",
    "Plot1d().plot_topo_sep_azim(fn = None, # set edipath or jpath \n",
    "                            profile_fn= path_to_stn_profile_file ,\n",
    "                            plot=plot_type,\n",
    "                            set_station_names=set_stnNames,\n",
    "                           )\n"
   ]
  },
  {
   "cell_type": "markdown",
   "metadata": {},
   "source": [
    "* Additionally, multi-lines plot is also possible using the plot_multiStations function by setting the directory path where profiles files are located to path argument. However, some specific lines can be plotted by setting   profile_lines parameters to enumerating a list of station profile name.  For this example, we intend to plot four (04) survey lines (K6.stn to K9.stn) on the same graphical."
   ]
  },
  {
   "cell_type": "code",
   "execution_count": 108,
   "metadata": {},
   "outputs": [
    {
     "ename": "ModuleNotFoundError",
     "evalue": "No module named 'pycsamt.viewer'",
     "output_type": "error",
     "traceback": [
      "\u001b[1;31m---------------------------------------------------------------------------\u001b[0m",
      "\u001b[1;31mModuleNotFoundError\u001b[0m                       Traceback (most recent call last)",
      "\u001b[1;32m<ipython-input-108-66d3591a8df5>\u001b[0m in \u001b[0;36m<module>\u001b[1;34m\u001b[0m\n\u001b[1;32m----> 1\u001b[1;33m \u001b[1;32mfrom\u001b[0m \u001b[0mpycsamt\u001b[0m\u001b[1;33m.\u001b[0m\u001b[0mviewer\u001b[0m\u001b[1;33m.\u001b[0m\u001b[0mplot\u001b[0m \u001b[1;32mimport\u001b[0m \u001b[0mPlot1d\u001b[0m\u001b[1;33m\u001b[0m\u001b[1;33m\u001b[0m\u001b[0m\n\u001b[0m\u001b[0;32m      2\u001b[0m \u001b[1;31m# path to profiles stn files location\u001b[0m\u001b[1;33m\u001b[0m\u001b[1;33m\u001b[0m\u001b[1;33m\u001b[0m\u001b[0m\n\u001b[0;32m      3\u001b[0m \u001b[0mpath_to_profiles\u001b[0m \u001b[1;33m=\u001b[0m \u001b[1;34m'data/stn_profiles'\u001b[0m\u001b[1;33m\u001b[0m\u001b[1;33m\u001b[0m\u001b[0m\n\u001b[0;32m      4\u001b[0m \u001b[1;31m# if you want to plot some specific profiles betwen many profiles\u001b[0m\u001b[1;33m\u001b[0m\u001b[1;33m\u001b[0m\u001b[1;33m\u001b[0m\u001b[0m\n\u001b[0;32m      5\u001b[0m  \u001b[1;31m# specify the profile lines Like ['K9.stn', 'K8.stn']\u001b[0m\u001b[1;33m\u001b[0m\u001b[1;33m\u001b[0m\u001b[1;33m\u001b[0m\u001b[0m\n",
      "\u001b[1;31mModuleNotFoundError\u001b[0m: No module named 'pycsamt.viewer'"
     ]
    }
   ],
   "source": [
    "from pycsamt.viewer.plot import Plot1d \n",
    "# path to profiles stn files location \n",
    "path_to_profiles = 'data/stn_profiles'\n",
    "# if you want to plot some specific profiles betwen many profiles \n",
    " # specify the profile lines Like ['K9.stn', 'K8.stn']\n",
    "profile_lines = ['K9.stn', 'K8.stn'] #profile_lines = ['K9.stn', 'K8.stn'] \n",
    "#scaled the line scale # can be `m` or `km` . Default is `m`\n",
    "scale ='km' \n",
    "#save figure \n",
    "savefig ='test_multisites.png'\n",
    "#set to False if you dont want to see stations labels \n",
    "show_station_labels = True \n",
    "Plot1d().plot_multiStations(path = path_to_profiles, \n",
    "                            profile_lines =profile_lines,\n",
    "                            scale =scale, \n",
    "                            savefig =savefig, \n",
    "                            show_station_labels = show_station_labels\n",
    "                           ) \n"
   ]
  },
  {
   "cell_type": "markdown",
   "metadata": {},
   "source": [
    "### 4.8.  Pseudo-cross-section of resistivity and phase\n",
    "\n",
    "The pseudo-section of resistivity and phase illustrate the lateral variation of the resistivity values and phase values through total frequencies and also give an overview of the distribution of resistivity anomalies in the area. Both graphical plots are visualized possible through the following line of code. We noticed that `delineate_phase` (in degree) and `delineate_resistivity` (in ohm-meters) are optional parameters."
   ]
  },
  {
   "cell_type": "code",
   "execution_count": null,
   "metadata": {},
   "outputs": [],
   "source": [
    "from pycsamt.viewer.plot import Plot2d\n",
    "Plot2d().pseudocrossResPhase(fn=edipath,\n",
    "                             delineate_phase =[45], \n",
    "                            delineate_resistivity=[1000]\n",
    "                            )\n"
   ]
  },
  {
   "cell_type": "markdown",
   "metadata": {},
   "source": [
    "## 5. Processing \n",
    "### 5.1. Plot static correction \n",
    "\n",
    "To plot static correction, the reference frequency is needed as well as the `number_of_points` param (for  `tma|flma` filters) and the `number_of_skin_depth` param (for `ama` filter). For the remainder, available CSAMT filters are _flma= fixed length-dipole moving average , tma=trimming moving-average , ama=adaptative moving average_. To having control of expected results, it’s better to provide dipole length value by setting `dipole_length` param (in meter). If not provided, dipole length will auto- computed. To also plot the three filters on the same graphical, user must set `ADD_FILTER` param with the joker `*`. For instance:"
   ]
  },
  {
   "cell_type": "code",
   "execution_count": 112,
   "metadata": {},
   "outputs": [
    {
     "ename": "ModuleNotFoundError",
     "evalue": "No module named 'pycsamt.viewer'",
     "output_type": "error",
     "traceback": [
      "\u001b[1;31m---------------------------------------------------------------------------\u001b[0m",
      "\u001b[1;31mModuleNotFoundError\u001b[0m                       Traceback (most recent call last)",
      "\u001b[1;32m<ipython-input-112-7879337fe971>\u001b[0m in \u001b[0;36m<module>\u001b[1;34m\u001b[0m\n\u001b[1;32m----> 1\u001b[1;33m \u001b[1;32mfrom\u001b[0m \u001b[0mpycsamt\u001b[0m\u001b[1;33m.\u001b[0m\u001b[0mviewer\u001b[0m\u001b[1;33m.\u001b[0m\u001b[0mplot\u001b[0m \u001b[1;32mimport\u001b[0m \u001b[0mPlot1d\u001b[0m\u001b[1;33m\u001b[0m\u001b[1;33m\u001b[0m\u001b[0m\n\u001b[0m\u001b[0;32m      2\u001b[0m \u001b[0medipath\u001b[0m \u001b[1;33m=\u001b[0m \u001b[1;34m'data/edi'\u001b[0m\u001b[1;33m\u001b[0m\u001b[1;33m\u001b[0m\u001b[0m\n\u001b[0;32m      3\u001b[0m Plot1d().plot_static_correction(ADD_FILTER='*', \n\u001b[0;32m      4\u001b[0m                                 \u001b[0mdata_fn\u001b[0m \u001b[1;33m=\u001b[0m\u001b[0medipath\u001b[0m\u001b[1;33m,\u001b[0m\u001b[1;33m\u001b[0m\u001b[1;33m\u001b[0m\u001b[0m\n\u001b[0;32m      5\u001b[0m                                 \u001b[0mfrequency_id\u001b[0m \u001b[1;33m=\u001b[0m \u001b[1;32mNone\u001b[0m \u001b[1;33m,\u001b[0m\u001b[1;33m\u001b[0m\u001b[1;33m\u001b[0m\u001b[0m\n",
      "\u001b[1;31mModuleNotFoundError\u001b[0m: No module named 'pycsamt.viewer'"
     ]
    }
   ],
   "source": [
    "from pycsamt.viewer.plot import Plot1d \n",
    "edipath = 'data/edi'\n",
    "Plot1d().plot_static_correction(ADD_FILTER='*', \n",
    "                                data_fn =edipath,\n",
    "                                frequency_id = None , \n",
    "                                number_of_points =7. , \n",
    "                                number_of_skin_depth =7. \n",
    "                             )\n"
   ]
  },
  {
   "cell_type": "markdown",
   "metadata": {},
   "source": [
    "### 5.2. Write corrected edi-files \n",
    "\n",
    "Module `pycsamt.ff.processing.corr.shifting.write_corrected_edi`  is used to correct _*.edi_  files, and to have control of output files. In addition to _ama, flma and tma_ filters, the software used filters proposed by Krigger and J.R peacob on MTpy software . `ss (static shift removal)` and `dist( distorsion removal )` filters are also suitable for MT data processing edi-files provided  are MT data . However, to correct  MT edi-files , we absolutely need (`reduce_res_factor_x` and `reduce_res_factor_y`  params for `ss` filters (default =1  if not given ) and (distortion_tensor and distortion_err_tensor) params for `dist` filters.\n",
    "For this example, we intend to correct raw   _*.edi_  files from line (K1) by applying the ama  filter at 7 skin depths with reference frequency equal to 8192. Hz.\n"
   ]
  },
  {
   "cell_type": "code",
   "execution_count": 111,
   "metadata": {
    "collapsed": true
   },
   "outputs": [
    {
     "name": "stdout",
     "output_type": "stream",
     "text": [
      "Number of edifiles or stations read successfully = <47>\n",
      "---------------------------------EDI MT FILE---------------------------------\n",
      "! ---> EDI file provided is MT data. Filter ama should be applied and Impedance tensor should be computed and corrected along the default  components`xy` as EMAP data with unknown strike direction.\n"
     ]
    },
    {
     "name": "stderr",
     "output_type": "stream",
     "text": [
      "..\\pycsamt\\ff\\processing\\corr.py:1114: UserWarning: !---> EDI file provided is MT data. Filter ama should be applied and Impedance tensor should be computed and corrected along the default  components`xy` as EMAP data with unknown strike direction.\n",
      "  warnings.warn('!'+ mess.format(_filter, datatype) )\n"
     ]
    },
    {
     "name": "stdout",
     "output_type": "stream",
     "text": [
      "Number of edifiles or stations read successfully = <47>\n",
      "** Filter's name               = Adaptative moving-average(AMA)\n",
      "Number of edifiles or stations read successfully = <47>\n",
      "---> Reference frequency is not in frequeny range frequency should be will be interpolated\n",
      "---> Input reference frequency <8192.0> Hz has been interpolated to < 8193.31 > Hz.\n",
      "** Reference frequency         = [8196.722] Hz.\n",
      "** Filter's width              = 268.72 m.\n",
      "-----------------------------------------------------------------------------\n",
      "---> Edifile <new_new_csa000.edi> has be successfully written to your savepath.\n",
      "---> savepath : <C:\\Users\\Administrator\\OneDrive\\Python\\pyCSAMT\\_outputEDI_>\n",
      "-----------------------------------------------------------------------------\n",
      "---> Edifile <new_new_csa050.edi> has be successfully written to your savepath.\n",
      "---> savepath : <C:\\Users\\Administrator\\OneDrive\\Python\\pyCSAMT\\_outputEDI_>\n",
      "-----------------------------------------------------------------------------\n",
      "---> Edifile <new_new_csa100.edi> has be successfully written to your savepath.\n",
      "---> savepath : <C:\\Users\\Administrator\\OneDrive\\Python\\pyCSAMT\\_outputEDI_>\n",
      "-----------------------------------------------------------------------------\n",
      "---> Edifile <new_new_csa150.edi> has be successfully written to your savepath.\n",
      "---> savepath : <C:\\Users\\Administrator\\OneDrive\\Python\\pyCSAMT\\_outputEDI_>\n",
      "-----------------------------------------------------------------------------\n",
      "---> Edifile <new_new_csa200.edi> has be successfully written to your savepath.\n",
      "---> savepath : <C:\\Users\\Administrator\\OneDrive\\Python\\pyCSAMT\\_outputEDI_>\n",
      "-----------------------------------------------------------------------------\n",
      "---> Edifile <new_new_csa250.edi> has be successfully written to your savepath.\n",
      "---> savepath : <C:\\Users\\Administrator\\OneDrive\\Python\\pyCSAMT\\_outputEDI_>\n",
      "-----------------------------------------------------------------------------\n",
      "---> Edifile <new_new_csa300.edi> has be successfully written to your savepath.\n",
      "---> savepath : <C:\\Users\\Administrator\\OneDrive\\Python\\pyCSAMT\\_outputEDI_>\n",
      "-----------------------------------------------------------------------------\n",
      "---> Edifile <new_new_csa350.edi> has be successfully written to your savepath.\n",
      "---> savepath : <C:\\Users\\Administrator\\OneDrive\\Python\\pyCSAMT\\_outputEDI_>\n",
      "-----------------------------------------------------------------------------\n",
      "---> Edifile <new_new_csa400.edi> has be successfully written to your savepath.\n",
      "---> savepath : <C:\\Users\\Administrator\\OneDrive\\Python\\pyCSAMT\\_outputEDI_>\n",
      "-----------------------------------------------------------------------------\n",
      "---> Edifile <new_new_csa450.edi> has be successfully written to your savepath.\n",
      "---> savepath : <C:\\Users\\Administrator\\OneDrive\\Python\\pyCSAMT\\_outputEDI_>\n",
      "-----------------------------------------------------------------------------\n",
      "---> Edifile <new_new_csa500.edi> has be successfully written to your savepath.\n",
      "---> savepath : <C:\\Users\\Administrator\\OneDrive\\Python\\pyCSAMT\\_outputEDI_>\n",
      "-----------------------------------------------------------------------------\n",
      "---> Edifile <new_new_csa550.edi> has be successfully written to your savepath.\n",
      "---> savepath : <C:\\Users\\Administrator\\OneDrive\\Python\\pyCSAMT\\_outputEDI_>\n",
      "-----------------------------------------------------------------------------\n",
      "---> Edifile <new_new_csa600.edi> has be successfully written to your savepath.\n",
      "---> savepath : <C:\\Users\\Administrator\\OneDrive\\Python\\pyCSAMT\\_outputEDI_>\n",
      "-----------------------------------------------------------------------------\n",
      "---> Edifile <new_new_csa650.edi> has be successfully written to your savepath.\n",
      "---> savepath : <C:\\Users\\Administrator\\OneDrive\\Python\\pyCSAMT\\_outputEDI_>\n",
      "-----------------------------------------------------------------------------\n",
      "---> Edifile <new_new_csa700.edi> has be successfully written to your savepath.\n",
      "---> savepath : <C:\\Users\\Administrator\\OneDrive\\Python\\pyCSAMT\\_outputEDI_>\n",
      "-----------------------------------------------------------------------------\n",
      "---> Edifile <new_new_csa750.edi> has be successfully written to your savepath.\n",
      "---> savepath : <C:\\Users\\Administrator\\OneDrive\\Python\\pyCSAMT\\_outputEDI_>\n",
      "-----------------------------------------------------------------------------\n",
      "---> Edifile <new_new_csa800.edi> has be successfully written to your savepath.\n",
      "---> savepath : <C:\\Users\\Administrator\\OneDrive\\Python\\pyCSAMT\\_outputEDI_>\n",
      "-----------------------------------------------------------------------------\n",
      "---> Edifile <new_new_csa850.edi> has be successfully written to your savepath.\n",
      "---> savepath : <C:\\Users\\Administrator\\OneDrive\\Python\\pyCSAMT\\_outputEDI_>\n",
      "-----------------------------------------------------------------------------\n",
      "---> Edifile <new_new_csa900.edi> has be successfully written to your savepath.\n",
      "---> savepath : <C:\\Users\\Administrator\\OneDrive\\Python\\pyCSAMT\\_outputEDI_>\n",
      "-----------------------------------------------------------------------------\n",
      "---> Edifile <new_new_csa950.edi> has be successfully written to your savepath.\n",
      "---> savepath : <C:\\Users\\Administrator\\OneDrive\\Python\\pyCSAMT\\_outputEDI_>\n",
      "-----------------------------------------------------------------------------\n",
      "---> Edifile <new_new_csb000.edi> has be successfully written to your savepath.\n",
      "---> savepath : <C:\\Users\\Administrator\\OneDrive\\Python\\pyCSAMT\\_outputEDI_>\n",
      "-----------------------------------------------------------------------------"
     ]
    },
    {
     "name": "stderr",
     "output_type": "stream",
     "text": [
      "..\\pycsamt\\ff\\core\\edi.py:936: UserWarning: It seems the path already exists !\n",
      "  warnings.warn(\"It seems the path already exists !\")\n"
     ]
    },
    {
     "name": "stdout",
     "output_type": "stream",
     "text": [
      "\n",
      "---> Edifile <new_new_csb050.edi> has be successfully written to your savepath.\n",
      "---> savepath : <C:\\Users\\Administrator\\OneDrive\\Python\\pyCSAMT\\_outputEDI_>\n",
      "-----------------------------------------------------------------------------\n",
      "---> Edifile <new_new_csb100.edi> has be successfully written to your savepath.\n",
      "---> savepath : <C:\\Users\\Administrator\\OneDrive\\Python\\pyCSAMT\\_outputEDI_>\n",
      "-----------------------------------------------------------------------------\n",
      "---> Edifile <new_new_csb150.edi> has be successfully written to your savepath.\n",
      "---> savepath : <C:\\Users\\Administrator\\OneDrive\\Python\\pyCSAMT\\_outputEDI_>\n",
      "-----------------------------------------------------------------------------\n",
      "---> Edifile <new_new_csb200.edi> has be successfully written to your savepath.\n",
      "---> savepath : <C:\\Users\\Administrator\\OneDrive\\Python\\pyCSAMT\\_outputEDI_>\n",
      "-----------------------------------------------------------------------------\n",
      "---> Edifile <new_new_csb250.edi> has be successfully written to your savepath.\n",
      "---> savepath : <C:\\Users\\Administrator\\OneDrive\\Python\\pyCSAMT\\_outputEDI_>\n",
      "-----------------------------------------------------------------------------\n",
      "---> Edifile <new_new_csb300.edi> has be successfully written to your savepath.\n",
      "---> savepath : <C:\\Users\\Administrator\\OneDrive\\Python\\pyCSAMT\\_outputEDI_>\n",
      "-----------------------------------------------------------------------------\n",
      "---> Edifile <new_new_csb350.edi> has be successfully written to your savepath.\n",
      "---> savepath : <C:\\Users\\Administrator\\OneDrive\\Python\\pyCSAMT\\_outputEDI_>\n",
      "-----------------------------------------------------------------------------\n",
      "---> Edifile <new_new_csb400.edi> has be successfully written to your savepath.\n",
      "---> savepath : <C:\\Users\\Administrator\\OneDrive\\Python\\pyCSAMT\\_outputEDI_>\n",
      "-----------------------------------------------------------------------------\n",
      "---> Edifile <new_new_csb450.edi> has be successfully written to your savepath.\n",
      "---> savepath : <C:\\Users\\Administrator\\OneDrive\\Python\\pyCSAMT\\_outputEDI_>\n",
      "-----------------------------------------------------------------------------\n",
      "---> Edifile <new_new_csb500.edi> has be successfully written to your savepath.\n",
      "---> savepath : <C:\\Users\\Administrator\\OneDrive\\Python\\pyCSAMT\\_outputEDI_>\n",
      "-----------------------------------------------------------------------------\n",
      "---> Edifile <new_new_csb550.edi> has be successfully written to your savepath.\n",
      "---> savepath : <C:\\Users\\Administrator\\OneDrive\\Python\\pyCSAMT\\_outputEDI_>\n",
      "-----------------------------------------------------------------------------\n",
      "---> Edifile <new_new_csb600.edi> has be successfully written to your savepath.\n",
      "---> savepath : <C:\\Users\\Administrator\\OneDrive\\Python\\pyCSAMT\\_outputEDI_>\n",
      "-----------------------------------------------------------------------------\n",
      "---> Edifile <new_new_csb650.edi> has be successfully written to your savepath.\n",
      "---> savepath : <C:\\Users\\Administrator\\OneDrive\\Python\\pyCSAMT\\_outputEDI_>\n",
      "-----------------------------------------------------------------------------\n",
      "---> Edifile <new_new_csb700.edi> has be successfully written to your savepath.\n",
      "---> savepath : <C:\\Users\\Administrator\\OneDrive\\Python\\pyCSAMT\\_outputEDI_>\n",
      "-----------------------------------------------------------------------------\n",
      "---> Edifile <new_new_csb750.edi> has be successfully written to your savepath.\n",
      "---> savepath : <C:\\Users\\Administrator\\OneDrive\\Python\\pyCSAMT\\_outputEDI_>\n",
      "-----------------------------------------------------------------------------\n",
      "---> Edifile <new_new_csb800.edi> has be successfully written to your savepath.\n",
      "---> savepath : <C:\\Users\\Administrator\\OneDrive\\Python\\pyCSAMT\\_outputEDI_>\n",
      "-----------------------------------------------------------------------------\n",
      "---> Edifile <new_new_csb850.edi> has be successfully written to your savepath.\n",
      "---> savepath : <C:\\Users\\Administrator\\OneDrive\\Python\\pyCSAMT\\_outputEDI_>\n",
      "-----------------------------------------------------------------------------\n",
      "---> Edifile <new_new_csb900.edi> has be successfully written to your savepath.\n",
      "---> savepath : <C:\\Users\\Administrator\\OneDrive\\Python\\pyCSAMT\\_outputEDI_>\n",
      "-----------------------------------------------------------------------------\n",
      "---> Edifile <new_new_csb950.edi> has be successfully written to your savepath.\n",
      "---> savepath : <C:\\Users\\Administrator\\OneDrive\\Python\\pyCSAMT\\_outputEDI_>\n",
      "-----------------------------------------------------------------------------\n",
      "---> Edifile <new_new_csc000.edi> has be successfully written to your savepath.\n",
      "---> savepath : <C:\\Users\\Administrator\\OneDrive\\Python\\pyCSAMT\\_outputEDI_>\n",
      "-----------------------------------------------------------------------------\n",
      "---> Edifile <new_new_csc050.edi> has be successfully written to your savepath.\n",
      "---> savepath : <C:\\Users\\Administrator\\OneDrive\\Python\\pyCSAMT\\_outputEDI_>\n",
      "-----------------------------------------------------------------------------\n",
      "---> Edifile <new_new_csc100.edi> has be successfully written to your savepath.\n",
      "---> savepath : <C:\\Users\\Administrator\\OneDrive\\Python\\pyCSAMT\\_outputEDI_>\n",
      "-----------------------------------------------------------------------------\n",
      "---> Edifile <new_new_csc150.edi> has be successfully written to your savepath.\n",
      "---> savepath : <C:\\Users\\Administrator\\OneDrive\\Python\\pyCSAMT\\_outputEDI_>\n",
      "-----------------------------------------------------------------------------\n",
      "---> Edifile <new_new_csc200.edi> has be successfully written to your savepath.\n",
      "---> savepath : <C:\\Users\\Administrator\\OneDrive\\Python\\pyCSAMT\\_outputEDI_>\n",
      "-----------------------------------------------------------------------------\n",
      "---> Edifile <new_new_csc250.edi> has be successfully written to your savepath.\n",
      "---> savepath : <C:\\Users\\Administrator\\OneDrive\\Python\\pyCSAMT\\_outputEDI_>\n",
      "-----------------------------------------------------------------------------\n",
      "---> Edifile <new_new_csc300.edi> has be successfully written to your savepath.\n",
      "---> savepath : <C:\\Users\\Administrator\\OneDrive\\Python\\pyCSAMT\\_outputEDI_>\n",
      "--> ! Filter `ama` is successfull done !\n",
      "** Filter                      = AMA\n",
      "** Type of correction          = Adaptative moving-average\n",
      "** Number of skin depth        = 3\n",
      "** Dipole length               = 50.0 m.\n",
      "** Reference frequency         = 8192.0 Hz.\n",
      "** Frequency numbers           = 17\n",
      "** Number of sites processed   = 47\n",
      "--> corrected edi  successfully done !\n",
      "-----------------------------------------------------------------------------\n"
     ]
    }
   ],
   "source": [
    "from pycsamt.ff.processing.corr import shifting\n",
    "edipath = 'data/edi'\n",
    "shifting().write_corrected_edi(data_fn =edipath, \n",
    "                                reference_frequency=8192., \n",
    "                                number_skin_depth=7., # can be 1 to 10\n",
    "                                dipole_length =50. , # dipole length in meter \n",
    "                                FILTER ='ama', \n",
    "                                savepath=savepath\n",
    "                              ) # save output corrected files \n"
   ]
  },
  {
   "cell_type": "markdown",
   "metadata": {},
   "source": [
    "### 5.3.  Plot and compare multiple corrections \n",
    "\n",
    "The better way to visualize the implementation of different filters is to create a loop of different corrected edi-path and to compare the expected results from uncorrected resistivities. For this example, we created a loop to only visualizing the pseudo-cross-section of apparent resistivity. Figure 09 illustrates an example of pseudo-cross-section of uncorrected apparent resistivities and the corrected resistivities using filters tma, flma, ama, of line K1. Before using this loop, user needs to write corrected edi from each filter above. \n"
   ]
  },
  {
   "cell_type": "code",
   "execution_count": 113,
   "metadata": {},
   "outputs": [
    {
     "ename": "ModuleNotFoundError",
     "evalue": "No module named 'pycsamt.viewer'",
     "output_type": "error",
     "traceback": [
      "\u001b[1;31m---------------------------------------------------------------------------\u001b[0m",
      "\u001b[1;31mModuleNotFoundError\u001b[0m                       Traceback (most recent call last)",
      "\u001b[1;32m<ipython-input-113-eb0ce09abac9>\u001b[0m in \u001b[0;36m<module>\u001b[1;34m\u001b[0m\n\u001b[1;32m----> 1\u001b[1;33m \u001b[1;32mfrom\u001b[0m \u001b[0mpycsamt\u001b[0m\u001b[1;33m.\u001b[0m\u001b[0mviewer\u001b[0m\u001b[1;33m.\u001b[0m\u001b[0mplot\u001b[0m \u001b[1;32mimport\u001b[0m \u001b[0mPlot2d\u001b[0m\u001b[1;33m\u001b[0m\u001b[1;33m\u001b[0m\u001b[0m\n\u001b[0m\u001b[0;32m      2\u001b[0m \u001b[0mcontouRes\u001b[0m \u001b[1;33m=\u001b[0m \u001b[1;36m1000.\u001b[0m \u001b[1;31m# resistivity in ohm.meters\u001b[0m\u001b[1;33m\u001b[0m\u001b[1;33m\u001b[0m\u001b[0m\n\u001b[0;32m      3\u001b[0m for path2edi_obj in [\n\u001b[0;32m      4\u001b[0m                     \u001b[1;34m'data/edi'\u001b[0m\u001b[1;33m,\u001b[0m \u001b[1;31m# uncorrected edifiles\u001b[0m\u001b[1;33m\u001b[0m\u001b[1;33m\u001b[0m\u001b[0m\n\u001b[0;32m      5\u001b[0m                     \u001b[1;34m'data/correctedEDI_TMA'\u001b[0m\u001b[1;33m,\u001b[0m \u001b[1;31m# edi corrected with tma filter\u001b[0m\u001b[1;33m\u001b[0m\u001b[1;33m\u001b[0m\u001b[0m\n",
      "\u001b[1;31mModuleNotFoundError\u001b[0m: No module named 'pycsamt.viewer'"
     ]
    }
   ],
   "source": [
    "from pycsamt.viewer.plot import Plot2d\n",
    "contouRes = 1000. # resistivity in ohm.meters \n",
    "for path2edi_obj in [\n",
    "                    'data/edi', # uncorrected edifiles \n",
    "                    'data/correctedEDI_TMA', # edi corrected with tma filter\n",
    "                    'data/correctedEDI_FLMA', # edi corrected with flma \n",
    "                    'data/correctedEDI_AMA', # edi corrected with ama \n",
    "                        ]:\n",
    "    \n",
    "    Plot2d().pseudocrossResPhase(fn=path2edi_obj,\n",
    "                                 delineate_resistivity=[1000] # delineate resistivity phase \n",
    "                                )\n"
   ]
  },
  {
   "cell_type": "markdown",
   "metadata": {},
   "source": [
    "## 6. Modeling with occam2D\n",
    "### 6.1. Build Occam2D input-files\n",
    "\n",
    "The software is able to  can  call  MTpy toolbox to build occam2d input files from S*.edi  files when using modeling sub-package. However, if MTpy is not installed yet, it's feasible to forthright run `pycsamt.modeling.occam2d.occam2d_write.buildingInputfiles` to automatically install the software and its dependencies.  However  we recommend to avoid conflict of packages  to set a new virtual environment (see software installation guide). Occam2d input files (_Occam2DMesh, Occam2DModel, Startup’, ‘OccamDataFile.dat'_ ) can be built by entering input parameters as below: \n"
   ]
  },
  {
   "cell_type": "code",
   "execution_count": 114,
   "metadata": {},
   "outputs": [
    {
     "ename": "ModuleNotFoundError",
     "evalue": "No module named 'pycsamt.modeling'",
     "output_type": "error",
     "traceback": [
      "\u001b[1;31m---------------------------------------------------------------------------\u001b[0m",
      "\u001b[1;31mModuleNotFoundError\u001b[0m                       Traceback (most recent call last)",
      "\u001b[1;32m<ipython-input-114-90458687af7a>\u001b[0m in \u001b[0;36m<module>\u001b[1;34m\u001b[0m\n\u001b[0;32m      1\u001b[0m \u001b[1;31m# import occam2d module\u001b[0m\u001b[1;33m\u001b[0m\u001b[1;33m\u001b[0m\u001b[1;33m\u001b[0m\u001b[0m\n\u001b[1;32m----> 2\u001b[1;33m \u001b[1;32mfrom\u001b[0m \u001b[0mpycsamt\u001b[0m\u001b[1;33m.\u001b[0m\u001b[0mmodeling\u001b[0m\u001b[1;33m.\u001b[0m\u001b[0moccam2d\u001b[0m \u001b[1;32mimport\u001b[0m \u001b[0moccam2d_write\u001b[0m\u001b[1;33m\u001b[0m\u001b[1;33m\u001b[0m\u001b[0m\n\u001b[0m\u001b[0;32m      3\u001b[0m occam2d_write.buildingInputfiles(edi_fn =edipath,\n\u001b[0;32m      4\u001b[0m                             \u001b[0mgeoelectric_strike\u001b[0m\u001b[1;33m=\u001b[0m \u001b[1;36m34.\u001b[0m\u001b[1;33m,\u001b[0m \u001b[1;31m# If None , should be 0.\u001b[0m\u001b[1;33m\u001b[0m\u001b[1;33m\u001b[0m\u001b[0m\n\u001b[0;32m      5\u001b[0m                             \u001b[0minterpolate_freq\u001b[0m\u001b[1;33m=\u001b[0m \u001b[1;32mTrue\u001b[0m\u001b[1;33m,\u001b[0m \u001b[1;31m# interpolate if you want\u001b[0m\u001b[1;33m\u001b[0m\u001b[1;33m\u001b[0m\u001b[0m\n",
      "\u001b[1;31mModuleNotFoundError\u001b[0m: No module named 'pycsamt.modeling'"
     ]
    }
   ],
   "source": [
    "# import occam2d module \n",
    "from pycsamt.modeling.occam2d import occam2d_write \n",
    "occam2d_write.buildingInputfiles(edi_fn =edipath,\n",
    "                            geoelectric_strike= 34., # If None , should be 0.\n",
    "                            interpolate_freq= True, # interpolate if you want\n",
    "                            intp_freq_logspace =(-1, 4, 17), \n",
    "                            iteration_to_run= 100., # number of iterations \n",
    "                            resistivity_start = 1., # in log10 resistivity \n",
    "                            res_tm_err= 10., # in %\n",
    "                            phase_tm_err= 20. , # in %\n",
    "                            occam_mode= '6', # see documentation\n",
    "                            n_layers =31. ,  # number of model layers \n",
    "                            cell_width = 5 ,  # \n",
    "                            x_pad_multiplier = 1.7, \n",
    "                            trigger =1.12, \n",
    "                            z_bottom =5000.,  # exaggerated depth bottom \n",
    "                            z1_layer =5.,  \t# first layer thickness \n",
    "                            z_target = 1100., # imaging depth (vertical z )\n",
    "                                )\n"
   ]
  },
  {
   "cell_type": "markdown",
   "metadata": {},
   "source": [
    "**Note**: For demonstration, we specified all parameter values to have control of what we expect to get. However, for the CSAMT survey, some parameters are defaults and optional. Refer to documentation for more details. The default savepath is ‘occam2dBuildInputfiles"
   ]
  },
  {
   "cell_type": "markdown",
   "metadata": {},
   "source": [
    "### 6.2. Plot RMS via occam2d log file \n",
    "\n",
    "Actually pyCSAMT cannot straightforwardly call OCCAM2D software to invert CSAMT data. However, we can get occam2d software though: https://marineemlab.ucsd.edu/Projects/Occam/index.html  and compile it afterwards to run it into your default platform (Linux or Window). When inversion files are created OCCAM 2D will provide iterations  files (_*.iter_) and response (_*.resp_) files and logfiles(_*.logfile_). \n",
    "Before plotting the expected model, it’s better to select among different iterations which model fits the best one. Moreover, the OCCAM2D logfile mostly named ‘logFile.logfile’ can be used to plot all iterations and roughness values self-contained in order to choose the preference model after inversion. Furthermore, the OCCAM2D preferred models are right chosen by combining the values of the root mean square (RMS) error and roughness, i.e. the preferred results must be the smallest roughness value at lower RMS level. Such model consequently avoids unnecessary structures but preserve higher resolution. \n",
    "The following line of codes below helps to implement the building RMS plot on figure 10. \n"
   ]
  },
  {
   "cell_type": "code",
   "execution_count": 115,
   "metadata": {},
   "outputs": [
    {
     "ename": "ModuleNotFoundError",
     "evalue": "No module named 'pycsamt.viewer'",
     "output_type": "error",
     "traceback": [
      "\u001b[1;31m---------------------------------------------------------------------------\u001b[0m",
      "\u001b[1;31mModuleNotFoundError\u001b[0m                       Traceback (most recent call last)",
      "\u001b[1;32m<ipython-input-115-82af5be9307e>\u001b[0m in \u001b[0;36m<module>\u001b[1;34m\u001b[0m\n\u001b[1;32m----> 1\u001b[1;33m \u001b[1;32mfrom\u001b[0m \u001b[0mpycsamt\u001b[0m\u001b[1;33m.\u001b[0m\u001b[0mviewer\u001b[0m\u001b[1;33m.\u001b[0m\u001b[0mplot\u001b[0m \u001b[1;32mimport\u001b[0m \u001b[0mPlot1d\u001b[0m\u001b[1;33m\u001b[0m\u001b[1;33m\u001b[0m\u001b[0m\n\u001b[0m\u001b[0;32m      2\u001b[0m \u001b[0mRMS_target\u001b[0m \u001b[1;33m=\u001b[0m\u001b[1;36m1.\u001b[0m \u001b[1;31m# Root Mean-square target , default is 1.0\u001b[0m\u001b[1;33m\u001b[0m\u001b[1;33m\u001b[0m\u001b[0m\n\u001b[0;32m      3\u001b[0m \u001b[0mshow_grid\u001b[0m \u001b[1;33m=\u001b[0m\u001b[1;32mFalse\u001b[0m \u001b[1;31m#set to let grid to be visible\u001b[0m\u001b[1;33m\u001b[0m\u001b[1;33m\u001b[0m\u001b[0m\n\u001b[0;32m      4\u001b[0m \u001b[0mshowTargetLine\u001b[0m\u001b[1;33m=\u001b[0m \u001b[1;32mTrue\u001b[0m \u001b[1;31m# show rms target line .\u001b[0m\u001b[1;33m\u001b[0m\u001b[1;33m\u001b[0m\u001b[0m\n\u001b[0;32m      5\u001b[0m \u001b[0msavefigure\u001b[0m \u001b[1;33m=\u001b[0m \u001b[0mos\u001b[0m\u001b[1;33m.\u001b[0m\u001b[0mpath\u001b[0m\u001b[1;33m.\u001b[0m\u001b[0mabspath\u001b[0m\u001b[1;33m(\u001b[0m\u001b[1;34m'./test_rmsplot.png'\u001b[0m\u001b[1;33m)\u001b[0m \u001b[1;31m# savepath\u001b[0m\u001b[1;33m\u001b[0m\u001b[1;33m\u001b[0m\u001b[0m\n",
      "\u001b[1;31mModuleNotFoundError\u001b[0m: No module named 'pycsamt.viewer'"
     ]
    }
   ],
   "source": [
    "from pycsamt.viewer.plot import Plot1d\n",
    "RMS_target =1. # Root Mean-square target , default is 1.0\n",
    "show_grid =False #set to let grid to be visible\n",
    "showTargetLine= True # show rms target line . \n",
    "savefigure = os.path.abspath('./test_rmsplot.png') # savepath \n",
    "Plot1d().plotRMS(fn ='data/occam2D/logFile.logfile', \n",
    "                target=RMS_target , \n",
    "                show_grid =show_grid,\n",
    "                show_target_line = showTargetLine,\n",
    "                savefig =savefigure\n",
    "                )\n"
   ]
  },
  {
   "cell_type": "markdown",
   "metadata": {},
   "source": [
    "**Note**: Note: For the following example we will use ITER17.iter as acceptable model. "
   ]
  },
  {
   "cell_type": "markdown",
   "metadata": {},
   "source": [
    "### 6.3. Plot occam2D model\n",
    "For the following demonstration we put occam2d inversion files into  kwargs arguments (`oc2d_inversion_kwargs` ) to avoid redundancy  in codes . \n",
    "For this example, we want to visualize a 2D resistivity model at `doi` = 1km depth. Let’s go ahead for the following’s scripts \n"
   ]
  },
  {
   "cell_type": "code",
   "execution_count": 116,
   "metadata": {},
   "outputs": [],
   "source": [
    "oc2d_inversion_kwargs={\n",
    "                     'data_fn':'OccamDataFile.dat',# occam2d data file  \n",
    "                     'mesh_fn': 'Occam2DMesh', # occam2d mesh file\n",
    "                     'model_fn':'Occam2DModel' , # occam2d model file\n",
    "                     'iter_fn': 'ITER17.iter',  #occam2d iteration file\n",
    "          }\n",
    "# join the occam2d directory with occam inversion files\n",
    " # to create a realpath for each file. \n",
    "for oc2dkey, inversion_file in oc2d_inversion_kwargs.items():\n",
    "    oc2d_inversion_kwargs[oc2dkey]= os.path.join('data/occam2D', inversion_file)\n"
   ]
  },
  {
   "cell_type": "code",
   "execution_count": 117,
   "metadata": {
    "collapsed": true
   },
   "outputs": [
    {
     "ename": "ModuleNotFoundError",
     "evalue": "No module named 'pycsamt.viewer'",
     "output_type": "error",
     "traceback": [
      "\u001b[1;31m---------------------------------------------------------------------------\u001b[0m",
      "\u001b[1;31mModuleNotFoundError\u001b[0m                       Traceback (most recent call last)",
      "\u001b[1;32m<ipython-input-117-e0e4339d30c8>\u001b[0m in \u001b[0;36m<module>\u001b[1;34m\u001b[0m\n\u001b[1;32m----> 1\u001b[1;33m \u001b[1;32mfrom\u001b[0m \u001b[0mpycsamt\u001b[0m\u001b[1;33m.\u001b[0m\u001b[0mviewer\u001b[0m\u001b[1;33m.\u001b[0m\u001b[0mplot\u001b[0m \u001b[1;32mimport\u001b[0m \u001b[0mPlot2d\u001b[0m\u001b[1;33m\u001b[0m\u001b[1;33m\u001b[0m\u001b[0m\n\u001b[0m\u001b[0;32m      2\u001b[0m Plot2d().plot_occam2dModel(**oc2d_inversion_kwargs, \n\u001b[0;32m      3\u001b[0m                             \u001b[0mdoi\u001b[0m \u001b[1;33m=\u001b[0m\u001b[1;34m'1km'\u001b[0m\u001b[1;33m,\u001b[0m \u001b[1;31m# depth of investigation\u001b[0m\u001b[1;33m\u001b[0m\u001b[1;33m\u001b[0m\u001b[0m\n\u001b[0;32m      4\u001b[0m                             \u001b[0mshow_report\u001b[0m \u001b[1;33m=\u001b[0m\u001b[1;32mTrue\u001b[0m \u001b[1;31m#Ground water report\u001b[0m\u001b[1;33m\u001b[0m\u001b[1;33m\u001b[0m\u001b[0m\n\u001b[0;32m      5\u001b[0m                           ) \n",
      "\u001b[1;31mModuleNotFoundError\u001b[0m: No module named 'pycsamt.viewer'"
     ]
    }
   ],
   "source": [
    "from pycsamt.viewer.plot import Plot2d \n",
    "Plot2d().plot_occam2dModel(**oc2d_inversion_kwargs, \n",
    "                            doi ='1km', # depth of investigation \n",
    "                            show_report =True #Ground water report\n",
    "                          ) \n"
   ]
  },
  {
   "cell_type": "markdown",
   "metadata": {},
   "source": [
    "### 6.4. Write model x,y,z files or Bo yang file\n",
    "\n",
    "The name of Bo Yang file or model x, y, z, is inspired of  MATLAB  Iter2dat  file, combined with MATLAB plotting tools written by Kerry Key (Scripps Institution of Oceanography Marine EM Laboratory | Research | Occam 2D MT Inversion (ucsd.edu). The codes have been rewritten in Python as   `Iter2Dat` python module, by adding others improvement tools.  However, the original MATLAB code is located on ‘add.info” directory of pyCSAMT package.  x, y, z output resistivity model can be used by suitable modeling external software to plot a 2D resistivity model. \n",
    "To create x,y,z resistivity model file from OCCAM2D inversion files , we need to import the required module `Iter2Dat` and follow the script below:\n"
   ]
  },
  {
   "cell_type": "code",
   "execution_count": 118,
   "metadata": {},
   "outputs": [
    {
     "ename": "ModuleNotFoundError",
     "evalue": "No module named 'pycsamt.modeling'",
     "output_type": "error",
     "traceback": [
      "\u001b[1;31m---------------------------------------------------------------------------\u001b[0m",
      "\u001b[1;31mModuleNotFoundError\u001b[0m                       Traceback (most recent call last)",
      "\u001b[1;32m<ipython-input-118-17a4fb505cc1>\u001b[0m in \u001b[0;36m<module>\u001b[1;34m\u001b[0m\n\u001b[1;32m----> 1\u001b[1;33m \u001b[1;32mfrom\u001b[0m \u001b[0mpycsamt\u001b[0m\u001b[1;33m.\u001b[0m\u001b[0mmodeling\u001b[0m\u001b[1;33m.\u001b[0m\u001b[0moccam2d\u001b[0m \u001b[1;32mimport\u001b[0m \u001b[0mIter2Dat\u001b[0m \u001b[1;32mas\u001b[0m \u001b[0mi2d\u001b[0m\u001b[1;33m\u001b[0m\u001b[1;33m\u001b[0m\u001b[0m\n\u001b[0m\u001b[0;32m      2\u001b[0m \u001b[1;31m# give an output file name, if None, will create automatically\u001b[0m\u001b[1;33m\u001b[0m\u001b[1;33m\u001b[0m\u001b[1;33m\u001b[0m\u001b[0m\n\u001b[0;32m      3\u001b[0m \u001b[0moutputfilename\u001b[0m \u001b[1;33m=\u001b[0m\u001b[1;34m'testi2d_area'\u001b[0m\u001b[1;33m\u001b[0m\u001b[1;33m\u001b[0m\u001b[0m\n\u001b[0;32m      4\u001b[0m \u001b[1;31m# scale the output data\u001b[0m\u001b[1;33m\u001b[0m\u001b[1;33m\u001b[0m\u001b[1;33m\u001b[0m\u001b[0m\n\u001b[0;32m      5\u001b[0m \u001b[0mscale_output\u001b[0m \u001b[1;33m=\u001b[0m\u001b[1;32mNone\u001b[0m \u001b[1;31m# if None, default is \"km\".can be \"m\"\u001b[0m\u001b[1;33m\u001b[0m\u001b[1;33m\u001b[0m\u001b[0m\n",
      "\u001b[1;31mModuleNotFoundError\u001b[0m: No module named 'pycsamt.modeling'"
     ]
    }
   ],
   "source": [
    "from pycsamt.modeling.occam2d import Iter2Dat as i2d\n",
    "# give an output file name, if None, will create automatically \n",
    "outputfilename ='testi2d_area' \n",
    "# scale the output data \n",
    "scale_output =None # if None, default is \"km\".can be \"m\" \n",
    "# imaging depth : Maximum depth investigation \n",
    "doi = '1km' # can be float like 1000 = 1km \n",
    " # provided elevation on list or array_like.\n",
    "elevation =None \n",
    "# create i2d or modelxyz object and entering aruments \n",
    "occam_iter2dat_obj =i2d(**oc2d_inversion_kwargs, \n",
    "                        savepath =savepath\n",
    "                       )\n",
    "# write iter2dat model file \n",
    "occam_iter2dat_obj.write_iter2dat_file(filename = outputfilename,\n",
    "                                    scale=scale_output, \n",
    "                                    doi=doi, \n",
    "                                    elevation=elevation\n",
    "                                      )\n"
   ]
  },
  {
   "cell_type": "markdown",
   "metadata": {},
   "source": [
    "### 6.5. Plot forward response and Residual \n",
    "\n",
    "After inversion, user can fast-forward plot the forward model and residual model to confirm existence of anomalies. The following output is just an example to implement the code by it does not reflect the effectiveness of data in that area. \n"
   ]
  },
  {
   "cell_type": "code",
   "execution_count": 119,
   "metadata": {},
   "outputs": [
    {
     "ename": "NameError",
     "evalue": "name 'Plot2d' is not defined",
     "output_type": "error",
     "traceback": [
      "\u001b[1;31m---------------------------------------------------------------------------\u001b[0m",
      "\u001b[1;31mNameError\u001b[0m                                 Traceback (most recent call last)",
      "\u001b[1;32m<ipython-input-119-8bfe3af4f86e>\u001b[0m in \u001b[0;36m<module>\u001b[1;34m\u001b[0m\n\u001b[0;32m      2\u001b[0m \u001b[0mshowReport\u001b[0m \u001b[1;33m=\u001b[0m \u001b[1;32mTrue\u001b[0m\u001b[1;33m\u001b[0m\u001b[1;33m\u001b[0m\u001b[0m\n\u001b[0;32m      3\u001b[0m \u001b[0msavefigure\u001b[0m \u001b[1;33m=\u001b[0m \u001b[0mos\u001b[0m\u001b[1;33m.\u001b[0m\u001b[0mpath\u001b[0m\u001b[1;33m.\u001b[0m\u001b[0mabspath\u001b[0m\u001b[1;33m(\u001b[0m\u001b[1;34m'./test_fwdresp.png'\u001b[0m\u001b[1;33m)\u001b[0m\u001b[1;33m\u001b[0m\u001b[1;33m\u001b[0m\u001b[0m\n\u001b[1;32m----> 4\u001b[1;33m Plot2d().plot_Response(\n\u001b[0m\u001b[0;32m      5\u001b[0m                 \u001b[0mdata_fn\u001b[0m \u001b[1;33m=\u001b[0m\u001b[1;34m'data/occam2D/OccamDataFile.dat'\u001b[0m\u001b[1;33m,\u001b[0m\u001b[1;33m\u001b[0m\u001b[1;33m\u001b[0m\u001b[0m\n\u001b[0;32m      6\u001b[0m                 \u001b[0mresponse_fn\u001b[0m \u001b[1;33m=\u001b[0m \u001b[1;34m'data/occam2D/RESP17.resp'\u001b[0m \u001b[1;33m,\u001b[0m\u001b[1;33m\u001b[0m\u001b[1;33m\u001b[0m\u001b[0m\n",
      "\u001b[1;31mNameError\u001b[0m: name 'Plot2d' is not defined"
     ]
    }
   ],
   "source": [
    "#import Required module\n",
    "from pycsamt.viewer.plot import Plot2d\n",
    "contourRes =None # res value in ohm m, can be 1000.\n",
    "showReport = True \n",
    "savefigure = os.path.abspath('./test_fwdresp.png') \n",
    "Plot2d().plot_Response(\n",
    "                data_fn ='data/occam2D/OccamDataFile.dat', \n",
    "                response_fn = 'data/occam2D/RESP17.resp' , \n",
    "                delineate_resistivity =contourRes , \n",
    "                show_report =showReport , \n",
    "                savefig =savefigure\n",
    ")\n"
   ]
  },
  {
   "cell_type": "markdown",
   "metadata": {},
   "source": [
    "## 7. GeoCore \n",
    "\n",
    "_geoCore_ sub-package mainly deals with geological data (_name of rocks, electrical properties of rocks_). The sub-package also intended to rebuild and plot borehole data obtained from investigation area through a parser file in _*.csv_ format. The resistivity 2D model from OCCAM2D inversion results can be transformed into _‘pseudo- stratigraphy log_’ with different layer names by adding truth resistivity (`input_resistivities`) values got on the field to emphasize real underground geological structures. Additionally, _geoCore_ generates new outputs such as a new resistivity model (`_rr model`) and residual model(`_sd model`) obtained by forcing the program to find close truth resistivity model from truth resistivity values inputted. Outputs resistivity models can be visualized by ‘Golden software’ and/or ‘Oasis montaj’ of Geosoft corporation.\n",
    "\n",
    "One of the main parameters to enhance a geophysical interpretation is `step_descent` parameter. Indeed, to create a new _resistivity model_, the program divides the input OCCAM2D resistivity model into different resistivities block models at different depth levels. The depth level where the program is assumed to break and to force (average + replaced + roughness) existing value to be close to _input true resistivity_ values is called step decent. The _step descent_ is a variation depth value i.e. the width of broken model block in meters. If step descent value trends to be 0. m, no difference will be found between new resistivity model and OCCAM2D inversion model. Also, if step descent value is too large, the new model trends to be far from the reality. However, the default threshold is **20%** of imaging depth. For instance, if image depth is 1km then `step_descent` should be 200 m. Consequently , to build or to output a new resistivity model file, a `step_descent` parameter is obviously needed.\n",
    "\n",
    "\n",
    "### 7.1. Build pseudo-stratigraphy log \n",
    "\n",
    "Generating a new resistivity model depend on specific values of geological and borehole/well information collected on survey area such as _true resistivity, rocks’ names, their electrical properties_ as well as some layer names. _True resistivity values_ (in Ω.m) and the layer names got from the hydrogeological firm and geological company respectively can be included into 2D inversion results. If layer names are not provided, the software will give a corresponding layer names according to standard electrical rock properties contained in inner database. For instance, we assume the following data  **_river water'(66,70Ω.m), 'fracture zone'(70-180 Ω.m), 'granite'(180-1000.Ω.m), Most weathered granite'(1000.-3000 Ω.m)and 'less weathered granite'(3000.-1000 Ω.m)_** are additional data collected during geophysical survey.\n",
    "\n",
    "To create a new model, the best tip is to input additional geological information’s (`additional_geological_infos`). into kwargs argument:\n"
   ]
  },
  {
   "cell_type": "code",
   "execution_count": 121,
   "metadata": {},
   "outputs": [],
   "source": [
    "# additional geological information collected \n",
    "INPUT_RESISTIVITIES = [66.,70., 180.,\n",
    "                     1000., 3000., 10000., 20000.] \n",
    "INPUT_LAYERS = ['river zone', 'fracture zone' , \n",
    "                'granite ', 'Most Weathered', \n",
    "                'Less Weathered'] \n",
    "STEP_DESCENT =200. # step descent in meters \n",
    "DOI ='1km' # investigation depth \n",
    "# create a kwargs arguments keys to hold additionals geological informations \n",
    "additional_geological_infos={\n",
    "                       'doi':DOI,\n",
    "                       'step_descent': STEP_DESCENT, \n",
    "                       'input_resistivities' : INPUT_RESISTIVITIES, \n",
    "                       'input_layers' : INPUT_LAYERS,\n",
    "             }\n"
   ]
  },
  {
   "cell_type": "markdown",
   "metadata": {},
   "source": [
    "* For demonstration, we intend to visualize at 1km  depth the stratigraphy log at station 43 . Furthermore, to plot pseudo-stratigraphy as well as to write new outputs models, it’s possible to use either OCCAM inversion results ( or x,y,z models outputs by setting xyz input files into kwargs arguments (i2d_files_kwargs) . Both will yield the same result. For instance, to plot pseudo-stratigraphy: \n",
    "\t* using xyz model or Bo yang file :\n"
   ]
  },
  {
   "cell_type": "code",
   "execution_count": 122,
   "metadata": {
    "collapsed": true
   },
   "outputs": [
    {
     "ename": "NameError",
     "evalue": "name 'Plot2d' is not defined",
     "output_type": "error",
     "traceback": [
      "\u001b[1;31m---------------------------------------------------------------------------\u001b[0m",
      "\u001b[1;31mNameError\u001b[0m                                 Traceback (most recent call last)",
      "\u001b[1;32m<ipython-input-122-e972a74f5309>\u001b[0m in \u001b[0;36m<module>\u001b[1;34m\u001b[0m\n\u001b[0;32m      5\u001b[0m }\n\u001b[0;32m      6\u001b[0m \u001b[1;31m# plot Pseulog of stratigraphy\u001b[0m\u001b[1;33m\u001b[0m\u001b[1;33m\u001b[0m\u001b[1;33m\u001b[0m\u001b[0m\n\u001b[1;32m----> 7\u001b[1;33m Plot2d().plot_Pseudolog(station_id = 'S43',\n\u001b[0m\u001b[0;32m      8\u001b[0m                         \u001b[1;33m**\u001b[0m\u001b[0madditional_geological_infos\u001b[0m\u001b[1;33m,\u001b[0m\u001b[1;33m\u001b[0m\u001b[1;33m\u001b[0m\u001b[0m\n\u001b[0;32m      9\u001b[0m                         \u001b[1;33m**\u001b[0m\u001b[0mi2d_files_kwargs\u001b[0m\u001b[1;33m\u001b[0m\u001b[1;33m\u001b[0m\u001b[0m\n",
      "\u001b[1;31mNameError\u001b[0m: name 'Plot2d' is not defined"
     ]
    }
   ],
   "source": [
    "# create kwargs argument for xyz model files \n",
    "i2d_files_kwargs={\n",
    "            'iter2dat_fn' : 'data/iter2dat/K1.iter.dat',\n",
    "             'bln_fn':'data/iter2dat/K1.bln'\n",
    "}\n",
    "# plot Pseulog of stratigraphy \n",
    "Plot2d().plot_Pseudolog(station_id = 'S43',\n",
    "                        **additional_geological_infos, \n",
    "                        **i2d_files_kwargs\n",
    "                       )\n"
   ]
  },
  {
   "cell_type": "markdown",
   "metadata": {},
   "source": [
    "* Plot using occam2d inversion files put in kwargs arguments."
   ]
  },
  {
   "cell_type": "code",
   "execution_count": 123,
   "metadata": {
    "collapsed": true
   },
   "outputs": [
    {
     "ename": "ModuleNotFoundError",
     "evalue": "No module named 'pycsamt.viewer'",
     "output_type": "error",
     "traceback": [
      "\u001b[1;31m---------------------------------------------------------------------------\u001b[0m",
      "\u001b[1;31mModuleNotFoundError\u001b[0m                       Traceback (most recent call last)",
      "\u001b[1;32m<ipython-input-123-58e743bcbc85>\u001b[0m in \u001b[0;36m<module>\u001b[1;34m\u001b[0m\n\u001b[0;32m      1\u001b[0m \u001b[1;31m#import required module to plot visualize station s43\u001b[0m\u001b[1;33m\u001b[0m\u001b[1;33m\u001b[0m\u001b[1;33m\u001b[0m\u001b[0m\n\u001b[1;32m----> 2\u001b[1;33m \u001b[1;32mfrom\u001b[0m \u001b[0mpycsamt\u001b[0m\u001b[1;33m.\u001b[0m\u001b[0mviewer\u001b[0m\u001b[1;33m.\u001b[0m\u001b[0mplot\u001b[0m \u001b[1;32mimport\u001b[0m \u001b[0mPlot2d\u001b[0m\u001b[1;33m\u001b[0m\u001b[1;33m\u001b[0m\u001b[0m\n\u001b[0m\u001b[0;32m      3\u001b[0m \u001b[1;31m# plot\u001b[0m\u001b[1;33m\u001b[0m\u001b[1;33m\u001b[0m\u001b[1;33m\u001b[0m\u001b[0m\n\u001b[0;32m      4\u001b[0m Plot2d().plot_Pseudolog(station_id = 'S43', # station to \n\u001b[0;32m      5\u001b[0m                         \u001b[1;33m**\u001b[0m\u001b[0madditional_geological_infos\u001b[0m\u001b[1;33m,\u001b[0m\u001b[1;33m\u001b[0m\u001b[1;33m\u001b[0m\u001b[0m\n",
      "\u001b[1;31mModuleNotFoundError\u001b[0m: No module named 'pycsamt.viewer'"
     ]
    }
   ],
   "source": [
    "#import required module to plot visualize station s43 \n",
    "from pycsamt.viewer.plot import Plot2d\n",
    "# plot \n",
    "Plot2d().plot_Pseudolog(station_id = 'S43', # station to \n",
    "                        **additional_geological_infos, \n",
    "                        **oc2d_inversion_kwargs\n",
    "                       )\n",
    "\n"
   ]
  },
  {
   "cell_type": "markdown",
   "metadata": {},
   "source": [
    "**Note**: If input resistivity values are not given, the program auto-works to find itself input resistivities. It analyses and sliced the resistivities according the existing gap between raw model resistivity and the time for computing little bit delays. Be cautious for automatic model generating because it does not much exactly the underground model.  To have full control of output and to get pseudo-obvious model, you need ABSOLUTELY to provide at least the input resistivities. "
   ]
  },
  {
   "cell_type": "markdown",
   "metadata": {},
   "source": [
    "### 7.2. Export stratigraphy model files\n",
    "\n",
    "New geological model can be exported to different external modeling software. The most common output read by most modeling software is the golden output.  The software outputs _04_ types of files which include the different steps of modeling. The first step is average rho model file (`*_aver.dat`) and the second step is roughness model file where the program finds a corresponding resistivity, roughs values and replaces it to the truth resistivity(`*_rr.dat`). The last one is the final true model. Besides this model, there is another model  called the step descent model (`*_sd.dat`) . In fact, this model is usefully to know the different zone where the program find difficulties to find the existing equivalent underground structures. Most  of case, step descent model  shows the effectiveness of existing anomalies like disconformities (fractures, dykes, faults and else). The final output is location output in _*.bln_ file (`*_yb.stn`).  For good visualization and to see the difference between the yielded models, it’s convenient to plot all individually.  \n",
    "Following on our same example, let import the required module Geodrill and try to export the new resistivity files to the different formats before creating a geological self-container object:\n"
   ]
  },
  {
   "cell_type": "code",
   "execution_count": 124,
   "metadata": {},
   "outputs": [
    {
     "ename": "ModuleNotFoundError",
     "evalue": "No module named 'pycsamt.geodrill'",
     "output_type": "error",
     "traceback": [
      "\u001b[1;31m---------------------------------------------------------------------------\u001b[0m",
      "\u001b[1;31mModuleNotFoundError\u001b[0m                       Traceback (most recent call last)",
      "\u001b[1;32m<ipython-input-124-a4f4070e4a9d>\u001b[0m in \u001b[0;36m<module>\u001b[1;34m\u001b[0m\n\u001b[0;32m      1\u001b[0m \u001b[1;31m# import geodrill module and create geo_object\u001b[0m\u001b[1;33m\u001b[0m\u001b[1;33m\u001b[0m\u001b[1;33m\u001b[0m\u001b[0m\n\u001b[1;32m----> 2\u001b[1;33m \u001b[1;32mfrom\u001b[0m \u001b[0mpycsamt\u001b[0m\u001b[1;33m.\u001b[0m\u001b[0mgeodrill\u001b[0m\u001b[1;33m.\u001b[0m\u001b[0mgeoCore\u001b[0m\u001b[1;33m.\u001b[0m\u001b[0mgeodrill\u001b[0m \u001b[1;32mimport\u001b[0m \u001b[0mGeodrill\u001b[0m\u001b[1;33m\u001b[0m\u001b[1;33m\u001b[0m\u001b[0m\n\u001b[0m\u001b[0;32m      3\u001b[0m  \u001b[1;31m# create a geological object from geodrill module\u001b[0m\u001b[1;33m\u001b[0m\u001b[1;33m\u001b[0m\u001b[1;33m\u001b[0m\u001b[0m\n\u001b[0;32m      4\u001b[0m \u001b[0mgeo_obj\u001b[0m \u001b[1;33m=\u001b[0m \u001b[0mGeodrill\u001b[0m\u001b[1;33m(\u001b[0m\u001b[1;33m**\u001b[0m\u001b[0moc2d_inversion_kwargs\u001b[0m \u001b[1;33m,\u001b[0m \u001b[1;33m**\u001b[0m\u001b[0madditional_geological_infos\u001b[0m\u001b[1;33m)\u001b[0m\u001b[1;33m\u001b[0m\u001b[1;33m\u001b[0m\u001b[0m\n",
      "\u001b[1;31mModuleNotFoundError\u001b[0m: No module named 'pycsamt.geodrill'"
     ]
    }
   ],
   "source": [
    "# import geodrill module and create geo_object \n",
    "from pycsamt.geodrill.geoCore.geodrill import Geodrill \n",
    "# create a geological object from geodrill module \n",
    "geo_obj = Geodrill(**oc2d_inversion_kwargs , **additional_geological_infos)\n"
   ]
  },
  {
   "cell_type": "markdown",
   "metadata": {},
   "source": [
    "#### 7.2.1. Output to golden software \n",
    "As we aforementioned, the output resistivity model read by modeling software is golden software outputs. Let’s try to outputs the fourth (04) models’ files enumerated above.\n"
   ]
  },
  {
   "cell_type": "code",
   "execution_count": 125,
   "metadata": {},
   "outputs": [
    {
     "ename": "NameError",
     "evalue": "name 'geo_obj' is not defined",
     "output_type": "error",
     "traceback": [
      "\u001b[1;31m---------------------------------------------------------------------------\u001b[0m",
      "\u001b[1;31mNameError\u001b[0m                                 Traceback (most recent call last)",
      "\u001b[1;32m<ipython-input-125-a7a1eb028b25>\u001b[0m in \u001b[0;36m<module>\u001b[1;34m\u001b[0m\n\u001b[0;32m      1\u001b[0m \u001b[1;31m# write common geological model file\u001b[0m\u001b[1;33m\u001b[0m\u001b[1;33m\u001b[0m\u001b[1;33m\u001b[0m\u001b[0m\n\u001b[1;32m----> 2\u001b[1;33m geo_obj.to_golden_software(filename= 'test_area', \n\u001b[0m\u001b[0;32m      3\u001b[0m                             \u001b[0mto_negative_depth\u001b[0m \u001b[1;33m=\u001b[0m\u001b[1;32mTrue\u001b[0m \u001b[1;33m,\u001b[0m \u001b[1;31m# default output\u001b[0m\u001b[1;33m\u001b[0m\u001b[1;33m\u001b[0m\u001b[0m\n\u001b[0;32m      4\u001b[0m                             \u001b[0msavepath\u001b[0m\u001b[1;33m=\u001b[0m\u001b[0msavepath\u001b[0m\u001b[1;33m\u001b[0m\u001b[1;33m\u001b[0m\u001b[0m\n\u001b[0;32m      5\u001b[0m                           )\n",
      "\u001b[1;31mNameError\u001b[0m: name 'geo_obj' is not defined"
     ]
    }
   ],
   "source": [
    "# write common geological model file \n",
    "geo_obj.to_golden_software(filename= 'test_area', \n",
    "                            to_negative_depth =True , # default output\n",
    "                            savepath=savepath\n",
    "                          )\n"
   ]
  },
  {
   "cell_type": "markdown",
   "metadata": {},
   "source": [
    "#### 7.2.2. Output to oasis montaj \n",
    "\n",
    "Oasis montaj output is little complex and very interesting for 3D map especially when multiples lines are carried out on survey area. The outputs on excel sheet in `*.xlsx` format or `*.csv` format and the default format is in `*.xlsx` .  when the output format is  `*.xlsx` , the resulting models are outputs in the main workbook which different sheet correspond to the model generated. (`_sd, _rr, or _aver` ). The file can be export to oasis montaj of Geosoft software to visualize the expected model. \n",
    "For consistently,  Oasis montaj output needs absolutely the station profile which  refers to coordinates location of each sites. However, if station profile does not exist, user can build `*.stn` file using Profile module to create one. It’s also possible to provide arrays of easting and northing coordinates which perfectly match the number of investigated sites. \n"
   ]
  },
  {
   "cell_type": "code",
   "execution_count": null,
   "metadata": {},
   "outputs": [],
   "source": [
    "# write oasis new geological model \n",
    "geo_obj.to_oasis_montaj(\n",
    "                        profile_fn ='data/avg/K1.stn', \n",
    "                        to_negative_depth =True , # default output\n",
    "                        to_log10=True, #output resistivity to log10 values \n",
    "                        filename ='test_area',\n",
    "                        savepath=savepath\n",
    "                       )\n"
   ]
  },
  {
   "cell_type": "markdown",
   "metadata": {},
   "source": [
    "#### 7.2.3. Export geosurface map from multi-lines from oasis outputs \n",
    "\n",
    "With multi survey lines performed on the area, user can output multiples oasis files using the same process below in 7.2.2. From these files, user can export several depth surface maps which is a horizontal section depth map where each section depth represents the combining underground information at each line. If the depth value i.e. the depth to image is not between values of verticals z-nodes, the depth value will be interpolated. Building geosurface map can help us to checkout the existing of deep anomalies like fractures of faults and to speculated about its depth. \n",
    "\n",
    "For instance, pour demonstration we want to export the both imaging depths ( 40 m and 100m , of 04 survey lines (K1 to K5))  located on `data/inputOas`  directory of the software.\n",
    "Note: It’s a good tip to keep  or add at the end line of each  oasis montaj  outputs ,  the  word `_cor_oas`. The default output  format of geosurface map is `csv` format and can be  change to `xlsx` . \n",
    "The lines of codes below allow to build a geosurface map: \n"
   ]
  },
  {
   "cell_type": "code",
   "execution_count": 126,
   "metadata": {},
   "outputs": [
    {
     "ename": "ModuleNotFoundError",
     "evalue": "No module named 'pycsamt.geodrill'",
     "output_type": "error",
     "traceback": [
      "\u001b[1;31m---------------------------------------------------------------------------\u001b[0m",
      "\u001b[1;31mModuleNotFoundError\u001b[0m                       Traceback (most recent call last)",
      "\u001b[1;32m<ipython-input-126-3981c9a1ef64>\u001b[0m in \u001b[0;36m<module>\u001b[1;34m\u001b[0m\n\u001b[0;32m      1\u001b[0m \u001b[1;31m# import geosurface object\u001b[0m\u001b[1;33m\u001b[0m\u001b[1;33m\u001b[0m\u001b[1;33m\u001b[0m\u001b[0m\n\u001b[1;32m----> 2\u001b[1;33m \u001b[1;32mfrom\u001b[0m \u001b[0mpycsamt\u001b[0m\u001b[1;33m.\u001b[0m\u001b[0mgeodrill\u001b[0m\u001b[1;33m.\u001b[0m\u001b[0mgeoCore\u001b[0m\u001b[1;33m.\u001b[0m\u001b[0mgeodrill\u001b[0m \u001b[1;32mimport\u001b[0m \u001b[0mGeosurface\u001b[0m\u001b[1;33m\u001b[0m\u001b[1;33m\u001b[0m\u001b[0m\n\u001b[0m\u001b[0;32m      3\u001b[0m \u001b[0mpath_to_oasisfiles\u001b[0m \u001b[1;33m=\u001b[0m\u001b[1;34m'data/InputOas'\u001b[0m \u001b[1;31m# loaction of oasis output files\u001b[0m\u001b[1;33m\u001b[0m\u001b[1;33m\u001b[0m\u001b[0m\n\u001b[0;32m      4\u001b[0m \u001b[1;31m# section depth map assumed to be 40 m and 100m .\u001b[0m\u001b[1;33m\u001b[0m\u001b[1;33m\u001b[0m\u001b[1;33m\u001b[0m\u001b[0m\n\u001b[0;32m      5\u001b[0m \u001b[0moutput_format\u001b[0m \u001b[1;33m=\u001b[0m\u001b[1;34m'.csv'\u001b[0m\u001b[1;33m\u001b[0m\u001b[1;33m\u001b[0m\u001b[0m\n",
      "\u001b[1;31mModuleNotFoundError\u001b[0m: No module named 'pycsamt.geodrill'"
     ]
    }
   ],
   "source": [
    "# import geosurface object \n",
    "from pycsamt.geodrill.geoCore.geodrill import Geosurface\n",
    "path_to_oasisfiles ='data/InputOas' # loaction of oasis output files\n",
    "# section depth map assumed to be 40 m and 100m .\n",
    "output_format ='.csv'\n",
    "values_for_imaging = [40.,100.]  # in meters \n",
    "# we create self container of geosurface object \n",
    "geo_surface_obj = Geosurface(\n",
    "                    path =path_to_oasisfiles, \n",
    "                    depth_values = values_for_imaging, \n",
    ")\n",
    "# write gesoruface file \n",
    "geo_surface_obj.write_file(\n",
    "                fileformat = output_format, \n",
    "                savepath =savepath \n",
    ")\n"
   ]
  },
  {
   "cell_type": "markdown",
   "metadata": {},
   "source": [
    "### 7.3. Build Borehole or well data and/or geochemistry sample\n",
    "\n",
    "To build borehole data from geological information and/or geochemistry sample from the survey area, user has two (02) possibilities: \n",
    "*\tbuild a borehole or/and geochemistry sample log manually: Indeed, user can build stratigraphy log step by step by inputting the value of top and bottom of each stratum by responding all queries suggested by the software. When values are set, the software will generate a well report and build log sheet for other purposes.  To build manually the borehole data, user must set ‘auto’ param from geoCore.geodrill.Drill module to False. \n",
    "\n",
    "*\tbuild a borehole or/and geochemistry sample data automatically: User needs to provide the parser file to easily write borehole data.  It’s can be on `*.csv` or  `*. JSON` format. Indeed, a parser file is a kind of file that includes the geological layers names with their specific thickness, the borehole coordinates, the dip and the geochemistry sample. When auto param is set to True (default), the software generated a drillhole data easily read by external software like drillhole add-on module of oasis montaj . An example of parser `*.csv` file (nbleDH.csv) is located in data/drill_example_files directory or illustration. In addition, the jocker `*`  is used to build all data i.e. _drill collar, drill geology, drill geochemistry sample, drill elevation,, and azimuth_. Please refer to our documentation to get more information about Drill module.\n",
    "\n",
    "The following lines of codes could give the expected results:\n"
   ]
  },
  {
   "cell_type": "code",
   "execution_count": 127,
   "metadata": {},
   "outputs": [
    {
     "ename": "NameError",
     "evalue": "name 'Drill' is not defined",
     "output_type": "error",
     "traceback": [
      "\u001b[1;31m---------------------------------------------------------------------------\u001b[0m",
      "\u001b[1;31mNameError\u001b[0m                                 Traceback (most recent call last)",
      "\u001b[1;32m<ipython-input-127-4de078f6eaf4>\u001b[0m in \u001b[0;36m<module>\u001b[1;34m\u001b[0m\n\u001b[0;32m      2\u001b[0m \u001b[0mbuild_borehole_auto\u001b[0m\u001b[1;33m=\u001b[0m\u001b[1;32mTrue\u001b[0m\u001b[1;33m\u001b[0m\u001b[1;33m\u001b[0m\u001b[0m\n\u001b[0;32m      3\u001b[0m  \u001b[1;31m# create a borehole object\u001b[0m\u001b[1;33m\u001b[0m\u001b[1;33m\u001b[0m\u001b[1;33m\u001b[0m\u001b[0m\n\u001b[1;32m----> 4\u001b[1;33m borehole_obj = Drill (well_filename= 'data/drill_example_files/nbleDH.csv', \n\u001b[0m\u001b[0;32m      5\u001b[0m auto= build_borehole_auto)\n\u001b[0;32m      6\u001b[0m \u001b[1;31m# data2write : which kind of data do you want to output ?\u001b[0m\u001b[1;33m\u001b[0m\u001b[1;33m\u001b[0m\u001b[1;33m\u001b[0m\u001b[0m\n",
      "\u001b[1;31mNameError\u001b[0m: name 'Drill' is not defined"
     ]
    }
   ],
   "source": [
    "# if set to False , user will add step by step all data with the layer thicknesses \n",
    "build_borehole_auto=True\n",
    " # create a borehole object \n",
    "borehole_obj = Drill (well_filename= 'data/drill_example_files/nbleDH.csv', \n",
    "                        auto= build_borehole_auto)\n",
    "# data2write : which kind of data do you want to output ?\n",
    "# borehole collar, geology? borehole geochemistry sample ? or borehole survey elevation ? \n",
    "kind_of_data2output = '*' # can be 'collar' `geology` , `sample`\n",
    "borehole_obj.writeDHData(data2write=kind_of_data2output, \n",
    "                        savepath = savepath \n",
    "                        )\n"
   ]
  },
  {
   "cell_type": "markdown",
   "metadata": {},
   "source": [
    "## 8. GeoDB : Update and upgrade the geodatabase\n",
    "\n",
    "geoDB or geodatabase integrates geological data obtained from field, wells and/or boreholes data into its own SQL database. The sub-package considers different geological layer names, station locations, and different 2D inversions results with their corresponding parameters. Each geological formation (rock or stratum) and its own electrical resistivity properties, its digital cartography map symbolization called FGDC (Digital cartographic Standard for Geological Map Symbolization), its pattern, its geological code, as well as its label, are included into the database. To update and updgrade the geodatabase , please refer to our wiki pages : https://github.com/WEgeophysics/pyCSAMT/wiki/How-pyCSAMT-works-%3F#update-and-upgrade-the-geodatabase \n",
    "\n"
   ]
  },
  {
   "cell_type": "markdown",
   "metadata": {},
   "source": [
    "## 9. Conclusion \n",
    "We just give an overview of main functionalities of pyCSAMT, however, browsing the package will let user to discover others add-on modules and their uses.  Have fun!\n"
   ]
  },
  {
   "cell_type": "code",
   "execution_count": null,
   "metadata": {},
   "outputs": [],
   "source": []
  }
 ],
 "metadata": {
  "kernelspec": {
   "display_name": "Python 3",
   "language": "python",
   "name": "python3"
  },
  "language_info": {
   "codemirror_mode": {
    "name": "ipython",
    "version": 3
   },
   "file_extension": ".py",
   "mimetype": "text/x-python",
   "name": "python",
   "nbconvert_exporter": "python",
   "pygments_lexer": "ipython3",
   "version": "3.7.6"
  }
 },
 "nbformat": 4,
 "nbformat_minor": 4
}
