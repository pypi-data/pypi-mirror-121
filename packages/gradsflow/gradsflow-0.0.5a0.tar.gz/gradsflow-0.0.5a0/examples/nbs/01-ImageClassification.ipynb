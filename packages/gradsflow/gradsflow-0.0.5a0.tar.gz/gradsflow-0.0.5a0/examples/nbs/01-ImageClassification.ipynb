{
 "cells": [
  {
   "cell_type": "markdown",
   "metadata": {},
   "source": [
    "First, install gradsflow\n",
    "\n",
    "`pip install git+https://github.com/gradsflow/gradsflow@main`"
   ]
  },
  {
   "cell_type": "code",
   "execution_count": null,
   "metadata": {
    "tags": []
   },
   "outputs": [],
   "source": [
    "import os\n",
    "import sys\n",
    "import warnings\n",
    "from pathlib import Path\n",
    "\n",
    "warnings.filterwarnings(\"ignore\")\n",
    "\n",
    "os.chdir(\"../../\")"
   ]
  },
  {
   "cell_type": "code",
   "execution_count": null,
   "metadata": {},
   "outputs": [],
   "source": [
    "import ray\n",
    "from flash.core.data.utils import download_data\n",
    "from flash.image import ImageClassificationData\n",
    "from gradsflow import AutoImageClassifier\n",
    "from gradsflow.data.image import image_dataset_from_directory"
   ]
  },
  {
   "cell_type": "markdown",
   "metadata": {},
   "source": [
    "Let's use `Hymenoptera` dataset provided by Flash which contain images of Ants and Bees for creating Image Classication Model."
   ]
  },
  {
   "cell_type": "code",
   "execution_count": null,
   "metadata": {},
   "outputs": [],
   "source": [
    "data_dir = (\n",
    "    \"/Users/aniket/personal/gradsflow/gradsflow/data/\"  # replace with your filepath\n",
    ")\n",
    "# download_data(\"https://pl-flash-data.s3.amazonaws.com/hymenoptera_data.zip\", data_dir)"
   ]
  },
  {
   "cell_type": "code",
   "execution_count": null,
   "metadata": {},
   "outputs": [],
   "source": [
    "train_data = image_dataset_from_directory(\n",
    "    f\"{data_dir}/hymenoptera_data/train/\", transform=True\n",
    ")\n",
    "train_dl = train_data[\"dl\"]\n",
    "\n",
    "val_data = image_dataset_from_directory(\n",
    "    f\"{data_dir}/hymenoptera_data/val/\", transform=True\n",
    ")\n",
    "val_dl = val_data[\"dl\"]"
   ]
  },
  {
   "cell_type": "code",
   "execution_count": null,
   "metadata": {},
   "outputs": [],
   "source": []
  },
  {
   "cell_type": "markdown",
   "metadata": {},
   "source": [
    "If you want to run Gradsflow on a remote server then first setup [ray cluster](https://docs.ray.io/en/master/cluster/index.html) and initialize ray with the remote address."
   ]
  },
  {
   "cell_type": "code",
   "execution_count": null,
   "metadata": {},
   "outputs": [],
   "source": [
    "# ray.init(address=\"REMOTE_IP_ADDR\")\n",
    "# ray.init(local_mode=True)"
   ]
  },
  {
   "cell_type": "markdown",
   "metadata": {},
   "source": [
    "To train an image classifier create an object of `AutoImageClassifier` and provide number of trials and timeout."
   ]
  },
  {
   "cell_type": "code",
   "execution_count": null,
   "metadata": {},
   "outputs": [],
   "source": [
    "model = AutoImageClassifier(\n",
    "    train_dataloader=train_dl,\n",
    "    val_dataloader=val_dl,\n",
    "    num_classes=2,\n",
    "    n_trials=1,\n",
    "    optimization_metric=\"val_accuracy\",\n",
    "    timeout=50,\n",
    ")"
   ]
  },
  {
   "cell_type": "code",
   "execution_count": null,
   "metadata": {},
   "outputs": [],
   "source": [
    "print(\"AutoImageClassifier initialised!\")\n",
    "model.hp_tune(trainer_config={\"fast_dev_run\": True})\n",
    "print(\"completed!\")"
   ]
  },
  {
   "cell_type": "code",
   "execution_count": null,
   "metadata": {},
   "outputs": [],
   "source": [
    "ray.shutdown()"
   ]
  },
  {
   "cell_type": "code",
   "execution_count": null,
   "metadata": {},
   "outputs": [],
   "source": []
  }
 ],
 "metadata": {
  "interpreter": {
   "hash": "e17e8ddb8e7e3d1a1a4bbb9c7550f3ca117d116d32699553134de11279a06996"
  },
  "kernelspec": {
   "display_name": "Python 3 (ipykernel)",
   "language": "python",
   "name": "python3"
  },
  "language_info": {
   "codemirror_mode": {
    "name": "ipython",
    "version": 3
   },
   "file_extension": ".py",
   "mimetype": "text/x-python",
   "name": "python",
   "nbconvert_exporter": "python",
   "pygments_lexer": "ipython3",
   "version": "3.8.11"
  },
  "toc": {
   "base_numbering": 1,
   "nav_menu": {},
   "number_sections": true,
   "sideBar": true,
   "skip_h1_title": false,
   "title_cell": "Table of Contents",
   "title_sidebar": "Contents",
   "toc_cell": false,
   "toc_position": {},
   "toc_section_display": true,
   "toc_window_display": false
  }
 },
 "nbformat": 4,
 "nbformat_minor": 4
}
