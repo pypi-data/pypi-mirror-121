{
 "cells": [
  {
   "cell_type": "markdown",
   "id": "ab395ea3",
   "metadata": {},
   "source": [
    "- DatasetFolder\n",
    "\n",
    "```directory/\n",
    "├── class_x\n",
    "│   ├── xxx.ext\n",
    "│   ├── xxy.ext\n",
    "│   └── ...\n",
    "│       └── xxz.ext\n",
    "└── class_y\n",
    "    ├── 123.ext\n",
    "    ├── nsdf3.ext\n",
    "    └── ...\n",
    "    └── asd932_.ext\n",
    "```\n",
    "\n",
    "- ImageFolder\n",
    "\n",
    "```\n",
    "root/dog/xxx.png\n",
    "root/dog/xxy.png\n",
    "root/dog/[...]/xxz.png\n",
    "\n",
    "root/cat/123.png\n",
    "root/cat/nsdf3.png\n",
    "root/cat/[...]/asd932_.png\n",
    "```"
   ]
  },
  {
   "cell_type": "code",
   "execution_count": null,
   "id": "341edd1a",
   "metadata": {},
   "outputs": [],
   "source": [
    "import os\n",
    "\n",
    "os.chdir(\"../../\")"
   ]
  },
  {
   "cell_type": "code",
   "execution_count": null,
   "id": "dc8d1c7e",
   "metadata": {},
   "outputs": [],
   "source": [
    "from torch.utils.data import DataLoader\n",
    "from gradsflow import data\n",
    "from gradsflow.data.image import (\n",
    "    ImageFolder,\n",
    "    image_dataset_from_directory,\n",
    "    get_augmentations,\n",
    ")\n",
    "from torchvision import transforms as T"
   ]
  },
  {
   "cell_type": "code",
   "execution_count": null,
   "id": "3ee42d58",
   "metadata": {},
   "outputs": [],
   "source": [
    "transforms = get_augmentations()\n",
    "\n",
    "\n",
    "ds = ImageFolder(\"/Users/aniket/Pictures/data/train/\", transforms)"
   ]
  },
  {
   "cell_type": "code",
   "execution_count": null,
   "id": "dd56eeae",
   "metadata": {},
   "outputs": [],
   "source": [
    "iter_ds = iter(ds)"
   ]
  },
  {
   "cell_type": "code",
   "execution_count": null,
   "id": "8fd9dc20",
   "metadata": {},
   "outputs": [],
   "source": [
    "# next(ds.ds.iter_rows())"
   ]
  },
  {
   "cell_type": "code",
   "execution_count": null,
   "id": "1b49f35d",
   "metadata": {},
   "outputs": [],
   "source": [
    "T.ToPILImage()(next(iter_ds)[0])"
   ]
  },
  {
   "cell_type": "code",
   "execution_count": null,
   "id": "39b25f24",
   "metadata": {},
   "outputs": [],
   "source": []
  },
  {
   "cell_type": "code",
   "execution_count": null,
   "id": "2670e9fd",
   "metadata": {},
   "outputs": [],
   "source": []
  },
  {
   "cell_type": "code",
   "execution_count": null,
   "id": "80de5ab2",
   "metadata": {},
   "outputs": [],
   "source": [
    "torch_dl = ds.ds.to_torch(label_column=\"label\")"
   ]
  },
  {
   "cell_type": "code",
   "execution_count": null,
   "id": "2fd4a659",
   "metadata": {},
   "outputs": [],
   "source": [
    "for e in torch_dl:\n",
    "    print(e)"
   ]
  },
  {
   "cell_type": "code",
   "execution_count": null,
   "id": "3d3908be",
   "metadata": {},
   "outputs": [],
   "source": []
  },
  {
   "cell_type": "code",
   "execution_count": null,
   "id": "6b60a7fe",
   "metadata": {},
   "outputs": [],
   "source": [
    "next(iter(dl))"
   ]
  },
  {
   "cell_type": "code",
   "execution_count": null,
   "id": "528acd9f",
   "metadata": {},
   "outputs": [],
   "source": []
  },
  {
   "cell_type": "code",
   "execution_count": null,
   "id": "73e59216",
   "metadata": {},
   "outputs": [],
   "source": []
  },
  {
   "cell_type": "code",
   "execution_count": null,
   "id": "67f1e5b4",
   "metadata": {},
   "outputs": [],
   "source": [
    "dl = DataLoader(ds, batch_size=2, num_workers=2)"
   ]
  },
  {
   "cell_type": "code",
   "execution_count": null,
   "id": "574ebbf3",
   "metadata": {},
   "outputs": [],
   "source": []
  },
  {
   "cell_type": "code",
   "execution_count": null,
   "id": "0dc8c3be",
   "metadata": {},
   "outputs": [],
   "source": []
  },
  {
   "cell_type": "code",
   "execution_count": null,
   "id": "7a4feaf6",
   "metadata": {},
   "outputs": [],
   "source": []
  },
  {
   "cell_type": "code",
   "execution_count": null,
   "id": "2dfcba8f",
   "metadata": {},
   "outputs": [],
   "source": [
    "# next(iter(dl))[0].shape"
   ]
  },
  {
   "cell_type": "code",
   "execution_count": null,
   "id": "3fa55018",
   "metadata": {},
   "outputs": [],
   "source": [
    "dl = image_dataset_from_directory(\n",
    "    \"/Users/aniket/Pictures/data/train/\",\n",
    "    transforms=transforms,\n",
    "    num_workers=0,\n",
    "    pin_memory=False,\n",
    ")"
   ]
  },
  {
   "cell_type": "code",
   "execution_count": null,
   "id": "aa5c1b9f",
   "metadata": {},
   "outputs": [],
   "source": [
    "next(iter(dl))"
   ]
  },
  {
   "cell_type": "code",
   "execution_count": null,
   "id": "0c142c28",
   "metadata": {},
   "outputs": [],
   "source": []
  }
 ],
 "metadata": {
  "kernelspec": {
   "display_name": "Python 3 (ipykernel)",
   "language": "python",
   "name": "python3"
  },
  "language_info": {
   "codemirror_mode": {
    "name": "ipython",
    "version": 3
   },
   "file_extension": ".py",
   "mimetype": "text/x-python",
   "name": "python",
   "nbconvert_exporter": "python",
   "pygments_lexer": "ipython3",
   "version": "3.8.11"
  }
 },
 "nbformat": 4,
 "nbformat_minor": 5
}
