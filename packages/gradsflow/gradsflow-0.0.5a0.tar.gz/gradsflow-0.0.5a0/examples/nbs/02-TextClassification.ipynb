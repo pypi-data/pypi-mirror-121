{
 "cells": [
  {
   "cell_type": "code",
   "execution_count": null,
   "id": "db99df7e-6248-47af-abbd-db4449d0ee66",
   "metadata": {},
   "outputs": [],
   "source": [
    "import os\n",
    "import sys\n",
    "\n",
    "os.chdir(\"../../\")"
   ]
  },
  {
   "cell_type": "code",
   "execution_count": null,
   "id": "1dca2ab6-d842-49bf-ae76-a2501eddb4a1",
   "metadata": {},
   "outputs": [],
   "source": [
    "import warnings\n",
    "\n",
    "warnings.filterwarnings(\"ignore\")"
   ]
  },
  {
   "cell_type": "code",
   "execution_count": null,
   "id": "f3e84c48-de41-41bb-adef-551937adcbe7",
   "metadata": {},
   "outputs": [],
   "source": [
    "from flash.core.data.utils import download_data\n",
    "from flash.text import TextClassificationData\n",
    "from gradsflow import AutoTextClassifier"
   ]
  },
  {
   "cell_type": "code",
   "execution_count": null,
   "id": "5680efb8-cc0b-48c8-ab5f-17728f16b9bd",
   "metadata": {},
   "outputs": [],
   "source": [
    "# download_data(\"https://pl-flash-data.s3.amazonaws.com/imdb.zip\", \"./data/\")\n",
    "\n",
    "datamodule = TextClassificationData.from_csv(\n",
    "    \"review\",\n",
    "    \"sentiment\",\n",
    "    train_file=\"data/imdb/train.csv\",\n",
    "    val_file=\"data/imdb/valid.csv\",\n",
    ")"
   ]
  },
  {
   "cell_type": "code",
   "execution_count": null,
   "id": "ed689bfd-471a-4048-b729-3583f0471f6e",
   "metadata": {},
   "outputs": [],
   "source": [
    "suggested_conf = dict(\n",
    "    optimizers=[\"adam\"],\n",
    "    lr=(5e-4, 1e-3),\n",
    ")\n",
    "\n",
    "model = AutoTextClassifier(\n",
    "    datamodule,\n",
    "    suggested_backbones=[\"sgugger/tiny-distilbert-classification\"],\n",
    "    suggested_conf=suggested_conf,\n",
    "    max_epochs=1,\n",
    "    optimization_metric=\"val_accuracy\",\n",
    "    timeout=5,\n",
    ")\n",
    "\n",
    "print(\"AutoTextClassifier initialised!\")\n",
    "model.hp_tune()"
   ]
  },
  {
   "cell_type": "code",
   "execution_count": null,
   "id": "098206d0-2b9c-42fb-8fd9-1a92b6519d72",
   "metadata": {},
   "outputs": [],
   "source": []
  }
 ],
 "metadata": {
  "kernelspec": {
   "display_name": "Python 3",
   "language": "python",
   "name": "python3"
  },
  "language_info": {
   "codemirror_mode": {
    "name": "ipython",
    "version": 3
   },
   "file_extension": ".py",
   "mimetype": "text/x-python",
   "name": "python",
   "nbconvert_exporter": "python",
   "pygments_lexer": "ipython3",
   "version": "3.7.10"
  }
 },
 "nbformat": 4,
 "nbformat_minor": 5
}
