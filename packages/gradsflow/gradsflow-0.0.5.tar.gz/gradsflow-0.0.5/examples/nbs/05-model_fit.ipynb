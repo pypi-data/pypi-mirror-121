{
 "cells": [
  {
   "cell_type": "code",
   "execution_count": null,
   "id": "27ee9943",
   "metadata": {},
   "outputs": [],
   "source": [
    "import os\n",
    "import sys\n",
    "import warnings\n",
    "from pathlib import Path\n",
    "\n",
    "warnings.filterwarnings(\"ignore\")\n",
    "\n",
    "os.chdir(\"../../\")\n",
    "# sys.path.append()"
   ]
  },
  {
   "cell_type": "code",
   "execution_count": null,
   "id": "f7a24b9b",
   "metadata": {},
   "outputs": [],
   "source": [
    "from gradsflow.data.image import image_dataset_from_directory\n",
    "from gradsflow.core.data import AutoDataset\n",
    "from gradsflow import Model\n",
    "import timm\n",
    "\n",
    "import torch\n",
    "import torchvision"
   ]
  },
  {
   "cell_type": "code",
   "execution_count": null,
   "id": "36dd0452",
   "metadata": {},
   "outputs": [],
   "source": [
    "data_dir = \"/Users/aniket/personal/gradsflow/gradsflow/data\"  # replace with your filepath"
   ]
  },
  {
   "cell_type": "code",
   "execution_count": null,
   "id": "83456abf",
   "metadata": {},
   "outputs": [],
   "source": [
    "train_data = image_dataset_from_directory(\n",
    "    f\"{data_dir}/hymenoptera_data/train/\",\n",
    "    image_size=(96, 96),\n",
    "    num_workers=None,\n",
    "    transform=True,\n",
    "    batch_size=4,\n",
    "    shuffle=True,\n",
    ")\n",
    "\n",
    "val_data = image_dataset_from_directory(\n",
    "    f\"{data_dir}/hymenoptera_data/val/\",\n",
    "    image_size=(96, 96),\n",
    "    num_workers=None,\n",
    "    transform=True,\n",
    ")\n",
    "\n",
    "train_dataset = train_data[\"ds\"]\n",
    "train_dl = train_data[\"dl\"]\n",
    "val_dl = val_data[\"dl\"]\n",
    "num_classes = len(train_dataset.classes)\n",
    "autodataset = AutoDataset(train_dl, num_classes=num_classes)"
   ]
  },
  {
   "cell_type": "code",
   "execution_count": null,
   "id": "2a12d8cc",
   "metadata": {},
   "outputs": [],
   "source": [
    "cnn = timm.create_model(\"ssl_resnet18\", pretrained=True, num_classes=2)\n",
    "model = Model(cnn, \"adam\")"
   ]
  },
  {
   "cell_type": "code",
   "execution_count": null,
   "id": "9585b2de",
   "metadata": {},
   "outputs": [
    {
     "data": {
      "text/html": [
       "<pre style=\"white-space:pre;overflow-x:auto;line-height:normal;font-family:Menlo,'DejaVu Sans Mono',consolas,'Courier New',monospace\"><span style=\"color: #800000; text-decoration-color: #800000\">Learning...</span>  <span style=\"color: #729c1f; text-decoration-color: #729c1f\">━━━━━━━━━━━━━━━━━━━━━━━━━━━━━━━━━━━━━━━━</span>    <span style=\"color: #800080; text-decoration-color: #800080\">100%</span>  <span style=\"color: #008080; text-decoration-color: #008080\">0:00:00</span> ┏━━━━━━━┳━━━━━━━━━━━━┓\n",
       "                                                                       ┃<span style=\"font-weight: bold\"> epoch </span>┃<span style=\"font-weight: bold\"> train/loss </span>┃\n",
       "                                                                       ┡━━━━━━━╇━━━━━━━━━━━━┩\n",
       "                                                                       │ 9     │  0.956     │\n",
       "                                                                       └───────┴────────────┘\n",
       "</pre>\n"
      ],
      "text/plain": [
       "\u001b[31mLearning...\u001b[0m  \u001b[38;2;114;156;31m━━━━━━━━━━━━━━━━━━━━━━━━━━━━━━━━━━━━━━━━\u001b[0m    \u001b[35m100%\u001b[0m  \u001b[36m0:00:00\u001b[0m ┏━━━━━━━┳━━━━━━━━━━━━┓\n",
       "                                                                       ┃\u001b[1m \u001b[0m\u001b[1mepoch\u001b[0m\u001b[1m \u001b[0m┃\u001b[1m \u001b[0m\u001b[1mtrain/loss\u001b[0m\u001b[1m \u001b[0m┃\n",
       "                                                                       ┡━━━━━━━╇━━━━━━━━━━━━┩\n",
       "                                                                       │ 9     │  0.956     │\n",
       "                                                                       └───────┴────────────┘\n"
      ]
     },
     "metadata": {},
     "output_type": "display_data"
    },
    {
     "name": "stdout",
     "output_type": "stream",
     "text": [
      "Finished Training\n"
     ]
    },
    {
     "data": {
      "text/plain": [
       "Tracker(max_epochs=10, epoch=9, steps_per_epoch=2, train=TrackingValues(loss=0.9556465220246099, steps=3, step_loss=None), val=TrackingValues(loss=None, steps=None, step_loss=None))"
      ]
     },
     "execution_count": null,
     "metadata": {},
     "output_type": "execute_result"
    }
   ],
   "source": [
    "model.fit(\n",
    "    autodataset,\n",
    "    epochs=10,\n",
    "    steps_per_epoch=2,\n",
    ")"
   ]
  },
  {
   "cell_type": "code",
   "execution_count": null,
   "id": "4882a6d0",
   "metadata": {},
   "outputs": [
    {
     "data": {
      "text/html": [
       "<pre style=\"white-space:pre;overflow-x:auto;line-height:normal;font-family:Menlo,'DejaVu Sans Mono',consolas,'Courier New',monospace\"><span style=\"color: #800000; text-decoration-color: #800000\">Learning...</span>  <span style=\"color: #f92672; text-decoration-color: #f92672\">━━━━━━━━━━━━━━━━━━━━━━━━━━━━━━</span><span style=\"color: #3a3a3a; text-decoration-color: #3a3a3a\">╺━━━━━━━━━</span>    <span style=\"color: #800080; text-decoration-color: #800080\"> 75%</span>  <span style=\"color: #008080; text-decoration-color: #008080\">-:--:--</span> ┏━━━━━━━┳━━━━━━━━━━━━┓\n",
       "                                                                       ┃<span style=\"font-weight: bold\"> epoch </span>┃<span style=\"font-weight: bold\"> train/loss </span>┃\n",
       "                                                                       ┡━━━━━━━╇━━━━━━━━━━━━┩\n",
       "                                                                       │ 9     │  0.375     │\n",
       "                                                                       └───────┴────────────┘\n",
       "<span style=\"color: #008000; text-decoration-color: #008000\">Training...</span>  <span style=\"color: #3a3a3a; text-decoration-color: #3a3a3a\">━━━━━━━━━━━━━━━━━━━━━━━━━━━━━━━━━━━━━━━━</span>    <span style=\"color: #800080; text-decoration-color: #800080\">  0%</span>  <span style=\"color: #008080; text-decoration-color: #008080\">-:--:--</span> ┏━━━━━━━┳━━━━━━━━━━━━┓\n",
       "                                                                       ┃<span style=\"font-weight: bold\"> epoch </span>┃<span style=\"font-weight: bold\"> train/loss </span>┃\n",
       "                                                                       ┡━━━━━━━╇━━━━━━━━━━━━┩\n",
       "                                                                       │ 9     │  0.375     │\n",
       "                                                                       └───────┴────────────┘\n",
       "</pre>\n"
      ],
      "text/plain": [
       "\u001b[31mLearning...\u001b[0m  \u001b[38;2;249;38;114m━━━━━━━━━━━━━━━━━━━━━━━━━━━━━━\u001b[0m\u001b[38;5;237m╺\u001b[0m\u001b[38;5;237m━━━━━━━━━\u001b[0m    \u001b[35m 75%\u001b[0m  \u001b[36m-:--:--\u001b[0m ┏━━━━━━━┳━━━━━━━━━━━━┓\n",
       "                                                                       ┃\u001b[1m \u001b[0m\u001b[1mepoch\u001b[0m\u001b[1m \u001b[0m┃\u001b[1m \u001b[0m\u001b[1mtrain/loss\u001b[0m\u001b[1m \u001b[0m┃\n",
       "                                                                       ┡━━━━━━━╇━━━━━━━━━━━━┩\n",
       "                                                                       │ 9     │  0.375     │\n",
       "                                                                       └───────┴────────────┘\n",
       "\u001b[32mTraining...\u001b[0m  \u001b[38;5;237m━━━━━━━━━━━━━━━━━━━━━━━━━━━━━━━━━━━━━━━━\u001b[0m    \u001b[35m  0%\u001b[0m  \u001b[36m-:--:--\u001b[0m ┏━━━━━━━┳━━━━━━━━━━━━┓\n",
       "                                                                       ┃\u001b[1m \u001b[0m\u001b[1mepoch\u001b[0m\u001b[1m \u001b[0m┃\u001b[1m \u001b[0m\u001b[1mtrain/loss\u001b[0m\u001b[1m \u001b[0m┃\n",
       "                                                                       ┡━━━━━━━╇━━━━━━━━━━━━┩\n",
       "                                                                       │ 9     │  0.375     │\n",
       "                                                                       └───────┴────────────┘\n"
      ]
     },
     "metadata": {},
     "output_type": "display_data"
    }
   ],
   "source": [
    "model.fit(\n",
    "    autodataset,\n",
    "    epochs=12,\n",
    "    steps_per_epoch=2,\n",
    ")"
   ]
  }
 ],
 "metadata": {
  "kernelspec": {
   "display_name": "Python 3 (ipykernel)",
   "language": "python",
   "name": "python3"
  },
  "language_info": {
   "codemirror_mode": {
    "name": "ipython",
    "version": 3
   },
   "file_extension": ".py",
   "mimetype": "text/x-python",
   "name": "python",
   "nbconvert_exporter": "python",
   "pygments_lexer": "ipython3",
   "version": "3.8.11"
  },
  "toc": {
   "base_numbering": 1,
   "nav_menu": {},
   "number_sections": true,
   "sideBar": true,
   "skip_h1_title": false,
   "title_cell": "Table of Contents",
   "title_sidebar": "Contents",
   "toc_cell": false,
   "toc_position": {},
   "toc_section_display": true,
   "toc_window_display": false
  }
 },
 "nbformat": 4,
 "nbformat_minor": 5
}
